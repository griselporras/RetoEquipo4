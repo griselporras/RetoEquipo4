{
  "nbformat": 4,
  "nbformat_minor": 0,
  "metadata": {
    "colab": {
      "name": "Copia de Reto_Joaquín.ipynb",
      "provenance": [],
      "collapsed_sections": []
    },
    "kernelspec": {
      "name": "python3",
      "display_name": "Python 3"
    },
    "language_info": {
      "name": "python"
    }
  },
  "cells": [
    {
      "cell_type": "markdown",
      "source": [
        "# Entregable Etapa 3 Joaquín Bravo\n",
        "Integrantes:\n",
        "\n",
        "Joaquín Bravo García A00830890\n",
        "\n",
        "Grisel Andrea Porras Franco A00830414\n",
        "\n",
        "David Basilo Rodríguez Cortez A00830940\n",
        "\n",
        "Eder Gersahi Martínez León A00831442\n",
        "\n",
        "Giselle Sabbagh Debernardi A00831817\n",
        "\n"
      ],
      "metadata": {
        "id": "VqdicH8iapKY"
      }
    },
    {
      "cell_type": "code",
      "source": [
        "from google.colab import drive\n",
        "drive.mount('/content/drive')"
      ],
      "metadata": {
        "colab": {
          "base_uri": "https://localhost:8080/"
        },
        "id": "LheA-trv03U7",
        "outputId": "a1d10f1f-059f-4dce-cf92-10b820f114e2"
      },
      "execution_count": null,
      "outputs": [
        {
          "output_type": "stream",
          "name": "stdout",
          "text": [
            "Mounted at /content/drive\n"
          ]
        }
      ]
    },
    {
      "cell_type": "code",
      "source": [
        "import pandas as pd\n",
        "import numpy as np\n",
        "import matplotlib.pyplot as plt\n"
      ],
      "metadata": {
        "id": "jZ627gXI0-LV"
      },
      "execution_count": null,
      "outputs": []
    },
    {
      "cell_type": "code",
      "source": [
        "df = pd.read_csv('/content/drive/Shareddrives/Análisis de ciencia de datos/df_limpio.csv')\n",
        "df"
      ],
      "metadata": {
        "colab": {
          "base_uri": "https://localhost:8080/",
          "height": 572
        },
        "id": "v2zvOpMQ1GRy",
        "outputId": "723eef3f-4c9a-463c-e88a-efab68946460"
      },
      "execution_count": null,
      "outputs": [
        {
          "output_type": "execute_result",
          "data": {
            "text/plain": [
              "     Carrera/Titulación             Carrera Gestional        Especialidad  \\\n",
              "0       Ing. Industrial               Ing. Industrial  Ingenierías Target   \n",
              "1       Ing. Industrial               Ing. Industrial  Ingenierías Target   \n",
              "2       Ing. Industrial               Ing. Industrial  Ingenierías Target   \n",
              "3      Ing. Mecatrónica  Ing. Mecatrónica/Electrónica  Ingenierías Target   \n",
              "4     Comercio Exterior      Negocios Internacionales            Negocios   \n",
              "...                 ...                           ...                 ...   \n",
              "2326     Administración               Administración             Negocios   \n",
              "2327     Administración               Administración             Negocios   \n",
              "2328     Administración               Administración             Negocios   \n",
              "2329     Administración               Administración             Negocios   \n",
              "2330     Administración               Administración             Negocios   \n",
              "\n",
              "          Vacante  Avance  Semestres Totales  Evaluados Si/No  \\\n",
              "0     Practicante       7               10.0                1   \n",
              "1     Practicante       6                9.0                1   \n",
              "2     Profesional       8                9.0                0   \n",
              "3     Practicante       6                9.0                1   \n",
              "4     Practicante       7               10.0                1   \n",
              "...           ...     ...                ...              ...   \n",
              "2326  Practicante       6               10.0                0   \n",
              "2327  Practicante       6               10.0                0   \n",
              "2328  Practicante       8               10.0                0   \n",
              "2329  Practicante       8               10.0                0   \n",
              "2330  Practicante       7               10.0                0   \n",
              "\n",
              "      Altamente Recomendado  Operaciones-Calidad  MTTO-DIMA  \\\n",
              "0                         1                    2          1   \n",
              "1                         1                    2          0   \n",
              "2                         0                    0          0   \n",
              "3                         1                    2          2   \n",
              "4                         0                    0          0   \n",
              "...                     ...                  ...        ...   \n",
              "2326                      0                    0          0   \n",
              "2327                      0                    0          0   \n",
              "2328                      0                    0          0   \n",
              "2329                      0                    0          0   \n",
              "2330                      0                    0          0   \n",
              "\n",
              "      Comercial-Planeamiento  DIGI-SC  Resto-Soft  Actividad Grupal.1  Ingles  \\\n",
              "0                          2        0           0                   5       2   \n",
              "1                          0        0           0                   5       2   \n",
              "2                          0        0           0                   0       1   \n",
              "3                          0        1           2                   5       2   \n",
              "4                          0        0           0                   0       1   \n",
              "...                      ...      ...         ...                 ...     ...   \n",
              "2326                       0        0           0                   0       1   \n",
              "2327                       0        0           0                   0       1   \n",
              "2328                       0        0           0                   0       1   \n",
              "2329                       0        0           0                   0       1   \n",
              "2330                       0        0           0                   0       1   \n",
              "\n",
              "      Destacado  Ingresados Si/No  Apto  Apto suma  \n",
              "0             1                 1     2         13  \n",
              "1             1                 0     2         10  \n",
              "2             0                 0     0          1  \n",
              "3             1                 1     2         13  \n",
              "4             0                 0     0          1  \n",
              "...         ...               ...   ...        ...  \n",
              "2326          0                 0     0          1  \n",
              "2327          0                 0     0          1  \n",
              "2328          0                 0     0          1  \n",
              "2329          0                 0     0          1  \n",
              "2330          0                 0     0          1  \n",
              "\n",
              "[2331 rows x 19 columns]"
            ],
            "text/html": [
              "\n",
              "  <div id=\"df-df161f32-8a22-4c30-b9bf-de15793c4948\">\n",
              "    <div class=\"colab-df-container\">\n",
              "      <div>\n",
              "<style scoped>\n",
              "    .dataframe tbody tr th:only-of-type {\n",
              "        vertical-align: middle;\n",
              "    }\n",
              "\n",
              "    .dataframe tbody tr th {\n",
              "        vertical-align: top;\n",
              "    }\n",
              "\n",
              "    .dataframe thead th {\n",
              "        text-align: right;\n",
              "    }\n",
              "</style>\n",
              "<table border=\"1\" class=\"dataframe\">\n",
              "  <thead>\n",
              "    <tr style=\"text-align: right;\">\n",
              "      <th></th>\n",
              "      <th>Carrera/Titulación</th>\n",
              "      <th>Carrera Gestional</th>\n",
              "      <th>Especialidad</th>\n",
              "      <th>Vacante</th>\n",
              "      <th>Avance</th>\n",
              "      <th>Semestres Totales</th>\n",
              "      <th>Evaluados Si/No</th>\n",
              "      <th>Altamente Recomendado</th>\n",
              "      <th>Operaciones-Calidad</th>\n",
              "      <th>MTTO-DIMA</th>\n",
              "      <th>Comercial-Planeamiento</th>\n",
              "      <th>DIGI-SC</th>\n",
              "      <th>Resto-Soft</th>\n",
              "      <th>Actividad Grupal.1</th>\n",
              "      <th>Ingles</th>\n",
              "      <th>Destacado</th>\n",
              "      <th>Ingresados Si/No</th>\n",
              "      <th>Apto</th>\n",
              "      <th>Apto suma</th>\n",
              "    </tr>\n",
              "  </thead>\n",
              "  <tbody>\n",
              "    <tr>\n",
              "      <th>0</th>\n",
              "      <td>Ing. Industrial</td>\n",
              "      <td>Ing. Industrial</td>\n",
              "      <td>Ingenierías Target</td>\n",
              "      <td>Practicante</td>\n",
              "      <td>7</td>\n",
              "      <td>10.0</td>\n",
              "      <td>1</td>\n",
              "      <td>1</td>\n",
              "      <td>2</td>\n",
              "      <td>1</td>\n",
              "      <td>2</td>\n",
              "      <td>0</td>\n",
              "      <td>0</td>\n",
              "      <td>5</td>\n",
              "      <td>2</td>\n",
              "      <td>1</td>\n",
              "      <td>1</td>\n",
              "      <td>2</td>\n",
              "      <td>13</td>\n",
              "    </tr>\n",
              "    <tr>\n",
              "      <th>1</th>\n",
              "      <td>Ing. Industrial</td>\n",
              "      <td>Ing. Industrial</td>\n",
              "      <td>Ingenierías Target</td>\n",
              "      <td>Practicante</td>\n",
              "      <td>6</td>\n",
              "      <td>9.0</td>\n",
              "      <td>1</td>\n",
              "      <td>1</td>\n",
              "      <td>2</td>\n",
              "      <td>0</td>\n",
              "      <td>0</td>\n",
              "      <td>0</td>\n",
              "      <td>0</td>\n",
              "      <td>5</td>\n",
              "      <td>2</td>\n",
              "      <td>1</td>\n",
              "      <td>0</td>\n",
              "      <td>2</td>\n",
              "      <td>10</td>\n",
              "    </tr>\n",
              "    <tr>\n",
              "      <th>2</th>\n",
              "      <td>Ing. Industrial</td>\n",
              "      <td>Ing. Industrial</td>\n",
              "      <td>Ingenierías Target</td>\n",
              "      <td>Profesional</td>\n",
              "      <td>8</td>\n",
              "      <td>9.0</td>\n",
              "      <td>0</td>\n",
              "      <td>0</td>\n",
              "      <td>0</td>\n",
              "      <td>0</td>\n",
              "      <td>0</td>\n",
              "      <td>0</td>\n",
              "      <td>0</td>\n",
              "      <td>0</td>\n",
              "      <td>1</td>\n",
              "      <td>0</td>\n",
              "      <td>0</td>\n",
              "      <td>0</td>\n",
              "      <td>1</td>\n",
              "    </tr>\n",
              "    <tr>\n",
              "      <th>3</th>\n",
              "      <td>Ing. Mecatrónica</td>\n",
              "      <td>Ing. Mecatrónica/Electrónica</td>\n",
              "      <td>Ingenierías Target</td>\n",
              "      <td>Practicante</td>\n",
              "      <td>6</td>\n",
              "      <td>9.0</td>\n",
              "      <td>1</td>\n",
              "      <td>1</td>\n",
              "      <td>2</td>\n",
              "      <td>2</td>\n",
              "      <td>0</td>\n",
              "      <td>1</td>\n",
              "      <td>2</td>\n",
              "      <td>5</td>\n",
              "      <td>2</td>\n",
              "      <td>1</td>\n",
              "      <td>1</td>\n",
              "      <td>2</td>\n",
              "      <td>13</td>\n",
              "    </tr>\n",
              "    <tr>\n",
              "      <th>4</th>\n",
              "      <td>Comercio Exterior</td>\n",
              "      <td>Negocios Internacionales</td>\n",
              "      <td>Negocios</td>\n",
              "      <td>Practicante</td>\n",
              "      <td>7</td>\n",
              "      <td>10.0</td>\n",
              "      <td>1</td>\n",
              "      <td>0</td>\n",
              "      <td>0</td>\n",
              "      <td>0</td>\n",
              "      <td>0</td>\n",
              "      <td>0</td>\n",
              "      <td>0</td>\n",
              "      <td>0</td>\n",
              "      <td>1</td>\n",
              "      <td>0</td>\n",
              "      <td>0</td>\n",
              "      <td>0</td>\n",
              "      <td>1</td>\n",
              "    </tr>\n",
              "    <tr>\n",
              "      <th>...</th>\n",
              "      <td>...</td>\n",
              "      <td>...</td>\n",
              "      <td>...</td>\n",
              "      <td>...</td>\n",
              "      <td>...</td>\n",
              "      <td>...</td>\n",
              "      <td>...</td>\n",
              "      <td>...</td>\n",
              "      <td>...</td>\n",
              "      <td>...</td>\n",
              "      <td>...</td>\n",
              "      <td>...</td>\n",
              "      <td>...</td>\n",
              "      <td>...</td>\n",
              "      <td>...</td>\n",
              "      <td>...</td>\n",
              "      <td>...</td>\n",
              "      <td>...</td>\n",
              "      <td>...</td>\n",
              "    </tr>\n",
              "    <tr>\n",
              "      <th>2326</th>\n",
              "      <td>Administración</td>\n",
              "      <td>Administración</td>\n",
              "      <td>Negocios</td>\n",
              "      <td>Practicante</td>\n",
              "      <td>6</td>\n",
              "      <td>10.0</td>\n",
              "      <td>0</td>\n",
              "      <td>0</td>\n",
              "      <td>0</td>\n",
              "      <td>0</td>\n",
              "      <td>0</td>\n",
              "      <td>0</td>\n",
              "      <td>0</td>\n",
              "      <td>0</td>\n",
              "      <td>1</td>\n",
              "      <td>0</td>\n",
              "      <td>0</td>\n",
              "      <td>0</td>\n",
              "      <td>1</td>\n",
              "    </tr>\n",
              "    <tr>\n",
              "      <th>2327</th>\n",
              "      <td>Administración</td>\n",
              "      <td>Administración</td>\n",
              "      <td>Negocios</td>\n",
              "      <td>Practicante</td>\n",
              "      <td>6</td>\n",
              "      <td>10.0</td>\n",
              "      <td>0</td>\n",
              "      <td>0</td>\n",
              "      <td>0</td>\n",
              "      <td>0</td>\n",
              "      <td>0</td>\n",
              "      <td>0</td>\n",
              "      <td>0</td>\n",
              "      <td>0</td>\n",
              "      <td>1</td>\n",
              "      <td>0</td>\n",
              "      <td>0</td>\n",
              "      <td>0</td>\n",
              "      <td>1</td>\n",
              "    </tr>\n",
              "    <tr>\n",
              "      <th>2328</th>\n",
              "      <td>Administración</td>\n",
              "      <td>Administración</td>\n",
              "      <td>Negocios</td>\n",
              "      <td>Practicante</td>\n",
              "      <td>8</td>\n",
              "      <td>10.0</td>\n",
              "      <td>0</td>\n",
              "      <td>0</td>\n",
              "      <td>0</td>\n",
              "      <td>0</td>\n",
              "      <td>0</td>\n",
              "      <td>0</td>\n",
              "      <td>0</td>\n",
              "      <td>0</td>\n",
              "      <td>1</td>\n",
              "      <td>0</td>\n",
              "      <td>0</td>\n",
              "      <td>0</td>\n",
              "      <td>1</td>\n",
              "    </tr>\n",
              "    <tr>\n",
              "      <th>2329</th>\n",
              "      <td>Administración</td>\n",
              "      <td>Administración</td>\n",
              "      <td>Negocios</td>\n",
              "      <td>Practicante</td>\n",
              "      <td>8</td>\n",
              "      <td>10.0</td>\n",
              "      <td>0</td>\n",
              "      <td>0</td>\n",
              "      <td>0</td>\n",
              "      <td>0</td>\n",
              "      <td>0</td>\n",
              "      <td>0</td>\n",
              "      <td>0</td>\n",
              "      <td>0</td>\n",
              "      <td>1</td>\n",
              "      <td>0</td>\n",
              "      <td>0</td>\n",
              "      <td>0</td>\n",
              "      <td>1</td>\n",
              "    </tr>\n",
              "    <tr>\n",
              "      <th>2330</th>\n",
              "      <td>Administración</td>\n",
              "      <td>Administración</td>\n",
              "      <td>Negocios</td>\n",
              "      <td>Practicante</td>\n",
              "      <td>7</td>\n",
              "      <td>10.0</td>\n",
              "      <td>0</td>\n",
              "      <td>0</td>\n",
              "      <td>0</td>\n",
              "      <td>0</td>\n",
              "      <td>0</td>\n",
              "      <td>0</td>\n",
              "      <td>0</td>\n",
              "      <td>0</td>\n",
              "      <td>1</td>\n",
              "      <td>0</td>\n",
              "      <td>0</td>\n",
              "      <td>0</td>\n",
              "      <td>1</td>\n",
              "    </tr>\n",
              "  </tbody>\n",
              "</table>\n",
              "<p>2331 rows × 19 columns</p>\n",
              "</div>\n",
              "      <button class=\"colab-df-convert\" onclick=\"convertToInteractive('df-df161f32-8a22-4c30-b9bf-de15793c4948')\"\n",
              "              title=\"Convert this dataframe to an interactive table.\"\n",
              "              style=\"display:none;\">\n",
              "        \n",
              "  <svg xmlns=\"http://www.w3.org/2000/svg\" height=\"24px\"viewBox=\"0 0 24 24\"\n",
              "       width=\"24px\">\n",
              "    <path d=\"M0 0h24v24H0V0z\" fill=\"none\"/>\n",
              "    <path d=\"M18.56 5.44l.94 2.06.94-2.06 2.06-.94-2.06-.94-.94-2.06-.94 2.06-2.06.94zm-11 1L8.5 8.5l.94-2.06 2.06-.94-2.06-.94L8.5 2.5l-.94 2.06-2.06.94zm10 10l.94 2.06.94-2.06 2.06-.94-2.06-.94-.94-2.06-.94 2.06-2.06.94z\"/><path d=\"M17.41 7.96l-1.37-1.37c-.4-.4-.92-.59-1.43-.59-.52 0-1.04.2-1.43.59L10.3 9.45l-7.72 7.72c-.78.78-.78 2.05 0 2.83L4 21.41c.39.39.9.59 1.41.59.51 0 1.02-.2 1.41-.59l7.78-7.78 2.81-2.81c.8-.78.8-2.07 0-2.86zM5.41 20L4 18.59l7.72-7.72 1.47 1.35L5.41 20z\"/>\n",
              "  </svg>\n",
              "      </button>\n",
              "      \n",
              "  <style>\n",
              "    .colab-df-container {\n",
              "      display:flex;\n",
              "      flex-wrap:wrap;\n",
              "      gap: 12px;\n",
              "    }\n",
              "\n",
              "    .colab-df-convert {\n",
              "      background-color: #E8F0FE;\n",
              "      border: none;\n",
              "      border-radius: 50%;\n",
              "      cursor: pointer;\n",
              "      display: none;\n",
              "      fill: #1967D2;\n",
              "      height: 32px;\n",
              "      padding: 0 0 0 0;\n",
              "      width: 32px;\n",
              "    }\n",
              "\n",
              "    .colab-df-convert:hover {\n",
              "      background-color: #E2EBFA;\n",
              "      box-shadow: 0px 1px 2px rgba(60, 64, 67, 0.3), 0px 1px 3px 1px rgba(60, 64, 67, 0.15);\n",
              "      fill: #174EA6;\n",
              "    }\n",
              "\n",
              "    [theme=dark] .colab-df-convert {\n",
              "      background-color: #3B4455;\n",
              "      fill: #D2E3FC;\n",
              "    }\n",
              "\n",
              "    [theme=dark] .colab-df-convert:hover {\n",
              "      background-color: #434B5C;\n",
              "      box-shadow: 0px 1px 3px 1px rgba(0, 0, 0, 0.15);\n",
              "      filter: drop-shadow(0px 1px 2px rgba(0, 0, 0, 0.3));\n",
              "      fill: #FFFFFF;\n",
              "    }\n",
              "  </style>\n",
              "\n",
              "      <script>\n",
              "        const buttonEl =\n",
              "          document.querySelector('#df-df161f32-8a22-4c30-b9bf-de15793c4948 button.colab-df-convert');\n",
              "        buttonEl.style.display =\n",
              "          google.colab.kernel.accessAllowed ? 'block' : 'none';\n",
              "\n",
              "        async function convertToInteractive(key) {\n",
              "          const element = document.querySelector('#df-df161f32-8a22-4c30-b9bf-de15793c4948');\n",
              "          const dataTable =\n",
              "            await google.colab.kernel.invokeFunction('convertToInteractive',\n",
              "                                                     [key], {});\n",
              "          if (!dataTable) return;\n",
              "\n",
              "          const docLinkHtml = 'Like what you see? Visit the ' +\n",
              "            '<a target=\"_blank\" href=https://colab.research.google.com/notebooks/data_table.ipynb>data table notebook</a>'\n",
              "            + ' to learn more about interactive tables.';\n",
              "          element.innerHTML = '';\n",
              "          dataTable['output_type'] = 'display_data';\n",
              "          await google.colab.output.renderOutput(dataTable, element);\n",
              "          const docLink = document.createElement('div');\n",
              "          docLink.innerHTML = docLinkHtml;\n",
              "          element.appendChild(docLink);\n",
              "        }\n",
              "      </script>\n",
              "    </div>\n",
              "  </div>\n",
              "  "
            ]
          },
          "metadata": {},
          "execution_count": 3
        }
      ]
    },
    {
      "cell_type": "markdown",
      "source": [
        "**1.Muestra la información general del set de datos a utilizar para la fase de modelación de datos.**"
      ],
      "metadata": {
        "id": "8Lvc4xru0Vf7"
      }
    },
    {
      "cell_type": "code",
      "source": [
        "df.head()"
      ],
      "metadata": {
        "colab": {
          "base_uri": "https://localhost:8080/",
          "height": 354
        },
        "id": "1K_dxpkRz_m8",
        "outputId": "8b7d162f-1551-4387-9b40-9893a997a545"
      },
      "execution_count": null,
      "outputs": [
        {
          "output_type": "execute_result",
          "data": {
            "text/plain": [
              "  Carrera/Titulación             Carrera Gestional        Especialidad  \\\n",
              "0    Ing. Industrial               Ing. Industrial  Ingenierías Target   \n",
              "1    Ing. Industrial               Ing. Industrial  Ingenierías Target   \n",
              "2    Ing. Industrial               Ing. Industrial  Ingenierías Target   \n",
              "3   Ing. Mecatrónica  Ing. Mecatrónica/Electrónica  Ingenierías Target   \n",
              "4  Comercio Exterior      Negocios Internacionales            Negocios   \n",
              "\n",
              "       Vacante  Avance  Semestres Totales  Evaluados Si/No  \\\n",
              "0  Practicante       7               10.0                1   \n",
              "1  Practicante       6                9.0                1   \n",
              "2  Profesional       8                9.0                0   \n",
              "3  Practicante       6                9.0                1   \n",
              "4  Practicante       7               10.0                1   \n",
              "\n",
              "   Altamente Recomendado  Operaciones-Calidad  MTTO-DIMA  \\\n",
              "0                      1                    2          1   \n",
              "1                      1                    2          0   \n",
              "2                      0                    0          0   \n",
              "3                      1                    2          2   \n",
              "4                      0                    0          0   \n",
              "\n",
              "   Comercial-Planeamiento  DIGI-SC  Resto-Soft  Actividad Grupal.1  Ingles  \\\n",
              "0                       2        0           0                   5       2   \n",
              "1                       0        0           0                   5       2   \n",
              "2                       0        0           0                   0       1   \n",
              "3                       0        1           2                   5       2   \n",
              "4                       0        0           0                   0       1   \n",
              "\n",
              "   Destacado  Ingresados Si/No  Apto  Apto suma  \n",
              "0          1                 1     2         13  \n",
              "1          1                 0     2         10  \n",
              "2          0                 0     0          1  \n",
              "3          1                 1     2         13  \n",
              "4          0                 0     0          1  "
            ],
            "text/html": [
              "\n",
              "  <div id=\"df-43688766-7cfb-44d4-8752-3300efd3d380\">\n",
              "    <div class=\"colab-df-container\">\n",
              "      <div>\n",
              "<style scoped>\n",
              "    .dataframe tbody tr th:only-of-type {\n",
              "        vertical-align: middle;\n",
              "    }\n",
              "\n",
              "    .dataframe tbody tr th {\n",
              "        vertical-align: top;\n",
              "    }\n",
              "\n",
              "    .dataframe thead th {\n",
              "        text-align: right;\n",
              "    }\n",
              "</style>\n",
              "<table border=\"1\" class=\"dataframe\">\n",
              "  <thead>\n",
              "    <tr style=\"text-align: right;\">\n",
              "      <th></th>\n",
              "      <th>Carrera/Titulación</th>\n",
              "      <th>Carrera Gestional</th>\n",
              "      <th>Especialidad</th>\n",
              "      <th>Vacante</th>\n",
              "      <th>Avance</th>\n",
              "      <th>Semestres Totales</th>\n",
              "      <th>Evaluados Si/No</th>\n",
              "      <th>Altamente Recomendado</th>\n",
              "      <th>Operaciones-Calidad</th>\n",
              "      <th>MTTO-DIMA</th>\n",
              "      <th>Comercial-Planeamiento</th>\n",
              "      <th>DIGI-SC</th>\n",
              "      <th>Resto-Soft</th>\n",
              "      <th>Actividad Grupal.1</th>\n",
              "      <th>Ingles</th>\n",
              "      <th>Destacado</th>\n",
              "      <th>Ingresados Si/No</th>\n",
              "      <th>Apto</th>\n",
              "      <th>Apto suma</th>\n",
              "    </tr>\n",
              "  </thead>\n",
              "  <tbody>\n",
              "    <tr>\n",
              "      <th>0</th>\n",
              "      <td>Ing. Industrial</td>\n",
              "      <td>Ing. Industrial</td>\n",
              "      <td>Ingenierías Target</td>\n",
              "      <td>Practicante</td>\n",
              "      <td>7</td>\n",
              "      <td>10.0</td>\n",
              "      <td>1</td>\n",
              "      <td>1</td>\n",
              "      <td>2</td>\n",
              "      <td>1</td>\n",
              "      <td>2</td>\n",
              "      <td>0</td>\n",
              "      <td>0</td>\n",
              "      <td>5</td>\n",
              "      <td>2</td>\n",
              "      <td>1</td>\n",
              "      <td>1</td>\n",
              "      <td>2</td>\n",
              "      <td>13</td>\n",
              "    </tr>\n",
              "    <tr>\n",
              "      <th>1</th>\n",
              "      <td>Ing. Industrial</td>\n",
              "      <td>Ing. Industrial</td>\n",
              "      <td>Ingenierías Target</td>\n",
              "      <td>Practicante</td>\n",
              "      <td>6</td>\n",
              "      <td>9.0</td>\n",
              "      <td>1</td>\n",
              "      <td>1</td>\n",
              "      <td>2</td>\n",
              "      <td>0</td>\n",
              "      <td>0</td>\n",
              "      <td>0</td>\n",
              "      <td>0</td>\n",
              "      <td>5</td>\n",
              "      <td>2</td>\n",
              "      <td>1</td>\n",
              "      <td>0</td>\n",
              "      <td>2</td>\n",
              "      <td>10</td>\n",
              "    </tr>\n",
              "    <tr>\n",
              "      <th>2</th>\n",
              "      <td>Ing. Industrial</td>\n",
              "      <td>Ing. Industrial</td>\n",
              "      <td>Ingenierías Target</td>\n",
              "      <td>Profesional</td>\n",
              "      <td>8</td>\n",
              "      <td>9.0</td>\n",
              "      <td>0</td>\n",
              "      <td>0</td>\n",
              "      <td>0</td>\n",
              "      <td>0</td>\n",
              "      <td>0</td>\n",
              "      <td>0</td>\n",
              "      <td>0</td>\n",
              "      <td>0</td>\n",
              "      <td>1</td>\n",
              "      <td>0</td>\n",
              "      <td>0</td>\n",
              "      <td>0</td>\n",
              "      <td>1</td>\n",
              "    </tr>\n",
              "    <tr>\n",
              "      <th>3</th>\n",
              "      <td>Ing. Mecatrónica</td>\n",
              "      <td>Ing. Mecatrónica/Electrónica</td>\n",
              "      <td>Ingenierías Target</td>\n",
              "      <td>Practicante</td>\n",
              "      <td>6</td>\n",
              "      <td>9.0</td>\n",
              "      <td>1</td>\n",
              "      <td>1</td>\n",
              "      <td>2</td>\n",
              "      <td>2</td>\n",
              "      <td>0</td>\n",
              "      <td>1</td>\n",
              "      <td>2</td>\n",
              "      <td>5</td>\n",
              "      <td>2</td>\n",
              "      <td>1</td>\n",
              "      <td>1</td>\n",
              "      <td>2</td>\n",
              "      <td>13</td>\n",
              "    </tr>\n",
              "    <tr>\n",
              "      <th>4</th>\n",
              "      <td>Comercio Exterior</td>\n",
              "      <td>Negocios Internacionales</td>\n",
              "      <td>Negocios</td>\n",
              "      <td>Practicante</td>\n",
              "      <td>7</td>\n",
              "      <td>10.0</td>\n",
              "      <td>1</td>\n",
              "      <td>0</td>\n",
              "      <td>0</td>\n",
              "      <td>0</td>\n",
              "      <td>0</td>\n",
              "      <td>0</td>\n",
              "      <td>0</td>\n",
              "      <td>0</td>\n",
              "      <td>1</td>\n",
              "      <td>0</td>\n",
              "      <td>0</td>\n",
              "      <td>0</td>\n",
              "      <td>1</td>\n",
              "    </tr>\n",
              "  </tbody>\n",
              "</table>\n",
              "</div>\n",
              "      <button class=\"colab-df-convert\" onclick=\"convertToInteractive('df-43688766-7cfb-44d4-8752-3300efd3d380')\"\n",
              "              title=\"Convert this dataframe to an interactive table.\"\n",
              "              style=\"display:none;\">\n",
              "        \n",
              "  <svg xmlns=\"http://www.w3.org/2000/svg\" height=\"24px\"viewBox=\"0 0 24 24\"\n",
              "       width=\"24px\">\n",
              "    <path d=\"M0 0h24v24H0V0z\" fill=\"none\"/>\n",
              "    <path d=\"M18.56 5.44l.94 2.06.94-2.06 2.06-.94-2.06-.94-.94-2.06-.94 2.06-2.06.94zm-11 1L8.5 8.5l.94-2.06 2.06-.94-2.06-.94L8.5 2.5l-.94 2.06-2.06.94zm10 10l.94 2.06.94-2.06 2.06-.94-2.06-.94-.94-2.06-.94 2.06-2.06.94z\"/><path d=\"M17.41 7.96l-1.37-1.37c-.4-.4-.92-.59-1.43-.59-.52 0-1.04.2-1.43.59L10.3 9.45l-7.72 7.72c-.78.78-.78 2.05 0 2.83L4 21.41c.39.39.9.59 1.41.59.51 0 1.02-.2 1.41-.59l7.78-7.78 2.81-2.81c.8-.78.8-2.07 0-2.86zM5.41 20L4 18.59l7.72-7.72 1.47 1.35L5.41 20z\"/>\n",
              "  </svg>\n",
              "      </button>\n",
              "      \n",
              "  <style>\n",
              "    .colab-df-container {\n",
              "      display:flex;\n",
              "      flex-wrap:wrap;\n",
              "      gap: 12px;\n",
              "    }\n",
              "\n",
              "    .colab-df-convert {\n",
              "      background-color: #E8F0FE;\n",
              "      border: none;\n",
              "      border-radius: 50%;\n",
              "      cursor: pointer;\n",
              "      display: none;\n",
              "      fill: #1967D2;\n",
              "      height: 32px;\n",
              "      padding: 0 0 0 0;\n",
              "      width: 32px;\n",
              "    }\n",
              "\n",
              "    .colab-df-convert:hover {\n",
              "      background-color: #E2EBFA;\n",
              "      box-shadow: 0px 1px 2px rgba(60, 64, 67, 0.3), 0px 1px 3px 1px rgba(60, 64, 67, 0.15);\n",
              "      fill: #174EA6;\n",
              "    }\n",
              "\n",
              "    [theme=dark] .colab-df-convert {\n",
              "      background-color: #3B4455;\n",
              "      fill: #D2E3FC;\n",
              "    }\n",
              "\n",
              "    [theme=dark] .colab-df-convert:hover {\n",
              "      background-color: #434B5C;\n",
              "      box-shadow: 0px 1px 3px 1px rgba(0, 0, 0, 0.15);\n",
              "      filter: drop-shadow(0px 1px 2px rgba(0, 0, 0, 0.3));\n",
              "      fill: #FFFFFF;\n",
              "    }\n",
              "  </style>\n",
              "\n",
              "      <script>\n",
              "        const buttonEl =\n",
              "          document.querySelector('#df-43688766-7cfb-44d4-8752-3300efd3d380 button.colab-df-convert');\n",
              "        buttonEl.style.display =\n",
              "          google.colab.kernel.accessAllowed ? 'block' : 'none';\n",
              "\n",
              "        async function convertToInteractive(key) {\n",
              "          const element = document.querySelector('#df-43688766-7cfb-44d4-8752-3300efd3d380');\n",
              "          const dataTable =\n",
              "            await google.colab.kernel.invokeFunction('convertToInteractive',\n",
              "                                                     [key], {});\n",
              "          if (!dataTable) return;\n",
              "\n",
              "          const docLinkHtml = 'Like what you see? Visit the ' +\n",
              "            '<a target=\"_blank\" href=https://colab.research.google.com/notebooks/data_table.ipynb>data table notebook</a>'\n",
              "            + ' to learn more about interactive tables.';\n",
              "          element.innerHTML = '';\n",
              "          dataTable['output_type'] = 'display_data';\n",
              "          await google.colab.output.renderOutput(dataTable, element);\n",
              "          const docLink = document.createElement('div');\n",
              "          docLink.innerHTML = docLinkHtml;\n",
              "          element.appendChild(docLink);\n",
              "        }\n",
              "      </script>\n",
              "    </div>\n",
              "  </div>\n",
              "  "
            ]
          },
          "metadata": {},
          "execution_count": 4
        }
      ]
    },
    {
      "cell_type": "code",
      "source": [
        "df.columns"
      ],
      "metadata": {
        "colab": {
          "base_uri": "https://localhost:8080/"
        },
        "id": "Kjt45x5o05qx",
        "outputId": "dffe5f1c-84ac-4afc-cc72-1dbd7fd5da4f"
      },
      "execution_count": null,
      "outputs": [
        {
          "output_type": "execute_result",
          "data": {
            "text/plain": [
              "Index(['Carrera/Titulación', 'Carrera Gestional', 'Especialidad', 'Vacante',\n",
              "       'Avance', 'Semestres Totales', 'Evaluados Si/No',\n",
              "       'Altamente Recomendado', 'Operaciones-Calidad', 'MTTO-DIMA',\n",
              "       'Comercial-Planeamiento', 'DIGI-SC', 'Resto-Soft', 'Actividad Grupal.1',\n",
              "       'Ingles', 'Destacado', 'Ingresados Si/No', 'Apto', 'Apto suma'],\n",
              "      dtype='object')"
            ]
          },
          "metadata": {},
          "execution_count": 5
        }
      ]
    },
    {
      "cell_type": "code",
      "source": [
        "df.dtypes"
      ],
      "metadata": {
        "colab": {
          "base_uri": "https://localhost:8080/"
        },
        "id": "48--UMkN07ar",
        "outputId": "48831c28-368e-4f75-e90c-5d4ffdbdc4f4"
      },
      "execution_count": null,
      "outputs": [
        {
          "output_type": "execute_result",
          "data": {
            "text/plain": [
              "Carrera/Titulación         object\n",
              "Carrera Gestional          object\n",
              "Especialidad               object\n",
              "Vacante                    object\n",
              "Avance                      int64\n",
              "Semestres Totales         float64\n",
              "Evaluados Si/No             int64\n",
              "Altamente Recomendado       int64\n",
              "Operaciones-Calidad         int64\n",
              "MTTO-DIMA                   int64\n",
              "Comercial-Planeamiento      int64\n",
              "DIGI-SC                     int64\n",
              "Resto-Soft                  int64\n",
              "Actividad Grupal.1          int64\n",
              "Ingles                      int64\n",
              "Destacado                   int64\n",
              "Ingresados Si/No            int64\n",
              "Apto                        int64\n",
              "Apto suma                   int64\n",
              "dtype: object"
            ]
          },
          "metadata": {},
          "execution_count": 6
        }
      ]
    },
    {
      "cell_type": "code",
      "source": [
        "# quitamos las columnas que no son números\n",
        "df.drop(['Carrera/Titulación','Carrera Gestional','Especialidad','Vacante'], axis = 'columns', inplace=True)"
      ],
      "metadata": {
        "id": "wuK00Ii_09J_"
      },
      "execution_count": null,
      "outputs": []
    },
    {
      "cell_type": "code",
      "source": [
        "print(\"data set dimensions : {}\".format(df.shape))"
      ],
      "metadata": {
        "colab": {
          "base_uri": "https://localhost:8080/"
        },
        "id": "Ci-B-2fZ1Ba_",
        "outputId": "48f8ae63-253d-40c1-f44e-66ea47c93fda"
      },
      "execution_count": null,
      "outputs": [
        {
          "output_type": "stream",
          "name": "stdout",
          "text": [
            "data set dimensions : (2331, 15)\n"
          ]
        }
      ]
    },
    {
      "cell_type": "code",
      "source": [
        "# Mostrar la cantidad de instancias por clase\n",
        "df.groupby('Ingresados Si/No').size()"
      ],
      "metadata": {
        "colab": {
          "base_uri": "https://localhost:8080/"
        },
        "id": "QoU2iHIQ1Em_",
        "outputId": "d20642ff-aa2f-4323-cd96-eeb6dabf7522"
      },
      "execution_count": null,
      "outputs": [
        {
          "output_type": "execute_result",
          "data": {
            "text/plain": [
              "Ingresados Si/No\n",
              "0    2302\n",
              "1      29\n",
              "dtype: int64"
            ]
          },
          "metadata": {},
          "execution_count": 9
        }
      ]
    },
    {
      "cell_type": "markdown",
      "source": [
        "**2.Define la variable target, o de respuesta (dependiente) y las features o variables predictoras (independientes)**"
      ],
      "metadata": {
        "id": "2ixL_B140eDt"
      }
    },
    {
      "cell_type": "code",
      "source": [
        "feature_names = ['Avance', 'Semestres Totales', 'Evaluados Si/No',\n",
        "       'Altamente Recomendado', 'Operaciones-Calidad', 'MTTO-DIMA',\n",
        "       'Comercial-Planeamiento', 'DIGI-SC', 'Resto-Soft', 'Actividad Grupal.1',\n",
        "       'Ingles', 'Destacado', 'Apto', 'Apto suma']\n",
        "X = df[feature_names]\n",
        "y = df['Ingresados Si/No']"
      ],
      "metadata": {
        "id": "CKst1O_H1GWO"
      },
      "execution_count": null,
      "outputs": []
    },
    {
      "cell_type": "markdown",
      "source": [
        "**3.Define qué tipos de modelos debes utilizar, de regresión ó de clasificación. Justifica tu respuesta.**"
      ],
      "metadata": {
        "id": "D96_nwwN0ntL"
      }
    },
    {
      "cell_type": "markdown",
      "source": [
        "Es importante conocer la diferencia entre estos dos tipos de modelos. Los modelos de regresión son útiles cuando lo que se está buscando predecir es un número, por el otro lado, los de clasificación son utilizados cuando lo que se busca es una categoría o algo por el estilo.\n",
        "\n",
        "En nuestro caso estamos tratando de predecir las personas ingresadas o no a la empresa, por lo que considero que lo mejor es utilizar modelos de clasificación."
      ],
      "metadata": {
        "id": "o7FW8PoE0pW5"
      }
    },
    {
      "cell_type": "code",
      "source": [
        "from sklearn.neighbors import KNeighborsClassifier\n",
        "from sklearn.svm import SVC\n",
        "from sklearn.linear_model import LogisticRegression\n",
        "from sklearn.tree import DecisionTreeClassifier\n",
        "from sklearn.naive_bayes import GaussianNB\n",
        "from sklearn.ensemble import RandomForestClassifier\n",
        "from sklearn.ensemble import GradientBoostingClassifier\n",
        "from sklearn.neural_network import MLPClassifier"
      ],
      "metadata": {
        "id": "uQYqNUz21H_l"
      },
      "execution_count": null,
      "outputs": []
    },
    {
      "cell_type": "code",
      "source": [
        "#modelos a probar\n",
        "models = []\n",
        "models.append(('KNN', KNeighborsClassifier()))\n",
        "models.append(('SVC', SVC(probability = True,max_iter = 1000)))\n",
        "models.append(('LR', LogisticRegression(max_iter = 1000)))\n",
        "models.append(('DT', DecisionTreeClassifier()))\n",
        "models.append(('GNB', GaussianNB()))\n",
        "models.append(('RF', RandomForestClassifier()))\n",
        "models.append(('GB', GradientBoostingClassifier()))\n",
        "#redes neuronales\n",
        "models.append(('MLP', MLPClassifier(hidden_layer_sizes=(8,8,8), activation='relu', solver='adam', max_iter=1000)))"
      ],
      "metadata": {
        "id": "EBnVRtFw1Jn7"
      },
      "execution_count": null,
      "outputs": []
    },
    {
      "cell_type": "code",
      "source": [
        "from sklearn.model_selection import train_test_split\n",
        "from sklearn.model_selection import cross_val_score\n",
        "from sklearn.metrics import accuracy_score\n",
        "from sklearn.metrics import classification_report,confusion_matrix\n",
        "from sklearn import metrics"
      ],
      "metadata": {
        "id": "sx1npTT6D298"
      },
      "execution_count": null,
      "outputs": []
    },
    {
      "cell_type": "markdown",
      "source": [
        "**4.Define el dataset para entrenamiento y prueba (sin ajustes).**"
      ],
      "metadata": {
        "id": "QBAUfmx71BG4"
      }
    },
    {
      "cell_type": "code",
      "source": [
        "\n",
        "from sklearn.model_selection import train_test_split\n",
        "X_train, X_test, y_train, y_test = train_test_split(X, y, test_size=0.2)\n",
        "#X_train, X_test, y_train, y_test = train_test_split(X, y, stratify = df['Ingresados Si/No'], random_state=0)"
      ],
      "metadata": {
        "id": "vH3gG94m1Mf7"
      },
      "execution_count": null,
      "outputs": []
    },
    {
      "cell_type": "code",
      "source": [
        "names = []\n",
        "scores = []\n",
        "for name, model in models:\n",
        "    model.fit(X_train, y_train)\n",
        "    y_pred = model.predict(X_test)\n",
        "    scores.append(accuracy_score(y_test, y_pred))\n",
        "    names.append(name)\n",
        "tr_split = pd.DataFrame({'Name': names, 'Score': scores})\n",
        "print(tr_split)"
      ],
      "metadata": {
        "colab": {
          "base_uri": "https://localhost:8080/"
        },
        "id": "yv-sJ8gN1N8f",
        "outputId": "17374fea-eec9-4973-bb42-973c9a4501d9"
      },
      "execution_count": null,
      "outputs": [
        {
          "output_type": "stream",
          "name": "stdout",
          "text": [
            "  Name     Score\n",
            "0  KNN  0.997859\n",
            "1  SVC  0.995717\n",
            "2   LR  0.997859\n",
            "3   DT  0.997859\n",
            "4  GNB  0.920771\n",
            "5   RF  0.997859\n",
            "6   GB  0.997859\n",
            "7  MLP  0.997859\n"
          ]
        }
      ]
    },
    {
      "cell_type": "markdown",
      "source": [
        "A continuación se analizan las métricas de estos modelos que se aplicaron"
      ],
      "metadata": {
        "id": "i2dCb5uR1JLP"
      }
    },
    {
      "cell_type": "code",
      "source": [
        "from sklearn.metrics import classification_report,confusion_matrix,recall_score,precision_score\n",
        "from sklearn.metrics import plot_confusion_matrix"
      ],
      "metadata": {
        "id": "H27_70Kg1PQr"
      },
      "execution_count": null,
      "outputs": []
    },
    {
      "cell_type": "code",
      "source": [
        "names = []\n",
        "accuracy = []\n",
        "sensitivity = []\n",
        "precision = []\n",
        "especifidad = []\n",
        "aucs = []\n",
        "f1s = []\n",
        "for name, model in models:\n",
        "    names.append(name)\n",
        "    model.fit(X_train, y_train)\n",
        "    y_pred = model.predict(X_test)\n",
        "    cfm = confusion_matrix(y_test, y_pred)\n",
        "    print('Modelo actual: ', name)\n",
        "    print('Matriz de confusión\\n:',cfm)\n",
        "    print(classification_report(y_test, y_pred))\n",
        "    # save confusion matrix and slice into four pieces\n",
        "    confusion = confusion_matrix(y_test, y_pred)\n",
        "    #[row, column]\n",
        "    TP = confusion[1, 1]\n",
        "    print(\"True Positives TP:\", TP)\n",
        "    TN = confusion[0, 0]\n",
        "    print(\"True Negatives TN:\", TN)\n",
        "    FP = confusion[0, 1]\n",
        "    print(\"False Positives FP:\", FP)\n",
        "    FN = confusion[1, 0]\n",
        "    print(\"False Negatives FN:\", FN)\n",
        "    plot_confusion_matrix(model, X_test, y_test,cmap=\"Blues\")\n",
        "    plt.show()\n",
        "    \n",
        "    accu = accuracy_score(y_test, y_pred)\n",
        "    sens =TP / float(FN + TP)\n",
        "    pres =  TP / float(TP + FP)\n",
        "    espe =TN / (TN + FP)\n",
        "    f1 = metrics.f1_score(y_test, y_pred)\n",
        "    \n",
        "    accuracy.append(accu)\n",
        "    sensitivity.append(sens)\n",
        "    precision.append(pres)\n",
        "    especifidad.append(espe)\n",
        "    f1s.append (f1)\n",
        "    print(\"\\n Accuracy = \",accu )  \n",
        "    print(\"Sensitivity =\" ,sens )\n",
        "    print(\"Precision = \",pres) \n",
        "    print(\"Especifividad = \",espe )\n",
        "    print(\"F1 score = \",f1)\n",
        "\n",
        "    \n",
        "    \n",
        "    y_pred_prod_pos = model.predict_proba(X_test)[:,1]\n",
        "    fpr, tpr, thresholds = metrics.roc_curve(y_test, y_pred_prod_pos)\n",
        "    auc = metrics.roc_auc_score(y_test, y_pred_prod_pos)\n",
        "    aucs.append(auc)\n",
        "    print(\"AUC:\",auc )\n",
        "    \n",
        "    fig = plt.figure()\n",
        "    ax = fig.add_subplot(111)\n",
        "    plt.plot(fpr, tpr)\n",
        "    plt.xlabel('False Positive Rate (1 - Specificity)')\n",
        "    plt.ylabel('True Positive Rate (Sensitivity)')\n",
        "\n",
        "    plt.show()"
      ],
      "metadata": {
        "colab": {
          "base_uri": "https://localhost:8080/",
          "height": 1000
        },
        "id": "nyXFJKtx1fCj",
        "outputId": "50f1f831-2806-4696-a3ac-0a4eb93fb7b9"
      },
      "execution_count": null,
      "outputs": [
        {
          "output_type": "stream",
          "name": "stdout",
          "text": [
            "Modelo actual:  KNN\n",
            "Matriz de confusión\n",
            ": [[463   0]\n",
            " [  1   3]]\n",
            "              precision    recall  f1-score   support\n",
            "\n",
            "           0       1.00      1.00      1.00       463\n",
            "           1       1.00      0.75      0.86         4\n",
            "\n",
            "    accuracy                           1.00       467\n",
            "   macro avg       1.00      0.88      0.93       467\n",
            "weighted avg       1.00      1.00      1.00       467\n",
            "\n",
            "True Positives TP: 3\n",
            "True Negatives TN: 463\n",
            "False Positives FP: 0\n",
            "False Negatives FN: 1\n"
          ]
        },
        {
          "output_type": "stream",
          "name": "stderr",
          "text": [
            "/usr/local/lib/python3.7/dist-packages/sklearn/utils/deprecation.py:87: FutureWarning: Function plot_confusion_matrix is deprecated; Function `plot_confusion_matrix` is deprecated in 1.0 and will be removed in 1.2. Use one of the class methods: ConfusionMatrixDisplay.from_predictions or ConfusionMatrixDisplay.from_estimator.\n",
            "  warnings.warn(msg, category=FutureWarning)\n"
          ]
        },
        {
          "output_type": "display_data",
          "data": {
            "text/plain": [
              "<Figure size 432x288 with 2 Axes>"
            ],
            "image/png": "[encoded data removed]"
          },
          "metadata": {
            "needs_background": "light"
          }
        },
        {
          "output_type": "stream",
          "name": "stdout",
          "text": [
            "\n",
            " Accuracy =  0.9978586723768736\n",
            "Sensitivity = 0.75\n",
            "Precision =  1.0\n",
            "Especifividad =  1.0\n",
            "F1 score =  0.8571428571428571\n",
            "AUC: 0.8736501079913608\n"
          ]
        },
        {
          "output_type": "display_data",
          "data": {
            "text/plain": [
              "<Figure size 432x288 with 1 Axes>"
            ],
            "image/png": "[encoded data removed]"
          },
          "metadata": {
            "needs_background": "light"
          }
        },
        {
          "output_type": "stream",
          "name": "stdout",
          "text": [
            "Modelo actual:  SVC\n",
            "Matriz de confusión\n",
            ": [[462   1]\n",
            " [  1   3]]\n",
            "              precision    recall  f1-score   support\n",
            "\n",
            "           0       1.00      1.00      1.00       463\n",
            "           1       0.75      0.75      0.75         4\n",
            "\n",
            "    accuracy                           1.00       467\n",
            "   macro avg       0.87      0.87      0.87       467\n",
            "weighted avg       1.00      1.00      1.00       467\n",
            "\n",
            "True Positives TP: 3\n",
            "True Negatives TN: 462\n",
            "False Positives FP: 1\n",
            "False Negatives FN: 1\n"
          ]
        },
        {
          "output_type": "stream",
          "name": "stderr",
          "text": [
            "/usr/local/lib/python3.7/dist-packages/sklearn/utils/deprecation.py:87: FutureWarning: Function plot_confusion_matrix is deprecated; Function `plot_confusion_matrix` is deprecated in 1.0 and will be removed in 1.2. Use one of the class methods: ConfusionMatrixDisplay.from_predictions or ConfusionMatrixDisplay.from_estimator.\n",
            "  warnings.warn(msg, category=FutureWarning)\n"
          ]
        },
        {
          "output_type": "display_data",
          "data": {
            "text/plain": [
              "<Figure size 432x288 with 2 Axes>"
            ],
            "image/png": "[encoded data removed]"
          },
          "metadata": {
            "needs_background": "light"
          }
        },
        {
          "output_type": "stream",
          "name": "stdout",
          "text": [
            "\n",
            " Accuracy =  0.9957173447537473\n",
            "Sensitivity = 0.75\n",
            "Precision =  0.75\n",
            "Especifividad =  0.9978401727861771\n",
            "F1 score =  0.75\n",
            "AUC: 0.9071274298056156\n"
          ]
        },
        {
          "output_type": "display_data",
          "data": {
            "text/plain": [
              "<Figure size 432x288 with 1 Axes>"
            ],
            "image/png": "[encoded data removed]"
          },
          "metadata": {
            "needs_background": "light"
          }
        },
        {
          "output_type": "stream",
          "name": "stdout",
          "text": [
            "Modelo actual:  LR\n",
            "Matriz de confusión\n",
            ": [[463   0]\n",
            " [  1   3]]\n",
            "              precision    recall  f1-score   support\n",
            "\n",
            "           0       1.00      1.00      1.00       463\n",
            "           1       1.00      0.75      0.86         4\n",
            "\n",
            "    accuracy                           1.00       467\n",
            "   macro avg       1.00      0.88      0.93       467\n",
            "weighted avg       1.00      1.00      1.00       467\n",
            "\n",
            "True Positives TP: 3\n",
            "True Negatives TN: 463\n",
            "False Positives FP: 0\n",
            "False Negatives FN: 1\n"
          ]
        },
        {
          "output_type": "stream",
          "name": "stderr",
          "text": [
            "/usr/local/lib/python3.7/dist-packages/sklearn/utils/deprecation.py:87: FutureWarning: Function plot_confusion_matrix is deprecated; Function `plot_confusion_matrix` is deprecated in 1.0 and will be removed in 1.2. Use one of the class methods: ConfusionMatrixDisplay.from_predictions or ConfusionMatrixDisplay.from_estimator.\n",
            "  warnings.warn(msg, category=FutureWarning)\n"
          ]
        },
        {
          "output_type": "display_data",
          "data": {
            "text/plain": [
              "<Figure size 432x288 with 2 Axes>"
            ],
            "image/png": "[encoded data removed]"
          },
          "metadata": {
            "needs_background": "light"
          }
        },
        {
          "output_type": "stream",
          "name": "stdout",
          "text": [
            "\n",
            " Accuracy =  0.9978586723768736\n",
            "Sensitivity = 0.75\n",
            "Precision =  1.0\n",
            "Especifividad =  1.0\n",
            "F1 score =  0.8571428571428571\n",
            "AUC: 0.9800215982721383\n"
          ]
        },
        {
          "output_type": "display_data",
          "data": {
            "text/plain": [
              "<Figure size 432x288 with 1 Axes>"
            ],
            "image/png": "[encoded data removed]"
          },
          "metadata": {
            "needs_background": "light"
          }
        },
        {
          "output_type": "stream",
          "name": "stdout",
          "text": [
            "Modelo actual:  DT\n",
            "Matriz de confusión\n",
            ": [[463   0]\n",
            " [  1   3]]\n",
            "              precision    recall  f1-score   support\n",
            "\n",
            "           0       1.00      1.00      1.00       463\n",
            "           1       1.00      0.75      0.86         4\n",
            "\n",
            "    accuracy                           1.00       467\n",
            "   macro avg       1.00      0.88      0.93       467\n",
            "weighted avg       1.00      1.00      1.00       467\n",
            "\n",
            "True Positives TP: 3\n",
            "True Negatives TN: 463\n",
            "False Positives FP: 0\n",
            "False Negatives FN: 1\n"
          ]
        },
        {
          "output_type": "stream",
          "name": "stderr",
          "text": [
            "/usr/local/lib/python3.7/dist-packages/sklearn/utils/deprecation.py:87: FutureWarning: Function plot_confusion_matrix is deprecated; Function `plot_confusion_matrix` is deprecated in 1.0 and will be removed in 1.2. Use one of the class methods: ConfusionMatrixDisplay.from_predictions or ConfusionMatrixDisplay.from_estimator.\n",
            "  warnings.warn(msg, category=FutureWarning)\n"
          ]
        },
        {
          "output_type": "display_data",
          "data": {
            "text/plain": [
              "<Figure size 432x288 with 2 Axes>"
            ],
            "image/png": "[encoded data removed]"
          },
          "metadata": {
            "needs_background": "light"
          }
        },
        {
          "output_type": "stream",
          "name": "stdout",
          "text": [
            "\n",
            " Accuracy =  0.9978586723768736\n",
            "Sensitivity = 0.75\n",
            "Precision =  1.0\n",
            "Especifividad =  1.0\n",
            "F1 score =  0.8571428571428571\n",
            "AUC: 0.875\n"
          ]
        },
        {
          "output_type": "display_data",
          "data": {
            "text/plain": [
              "<Figure size 432x288 with 1 Axes>"
            ],
            "image/png": "[encoded data removed]"
          },
          "metadata": {
            "needs_background": "light"
          }
        },
        {
          "output_type": "stream",
          "name": "stdout",
          "text": [
            "Modelo actual:  GNB\n",
            "Matriz de confusión\n",
            ": [[427  36]\n",
            " [  1   3]]\n",
            "              precision    recall  f1-score   support\n",
            "\n",
            "           0       1.00      0.92      0.96       463\n",
            "           1       0.08      0.75      0.14         4\n",
            "\n",
            "    accuracy                           0.92       467\n",
            "   macro avg       0.54      0.84      0.55       467\n",
            "weighted avg       0.99      0.92      0.95       467\n",
            "\n",
            "True Positives TP: 3\n",
            "True Negatives TN: 427\n",
            "False Positives FP: 36\n",
            "False Negatives FN: 1\n"
          ]
        },
        {
          "output_type": "stream",
          "name": "stderr",
          "text": [
            "/usr/local/lib/python3.7/dist-packages/sklearn/utils/deprecation.py:87: FutureWarning: Function plot_confusion_matrix is deprecated; Function `plot_confusion_matrix` is deprecated in 1.0 and will be removed in 1.2. Use one of the class methods: ConfusionMatrixDisplay.from_predictions or ConfusionMatrixDisplay.from_estimator.\n",
            "  warnings.warn(msg, category=FutureWarning)\n"
          ]
        },
        {
          "output_type": "display_data",
          "data": {
            "text/plain": [
              "<Figure size 432x288 with 2 Axes>"
            ],
            "image/png": "[encoded data removed]"
          },
          "metadata": {
            "needs_background": "light"
          }
        },
        {
          "output_type": "stream",
          "name": "stdout",
          "text": [
            "\n",
            " Accuracy =  0.9207708779443254\n",
            "Sensitivity = 0.75\n",
            "Precision =  0.07692307692307693\n",
            "Especifividad =  0.9222462203023758\n",
            "F1 score =  0.13953488372093026\n",
            "AUC: 0.9684125269978401\n"
          ]
        },
        {
          "output_type": "display_data",
          "data": {
            "text/plain": [
              "<Figure size 432x288 with 1 Axes>"
            ],
            "image/png": "[encoded data removed]"
          },
          "metadata": {
            "needs_background": "light"
          }
        },
        {
          "output_type": "stream",
          "name": "stdout",
          "text": [
            "Modelo actual:  RF\n",
            "Matriz de confusión\n",
            ": [[463   0]\n",
            " [  1   3]]\n",
            "              precision    recall  f1-score   support\n",
            "\n",
            "           0       1.00      1.00      1.00       463\n",
            "           1       1.00      0.75      0.86         4\n",
            "\n",
            "    accuracy                           1.00       467\n",
            "   macro avg       1.00      0.88      0.93       467\n",
            "weighted avg       1.00      1.00      1.00       467\n",
            "\n",
            "True Positives TP: 3\n",
            "True Negatives TN: 463\n",
            "False Positives FP: 0\n",
            "False Negatives FN: 1\n"
          ]
        },
        {
          "output_type": "stream",
          "name": "stderr",
          "text": [
            "/usr/local/lib/python3.7/dist-packages/sklearn/utils/deprecation.py:87: FutureWarning: Function plot_confusion_matrix is deprecated; Function `plot_confusion_matrix` is deprecated in 1.0 and will be removed in 1.2. Use one of the class methods: ConfusionMatrixDisplay.from_predictions or ConfusionMatrixDisplay.from_estimator.\n",
            "  warnings.warn(msg, category=FutureWarning)\n"
          ]
        },
        {
          "output_type": "display_data",
          "data": {
            "text/plain": [
              "<Figure size 432x288 with 2 Axes>"
            ],
            "image/png": "[encoded data removed]"
          },
          "metadata": {
            "needs_background": "light"
          }
        },
        {
          "output_type": "stream",
          "name": "stdout",
          "text": [
            "\n",
            " Accuracy =  0.9978586723768736\n",
            "Sensitivity = 0.75\n",
            "Precision =  1.0\n",
            "Especifividad =  1.0\n",
            "F1 score =  0.8571428571428571\n",
            "AUC: 0.9989200863930886\n"
          ]
        },
        {
          "output_type": "display_data",
          "data": {
            "text/plain": [
              "<Figure size 432x288 with 1 Axes>"
            ],
            "image/png": "[encoded data removed]"
          },
          "metadata": {
            "needs_background": "light"
          }
        },
        {
          "output_type": "stream",
          "name": "stdout",
          "text": [
            "Modelo actual:  GB\n",
            "Matriz de confusión\n",
            ": [[463   0]\n",
            " [  1   3]]\n",
            "              precision    recall  f1-score   support\n",
            "\n",
            "           0       1.00      1.00      1.00       463\n",
            "           1       1.00      0.75      0.86         4\n",
            "\n",
            "    accuracy                           1.00       467\n",
            "   macro avg       1.00      0.88      0.93       467\n",
            "weighted avg       1.00      1.00      1.00       467\n",
            "\n",
            "True Positives TP: 3\n",
            "True Negatives TN: 463\n",
            "False Positives FP: 0\n",
            "False Negatives FN: 1\n"
          ]
        },
        {
          "output_type": "stream",
          "name": "stderr",
          "text": [
            "/usr/local/lib/python3.7/dist-packages/sklearn/utils/deprecation.py:87: FutureWarning: Function plot_confusion_matrix is deprecated; Function `plot_confusion_matrix` is deprecated in 1.0 and will be removed in 1.2. Use one of the class methods: ConfusionMatrixDisplay.from_predictions or ConfusionMatrixDisplay.from_estimator.\n",
            "  warnings.warn(msg, category=FutureWarning)\n"
          ]
        },
        {
          "output_type": "display_data",
          "data": {
            "text/plain": [
              "<Figure size 432x288 with 2 Axes>"
            ],
            "image/png": "[encoded data removed]"
          },
          "metadata": {
            "needs_background": "light"
          }
        },
        {
          "output_type": "stream",
          "name": "stdout",
          "text": [
            "\n",
            " Accuracy =  0.9978586723768736\n",
            "Sensitivity = 0.75\n",
            "Precision =  1.0\n",
            "Especifividad =  1.0\n",
            "F1 score =  0.8571428571428571\n",
            "AUC: 0.8677105831533478\n"
          ]
        },
        {
          "output_type": "display_data",
          "data": {
            "text/plain": [
              "<Figure size 432x288 with 1 Axes>"
            ],
            "image/png": "[encoded data removed]"
          },
          "metadata": {
            "needs_background": "light"
          }
        },
        {
          "output_type": "stream",
          "name": "stdout",
          "text": [
            "Modelo actual:  MLP\n",
            "Matriz de confusión\n",
            ": [[463   0]\n",
            " [  1   3]]\n",
            "              precision    recall  f1-score   support\n",
            "\n",
            "           0       1.00      1.00      1.00       463\n",
            "           1       1.00      0.75      0.86         4\n",
            "\n",
            "    accuracy                           1.00       467\n",
            "   macro avg       1.00      0.88      0.93       467\n",
            "weighted avg       1.00      1.00      1.00       467\n",
            "\n",
            "True Positives TP: 3\n",
            "True Negatives TN: 463\n",
            "False Positives FP: 0\n",
            "False Negatives FN: 1\n"
          ]
        },
        {
          "output_type": "stream",
          "name": "stderr",
          "text": [
            "/usr/local/lib/python3.7/dist-packages/sklearn/utils/deprecation.py:87: FutureWarning: Function plot_confusion_matrix is deprecated; Function `plot_confusion_matrix` is deprecated in 1.0 and will be removed in 1.2. Use one of the class methods: ConfusionMatrixDisplay.from_predictions or ConfusionMatrixDisplay.from_estimator.\n",
            "  warnings.warn(msg, category=FutureWarning)\n"
          ]
        },
        {
          "output_type": "display_data",
          "data": {
            "text/plain": [
              "<Figure size 432x288 with 2 Axes>"
            ],
            "image/png": "[encoded data removed]"
          },
          "metadata": {
            "needs_background": "light"
          }
        },
        {
          "output_type": "stream",
          "name": "stdout",
          "text": [
            "\n",
            " Accuracy =  0.9978586723768736\n",
            "Sensitivity = 0.75\n",
            "Precision =  1.0\n",
            "Especifividad =  1.0\n",
            "F1 score =  0.8571428571428571\n",
            "AUC: 0.9902807775377969\n"
          ]
        },
        {
          "output_type": "display_data",
          "data": {
            "text/plain": [
              "<Figure size 432x288 with 1 Axes>"
            ],
            "image/png": "[encoded data removed]"
          },
          "metadata": {
            "needs_background": "light"
          }
        }
      ]
    },
    {
      "cell_type": "code",
      "source": [
        "tr_split = pd.DataFrame({'Name': names, 'Accuracy': accuracy, 'Sensitivity': sensitivity, 'Precision': precision, 'Especifidad': especifidad, 'F1 score': f1s,'AUC': aucs})\n",
        "tr_split"
      ],
      "metadata": {
        "colab": {
          "base_uri": "https://localhost:8080/",
          "height": 300
        },
        "id": "o7iw42wOuAAh",
        "outputId": "db6837bd-49fc-4568-fc14-5841dcc1aa36"
      },
      "execution_count": null,
      "outputs": [
        {
          "output_type": "execute_result",
          "data": {
            "text/plain": [
              "  Name  Accuracy  Sensitivity  Precision  Especifidad  F1 score       AUC\n",
              "0  KNN  0.997859         0.75   1.000000     1.000000  0.857143  0.873650\n",
              "1  SVC  0.995717         0.75   0.750000     0.997840  0.750000  0.907127\n",
              "2   LR  0.997859         0.75   1.000000     1.000000  0.857143  0.980022\n",
              "3   DT  0.997859         0.75   1.000000     1.000000  0.857143  0.875000\n",
              "4  GNB  0.920771         0.75   0.076923     0.922246  0.139535  0.968413\n",
              "5   RF  0.997859         0.75   1.000000     1.000000  0.857143  0.998920\n",
              "6   GB  0.997859         0.75   1.000000     1.000000  0.857143  0.867711\n",
              "7  MLP  0.997859         0.75   1.000000     1.000000  0.857143  0.988121"
            ],
            "text/html": [
              "\n",
              "  <div id=\"df-c84a34bb-85d7-46a2-b099-c98b604bfdb3\">\n",
              "    <div class=\"colab-df-container\">\n",
              "      <div>\n",
              "<style scoped>\n",
              "    .dataframe tbody tr th:only-of-type {\n",
              "        vertical-align: middle;\n",
              "    }\n",
              "\n",
              "    .dataframe tbody tr th {\n",
              "        vertical-align: top;\n",
              "    }\n",
              "\n",
              "    .dataframe thead th {\n",
              "        text-align: right;\n",
              "    }\n",
              "</style>\n",
              "<table border=\"1\" class=\"dataframe\">\n",
              "  <thead>\n",
              "    <tr style=\"text-align: right;\">\n",
              "      <th></th>\n",
              "      <th>Name</th>\n",
              "      <th>Accuracy</th>\n",
              "      <th>Sensitivity</th>\n",
              "      <th>Precision</th>\n",
              "      <th>Especifidad</th>\n",
              "      <th>F1 score</th>\n",
              "      <th>AUC</th>\n",
              "    </tr>\n",
              "  </thead>\n",
              "  <tbody>\n",
              "    <tr>\n",
              "      <th>0</th>\n",
              "      <td>KNN</td>\n",
              "      <td>0.997859</td>\n",
              "      <td>0.75</td>\n",
              "      <td>1.000000</td>\n",
              "      <td>1.000000</td>\n",
              "      <td>0.857143</td>\n",
              "      <td>0.873650</td>\n",
              "    </tr>\n",
              "    <tr>\n",
              "      <th>1</th>\n",
              "      <td>SVC</td>\n",
              "      <td>0.995717</td>\n",
              "      <td>0.75</td>\n",
              "      <td>0.750000</td>\n",
              "      <td>0.997840</td>\n",
              "      <td>0.750000</td>\n",
              "      <td>0.907127</td>\n",
              "    </tr>\n",
              "    <tr>\n",
              "      <th>2</th>\n",
              "      <td>LR</td>\n",
              "      <td>0.997859</td>\n",
              "      <td>0.75</td>\n",
              "      <td>1.000000</td>\n",
              "      <td>1.000000</td>\n",
              "      <td>0.857143</td>\n",
              "      <td>0.980022</td>\n",
              "    </tr>\n",
              "    <tr>\n",
              "      <th>3</th>\n",
              "      <td>DT</td>\n",
              "      <td>0.997859</td>\n",
              "      <td>0.75</td>\n",
              "      <td>1.000000</td>\n",
              "      <td>1.000000</td>\n",
              "      <td>0.857143</td>\n",
              "      <td>0.875000</td>\n",
              "    </tr>\n",
              "    <tr>\n",
              "      <th>4</th>\n",
              "      <td>GNB</td>\n",
              "      <td>0.920771</td>\n",
              "      <td>0.75</td>\n",
              "      <td>0.076923</td>\n",
              "      <td>0.922246</td>\n",
              "      <td>0.139535</td>\n",
              "      <td>0.968413</td>\n",
              "    </tr>\n",
              "    <tr>\n",
              "      <th>5</th>\n",
              "      <td>RF</td>\n",
              "      <td>0.997859</td>\n",
              "      <td>0.75</td>\n",
              "      <td>1.000000</td>\n",
              "      <td>1.000000</td>\n",
              "      <td>0.857143</td>\n",
              "      <td>0.998920</td>\n",
              "    </tr>\n",
              "    <tr>\n",
              "      <th>6</th>\n",
              "      <td>GB</td>\n",
              "      <td>0.997859</td>\n",
              "      <td>0.75</td>\n",
              "      <td>1.000000</td>\n",
              "      <td>1.000000</td>\n",
              "      <td>0.857143</td>\n",
              "      <td>0.867711</td>\n",
              "    </tr>\n",
              "    <tr>\n",
              "      <th>7</th>\n",
              "      <td>MLP</td>\n",
              "      <td>0.997859</td>\n",
              "      <td>0.75</td>\n",
              "      <td>1.000000</td>\n",
              "      <td>1.000000</td>\n",
              "      <td>0.857143</td>\n",
              "      <td>0.988121</td>\n",
              "    </tr>\n",
              "  </tbody>\n",
              "</table>\n",
              "</div>\n",
              "      <button class=\"colab-df-convert\" onclick=\"convertToInteractive('df-c84a34bb-85d7-46a2-b099-c98b604bfdb3')\"\n",
              "              title=\"Convert this dataframe to an interactive table.\"\n",
              "              style=\"display:none;\">\n",
              "        \n",
              "  <svg xmlns=\"http://www.w3.org/2000/svg\" height=\"24px\"viewBox=\"0 0 24 24\"\n",
              "       width=\"24px\">\n",
              "    <path d=\"M0 0h24v24H0V0z\" fill=\"none\"/>\n",
              "    <path d=\"M18.56 5.44l.94 2.06.94-2.06 2.06-.94-2.06-.94-.94-2.06-.94 2.06-2.06.94zm-11 1L8.5 8.5l.94-2.06 2.06-.94-2.06-.94L8.5 2.5l-.94 2.06-2.06.94zm10 10l.94 2.06.94-2.06 2.06-.94-2.06-.94-.94-2.06-.94 2.06-2.06.94z\"/><path d=\"M17.41 7.96l-1.37-1.37c-.4-.4-.92-.59-1.43-.59-.52 0-1.04.2-1.43.59L10.3 9.45l-7.72 7.72c-.78.78-.78 2.05 0 2.83L4 21.41c.39.39.9.59 1.41.59.51 0 1.02-.2 1.41-.59l7.78-7.78 2.81-2.81c.8-.78.8-2.07 0-2.86zM5.41 20L4 18.59l7.72-7.72 1.47 1.35L5.41 20z\"/>\n",
              "  </svg>\n",
              "      </button>\n",
              "      \n",
              "  <style>\n",
              "    .colab-df-container {\n",
              "      display:flex;\n",
              "      flex-wrap:wrap;\n",
              "      gap: 12px;\n",
              "    }\n",
              "\n",
              "    .colab-df-convert {\n",
              "      background-color: #E8F0FE;\n",
              "      border: none;\n",
              "      border-radius: 50%;\n",
              "      cursor: pointer;\n",
              "      display: none;\n",
              "      fill: #1967D2;\n",
              "      height: 32px;\n",
              "      padding: 0 0 0 0;\n",
              "      width: 32px;\n",
              "    }\n",
              "\n",
              "    .colab-df-convert:hover {\n",
              "      background-color: #E2EBFA;\n",
              "      box-shadow: 0px 1px 2px rgba(60, 64, 67, 0.3), 0px 1px 3px 1px rgba(60, 64, 67, 0.15);\n",
              "      fill: #174EA6;\n",
              "    }\n",
              "\n",
              "    [theme=dark] .colab-df-convert {\n",
              "      background-color: #3B4455;\n",
              "      fill: #D2E3FC;\n",
              "    }\n",
              "\n",
              "    [theme=dark] .colab-df-convert:hover {\n",
              "      background-color: #434B5C;\n",
              "      box-shadow: 0px 1px 3px 1px rgba(0, 0, 0, 0.15);\n",
              "      filter: drop-shadow(0px 1px 2px rgba(0, 0, 0, 0.3));\n",
              "      fill: #FFFFFF;\n",
              "    }\n",
              "  </style>\n",
              "\n",
              "      <script>\n",
              "        const buttonEl =\n",
              "          document.querySelector('#df-c84a34bb-85d7-46a2-b099-c98b604bfdb3 button.colab-df-convert');\n",
              "        buttonEl.style.display =\n",
              "          google.colab.kernel.accessAllowed ? 'block' : 'none';\n",
              "\n",
              "        async function convertToInteractive(key) {\n",
              "          const element = document.querySelector('#df-c84a34bb-85d7-46a2-b099-c98b604bfdb3');\n",
              "          const dataTable =\n",
              "            await google.colab.kernel.invokeFunction('convertToInteractive',\n",
              "                                                     [key], {});\n",
              "          if (!dataTable) return;\n",
              "\n",
              "          const docLinkHtml = 'Like what you see? Visit the ' +\n",
              "            '<a target=\"_blank\" href=https://colab.research.google.com/notebooks/data_table.ipynb>data table notebook</a>'\n",
              "            + ' to learn more about interactive tables.';\n",
              "          element.innerHTML = '';\n",
              "          dataTable['output_type'] = 'display_data';\n",
              "          await google.colab.output.renderOutput(dataTable, element);\n",
              "          const docLink = document.createElement('div');\n",
              "          docLink.innerHTML = docLinkHtml;\n",
              "          element.appendChild(docLink);\n",
              "        }\n",
              "      </script>\n",
              "    </div>\n",
              "  </div>\n",
              "  "
            ]
          },
          "metadata": {},
          "execution_count": 18
        }
      ]
    },
    {
      "cell_type": "code",
      "source": [
        "!pip install dtreeviz"
      ],
      "metadata": {
        "colab": {
          "base_uri": "https://localhost:8080/"
        },
        "id": "4M3LP0-HHBsu",
        "outputId": "856584fc-8e01-4153-c932-4f6f36d9e22e"
      },
      "execution_count": null,
      "outputs": [
        {
          "output_type": "stream",
          "name": "stdout",
          "text": [
            "Collecting dtreeviz\n",
            "  Downloading dtreeviz-1.3.6.tar.gz (61 kB)\n",
            "\u001b[?25l\r\u001b[K     |█████▎                          | 10 kB 21.2 MB/s eta 0:00:01\r\u001b[K     |██████████▋                     | 20 kB 21.0 MB/s eta 0:00:01\r\u001b[K     |████████████████                | 30 kB 24.7 MB/s eta 0:00:01\r\u001b[K     |█████████████████████▎          | 40 kB 28.2 MB/s eta 0:00:01\r\u001b[K     |██████████████████████████▋     | 51 kB 31.0 MB/s eta 0:00:01\r\u001b[K     |████████████████████████████████| 61 kB 26.8 MB/s eta 0:00:01\r\u001b[K     |████████████████████████████████| 61 kB 165 kB/s \n",
            "\u001b[?25hRequirement already satisfied: graphviz>=0.9 in /usr/local/lib/python3.7/dist-packages (from dtreeviz) (0.10.1)\n",
            "Requirement already satisfied: pandas in /usr/local/lib/python3.7/dist-packages (from dtreeviz) (1.3.5)\n",
            "Requirement already satisfied: numpy in /usr/local/lib/python3.7/dist-packages (from dtreeviz) (1.21.6)\n",
            "Requirement already satisfied: scikit-learn in /usr/local/lib/python3.7/dist-packages (from dtreeviz) (1.0.2)\n",
            "Requirement already satisfied: matplotlib in /usr/local/lib/python3.7/dist-packages (from dtreeviz) (3.2.2)\n",
            "Collecting colour\n",
            "  Downloading colour-0.1.5-py2.py3-none-any.whl (23 kB)\n",
            "Requirement already satisfied: pytest in /usr/local/lib/python3.7/dist-packages (from dtreeviz) (3.6.4)\n",
            "Requirement already satisfied: python-dateutil>=2.1 in /usr/local/lib/python3.7/dist-packages (from matplotlib->dtreeviz) (2.8.2)\n",
            "Requirement already satisfied: pyparsing!=2.0.4,!=2.1.2,!=2.1.6,>=2.0.1 in /usr/local/lib/python3.7/dist-packages (from matplotlib->dtreeviz) (3.0.8)\n",
            "Requirement already satisfied: cycler>=0.10 in /usr/local/lib/python3.7/dist-packages (from matplotlib->dtreeviz) (0.11.0)\n",
            "Requirement already satisfied: kiwisolver>=1.0.1 in /usr/local/lib/python3.7/dist-packages (from matplotlib->dtreeviz) (1.4.2)\n",
            "Requirement already satisfied: typing-extensions in /usr/local/lib/python3.7/dist-packages (from kiwisolver>=1.0.1->matplotlib->dtreeviz) (4.2.0)\n",
            "Requirement already satisfied: six>=1.5 in /usr/local/lib/python3.7/dist-packages (from python-dateutil>=2.1->matplotlib->dtreeviz) (1.15.0)\n",
            "Requirement already satisfied: pytz>=2017.3 in /usr/local/lib/python3.7/dist-packages (from pandas->dtreeviz) (2022.1)\n",
            "Requirement already satisfied: py>=1.5.0 in /usr/local/lib/python3.7/dist-packages (from pytest->dtreeviz) (1.11.0)\n",
            "Requirement already satisfied: attrs>=17.4.0 in /usr/local/lib/python3.7/dist-packages (from pytest->dtreeviz) (21.4.0)\n",
            "Requirement already satisfied: pluggy<0.8,>=0.5 in /usr/local/lib/python3.7/dist-packages (from pytest->dtreeviz) (0.7.1)\n",
            "Requirement already satisfied: more-itertools>=4.0.0 in /usr/local/lib/python3.7/dist-packages (from pytest->dtreeviz) (8.12.0)\n",
            "Requirement already satisfied: atomicwrites>=1.0 in /usr/local/lib/python3.7/dist-packages (from pytest->dtreeviz) (1.4.0)\n",
            "Requirement already satisfied: setuptools in /usr/local/lib/python3.7/dist-packages (from pytest->dtreeviz) (57.4.0)\n",
            "Requirement already satisfied: threadpoolctl>=2.0.0 in /usr/local/lib/python3.7/dist-packages (from scikit-learn->dtreeviz) (3.1.0)\n",
            "Requirement already satisfied: scipy>=1.1.0 in /usr/local/lib/python3.7/dist-packages (from scikit-learn->dtreeviz) (1.4.1)\n",
            "Requirement already satisfied: joblib>=0.11 in /usr/local/lib/python3.7/dist-packages (from scikit-learn->dtreeviz) (1.1.0)\n",
            "Building wheels for collected packages: dtreeviz\n",
            "  Building wheel for dtreeviz (setup.py) ... \u001b[?25l\u001b[?25hdone\n",
            "  Created wheel for dtreeviz: filename=dtreeviz-1.3.6-py3-none-any.whl size=67326 sha256=5c17f70e7da6ad586c2f138037ddf06cb757d9b269213878dcd9e5157f95edf3\n",
            "  Stored in directory: /root/.cache/pip/wheels/33/76/fe/99227ff871766e7284bb88d3d28e2f4886b8ec04d669033478\n",
            "Successfully built dtreeviz\n",
            "Installing collected packages: colour, dtreeviz\n",
            "Successfully installed colour-0.1.5 dtreeviz-1.3.6\n"
          ]
        }
      ]
    },
    {
      "cell_type": "markdown",
      "source": [
        "#### Prueba y evaluación de modelos (con ajustes)"
      ],
      "metadata": {
        "id": "uog7Yt5eHXle"
      }
    },
    {
      "cell_type": "code",
      "source": [
        "from imblearn.over_sampling import RandomOverSampler\n",
        "ros = RandomOverSampler(random_state=888)\n",
        "X_resampled, y_resampled = ros.fit_resample(X,y)\n",
        "y_resampled.value_counts()"
      ],
      "metadata": {
        "colab": {
          "base_uri": "https://localhost:8080/"
        },
        "id": "iotoKAOwHWmm",
        "outputId": "0beaffdb-0d40-483d-b31f-ea61c9db2af2"
      },
      "execution_count": null,
      "outputs": [
        {
          "output_type": "execute_result",
          "data": {
            "text/plain": [
              "1    2302\n",
              "0    2302\n",
              "Name: Ingresados Si/No, dtype: int64"
            ]
          },
          "metadata": {},
          "execution_count": 20
        }
      ]
    },
    {
      "cell_type": "markdown",
      "source": [
        "**Aplicación de modelos con ajuste de datos**"
      ],
      "metadata": {
        "id": "jaamlNJxsRXc"
      }
    },
    {
      "cell_type": "code",
      "source": [
        "names = []\n",
        "accuracy = []\n",
        "sensitivity = []\n",
        "precision = []\n",
        "especifidad = []\n",
        "aucs = []\n",
        "f1s = []\n",
        "for name, model in models:\n",
        "    names.append(name)\n",
        "    model.fit(X_resampled, y_resampled)\n",
        "    y_pred = model.predict(X_test)\n",
        "    cfm = confusion_matrix(y_test, y_pred)\n",
        "    print('Modelo actual: ', name)\n",
        "    print('Matriz de confusión\\n:',cfm)\n",
        "    print(classification_report(y_test, y_pred))\n",
        "    # save confusion matrix and slice into four pieces\n",
        "    confusion = confusion_matrix(y_test, y_pred)\n",
        "    #[row, column]\n",
        "    TP = confusion[1, 1]\n",
        "    print(\"True Positives TP:\", TP)\n",
        "    TN = confusion[0, 0]\n",
        "    print(\"True Negatives TN:\", TN)\n",
        "    FP = confusion[0, 1]\n",
        "    print(\"False Positives FP:\", FP)\n",
        "    FN = confusion[1, 0]\n",
        "    print(\"False Negatives FN:\", FN)\n",
        "    \n",
        "    accu = accuracy_score(y_test, y_pred)\n",
        "    sens =TP / float(FN + TP)\n",
        "    pres =  TP / float(TP + FP)\n",
        "    espe =TN / (TN + FP)\n",
        "    f1 = metrics.f1_score(y_test, y_pred)\n",
        "    \n",
        "    accuracy.append(accu)\n",
        "    sensitivity.append(sens)\n",
        "    precision.append(pres)\n",
        "    especifidad.append(espe)\n",
        "    f1s.append (f1)\n",
        "    print(\"\\n Accuracy = \",accu )  \n",
        "    print(\"Sensitivity =\" ,sens )\n",
        "    print(\"Precision = \",pres) \n",
        "    print(\"Especifividad = \",espe )\n",
        "    print(\"F1 score = \",f1)\n",
        "\n",
        "    \n",
        "    \n",
        "    y_pred_prod_pos = model.predict_proba(X_test)[:,1]\n",
        "    fpr, tpr, thresholds = metrics.roc_curve(y_test, y_pred_prod_pos)\n",
        "    auc = metrics.roc_auc_score(y_test, y_pred_prod_pos)\n",
        "    aucs.append(auc)\n",
        "    print(\"AUC:\",auc )\n",
        "    \n",
        "    fig = plt.figure()\n",
        "    ax = fig.add_subplot(111)\n",
        "    plt.plot(fpr, tpr)\n",
        "    plt.xlabel('False Positive Rate (1 - Specificity)')\n",
        "    plt.ylabel('True Positive Rate (Sensitivity)')\n",
        "\n",
        "    plt.show()\n",
        "    "
      ],
      "metadata": {
        "colab": {
          "base_uri": "https://localhost:8080/",
          "height": 1000
        },
        "id": "_NDnBoxXHjsd",
        "outputId": "554309b3-2a5b-44ba-b6a1-48417f39046b"
      },
      "execution_count": null,
      "outputs": [
        {
          "output_type": "stream",
          "name": "stdout",
          "text": [
            "Modelo actual:  KNN\n",
            "Matriz de confusión\n",
            ": [[461   2]\n",
            " [  0   4]]\n",
            "              precision    recall  f1-score   support\n",
            "\n",
            "           0       1.00      1.00      1.00       463\n",
            "           1       0.67      1.00      0.80         4\n",
            "\n",
            "    accuracy                           1.00       467\n",
            "   macro avg       0.83      1.00      0.90       467\n",
            "weighted avg       1.00      1.00      1.00       467\n",
            "\n",
            "True Positives TP: 4\n",
            "True Negatives TN: 461\n",
            "False Positives FP: 2\n",
            "False Negatives FN: 0\n",
            "\n",
            " Accuracy =  0.9957173447537473\n",
            "Sensitivity = 1.0\n",
            "Precision =  0.6666666666666666\n",
            "Especifividad =  0.9956803455723542\n",
            "F1 score =  0.8\n",
            "AUC: 1.0\n"
          ]
        },
        {
          "output_type": "display_data",
          "data": {
            "text/plain": [
              "<Figure size 432x288 with 1 Axes>"
            ],
            "image/png": "[encoded data removed]"
          },
          "metadata": {
            "needs_background": "light"
          }
        },
        {
          "output_type": "stream",
          "name": "stdout",
          "text": [
            "Modelo actual:  SVC\n",
            "Matriz de confusión\n",
            ": [[459   4]\n",
            " [  0   4]]\n",
            "              precision    recall  f1-score   support\n",
            "\n",
            "           0       1.00      0.99      1.00       463\n",
            "           1       0.50      1.00      0.67         4\n",
            "\n",
            "    accuracy                           0.99       467\n",
            "   macro avg       0.75      1.00      0.83       467\n",
            "weighted avg       1.00      0.99      0.99       467\n",
            "\n",
            "True Positives TP: 4\n",
            "True Negatives TN: 459\n",
            "False Positives FP: 4\n",
            "False Negatives FN: 0\n",
            "\n",
            " Accuracy =  0.9914346895074947\n",
            "Sensitivity = 1.0\n",
            "Precision =  0.5\n",
            "Especifividad =  0.9913606911447084\n",
            "F1 score =  0.6666666666666666\n",
            "AUC: 0.9978401727861771\n"
          ]
        },
        {
          "output_type": "display_data",
          "data": {
            "text/plain": [
              "<Figure size 432x288 with 1 Axes>"
            ],
            "image/png": "[encoded data removed]"
          },
          "metadata": {
            "needs_background": "light"
          }
        },
        {
          "output_type": "stream",
          "name": "stdout",
          "text": [
            "Modelo actual:  LR\n",
            "Matriz de confusión\n",
            ": [[459   4]\n",
            " [  0   4]]\n",
            "              precision    recall  f1-score   support\n",
            "\n",
            "           0       1.00      0.99      1.00       463\n",
            "           1       0.50      1.00      0.67         4\n",
            "\n",
            "    accuracy                           0.99       467\n",
            "   macro avg       0.75      1.00      0.83       467\n",
            "weighted avg       1.00      0.99      0.99       467\n",
            "\n",
            "True Positives TP: 4\n",
            "True Negatives TN: 459\n",
            "False Positives FP: 4\n",
            "False Negatives FN: 0\n",
            "\n",
            " Accuracy =  0.9914346895074947\n",
            "Sensitivity = 1.0\n",
            "Precision =  0.5\n",
            "Especifividad =  0.9913606911447084\n",
            "F1 score =  0.6666666666666666\n",
            "AUC: 0.9989200863930886\n"
          ]
        },
        {
          "output_type": "display_data",
          "data": {
            "text/plain": [
              "<Figure size 432x288 with 1 Axes>"
            ],
            "image/png": "[encoded data removed]"
          },
          "metadata": {
            "needs_background": "light"
          }
        },
        {
          "output_type": "stream",
          "name": "stdout",
          "text": [
            "Modelo actual:  DT\n",
            "Matriz de confusión\n",
            ": [[463   0]\n",
            " [  0   4]]\n",
            "              precision    recall  f1-score   support\n",
            "\n",
            "           0       1.00      1.00      1.00       463\n",
            "           1       1.00      1.00      1.00         4\n",
            "\n",
            "    accuracy                           1.00       467\n",
            "   macro avg       1.00      1.00      1.00       467\n",
            "weighted avg       1.00      1.00      1.00       467\n",
            "\n",
            "True Positives TP: 4\n",
            "True Negatives TN: 463\n",
            "False Positives FP: 0\n",
            "False Negatives FN: 0\n",
            "\n",
            " Accuracy =  1.0\n",
            "Sensitivity = 1.0\n",
            "Precision =  1.0\n",
            "Especifividad =  1.0\n",
            "F1 score =  1.0\n",
            "AUC: 1.0\n"
          ]
        },
        {
          "output_type": "display_data",
          "data": {
            "text/plain": [
              "<Figure size 432x288 with 1 Axes>"
            ],
            "image/png": "[encoded data removed]"
          },
          "metadata": {
            "needs_background": "light"
          }
        },
        {
          "output_type": "stream",
          "name": "stdout",
          "text": [
            "Modelo actual:  GNB\n",
            "Matriz de confusión\n",
            ": [[421  42]\n",
            " [  0   4]]\n",
            "              precision    recall  f1-score   support\n",
            "\n",
            "           0       1.00      0.91      0.95       463\n",
            "           1       0.09      1.00      0.16         4\n",
            "\n",
            "    accuracy                           0.91       467\n",
            "   macro avg       0.54      0.95      0.56       467\n",
            "weighted avg       0.99      0.91      0.95       467\n",
            "\n",
            "True Positives TP: 4\n",
            "True Negatives TN: 421\n",
            "False Positives FP: 42\n",
            "False Negatives FN: 0\n",
            "\n",
            " Accuracy =  0.9100642398286938\n",
            "Sensitivity = 1.0\n",
            "Precision =  0.08695652173913043\n",
            "Especifividad =  0.9092872570194385\n",
            "F1 score =  0.16\n",
            "AUC: 0.9700323974082072\n"
          ]
        },
        {
          "output_type": "display_data",
          "data": {
            "text/plain": [
              "<Figure size 432x288 with 1 Axes>"
            ],
            "image/png": "[encoded data removed]"
          },
          "metadata": {
            "needs_background": "light"
          }
        },
        {
          "output_type": "stream",
          "name": "stdout",
          "text": [
            "Modelo actual:  RF\n",
            "Matriz de confusión\n",
            ": [[463   0]\n",
            " [  0   4]]\n",
            "              precision    recall  f1-score   support\n",
            "\n",
            "           0       1.00      1.00      1.00       463\n",
            "           1       1.00      1.00      1.00         4\n",
            "\n",
            "    accuracy                           1.00       467\n",
            "   macro avg       1.00      1.00      1.00       467\n",
            "weighted avg       1.00      1.00      1.00       467\n",
            "\n",
            "True Positives TP: 4\n",
            "True Negatives TN: 463\n",
            "False Positives FP: 0\n",
            "False Negatives FN: 0\n",
            "\n",
            " Accuracy =  1.0\n",
            "Sensitivity = 1.0\n",
            "Precision =  1.0\n",
            "Especifividad =  1.0\n",
            "F1 score =  1.0\n",
            "AUC: 1.0\n"
          ]
        },
        {
          "output_type": "display_data",
          "data": {
            "text/plain": [
              "<Figure size 432x288 with 1 Axes>"
            ],
            "image/png": "[encoded data removed]"
          },
          "metadata": {
            "needs_background": "light"
          }
        },
        {
          "output_type": "stream",
          "name": "stdout",
          "text": [
            "Modelo actual:  GB\n",
            "Matriz de confusión\n",
            ": [[463   0]\n",
            " [  0   4]]\n",
            "              precision    recall  f1-score   support\n",
            "\n",
            "           0       1.00      1.00      1.00       463\n",
            "           1       1.00      1.00      1.00         4\n",
            "\n",
            "    accuracy                           1.00       467\n",
            "   macro avg       1.00      1.00      1.00       467\n",
            "weighted avg       1.00      1.00      1.00       467\n",
            "\n",
            "True Positives TP: 4\n",
            "True Negatives TN: 463\n",
            "False Positives FP: 0\n",
            "False Negatives FN: 0\n",
            "\n",
            " Accuracy =  1.0\n",
            "Sensitivity = 1.0\n",
            "Precision =  1.0\n",
            "Especifividad =  1.0\n",
            "F1 score =  1.0\n",
            "AUC: 0.9999999999999999\n"
          ]
        },
        {
          "output_type": "display_data",
          "data": {
            "text/plain": [
              "<Figure size 432x288 with 1 Axes>"
            ],
            "image/png": "[encoded data removed]"
          },
          "metadata": {
            "needs_background": "light"
          }
        },
        {
          "output_type": "stream",
          "name": "stdout",
          "text": [
            "Modelo actual:  MLP\n",
            "Matriz de confusión\n",
            ": [[462   1]\n",
            " [  0   4]]\n",
            "              precision    recall  f1-score   support\n",
            "\n",
            "           0       1.00      1.00      1.00       463\n",
            "           1       0.80      1.00      0.89         4\n",
            "\n",
            "    accuracy                           1.00       467\n",
            "   macro avg       0.90      1.00      0.94       467\n",
            "weighted avg       1.00      1.00      1.00       467\n",
            "\n",
            "True Positives TP: 4\n",
            "True Negatives TN: 462\n",
            "False Positives FP: 1\n",
            "False Negatives FN: 0\n",
            "\n",
            " Accuracy =  0.9978586723768736\n",
            "Sensitivity = 1.0\n",
            "Precision =  0.8\n",
            "Especifividad =  0.9978401727861771\n",
            "F1 score =  0.888888888888889\n",
            "AUC: 0.9994600431965442\n"
          ]
        },
        {
          "output_type": "display_data",
          "data": {
            "text/plain": [
              "<Figure size 432x288 with 1 Axes>"
            ],
            "image/png": "[encoded data removed]"
          },
          "metadata": {
            "needs_background": "light"
          }
        }
      ]
    },
    {
      "cell_type": "code",
      "source": [
        "tr_split = pd.DataFrame({'Name': names, 'Accuracy': accuracy, 'Sensitivity': sensitivity, 'Precision': precision, 'Especifidad': especifidad, 'F1 score': f1s,'AUC': aucs})\n",
        "tr_split"
      ],
      "metadata": {
        "colab": {
          "base_uri": "https://localhost:8080/",
          "height": 300
        },
        "id": "tQFaxu1puaww",
        "outputId": "f701e74e-6dde-417a-b320-91d509df5576"
      },
      "execution_count": null,
      "outputs": [
        {
          "output_type": "execute_result",
          "data": {
            "text/plain": [
              "  Name  Accuracy  Sensitivity  Precision  Especifidad  F1 score       AUC\n",
              "0  KNN  0.995717          1.0   0.666667     0.995680  0.800000  1.000000\n",
              "1  SVC  0.991435          1.0   0.500000     0.991361  0.666667  0.997840\n",
              "2   LR  0.991435          1.0   0.500000     0.991361  0.666667  0.998920\n",
              "3   DT  1.000000          1.0   1.000000     1.000000  1.000000  1.000000\n",
              "4  GNB  0.910064          1.0   0.086957     0.909287  0.160000  0.970032\n",
              "5   RF  1.000000          1.0   1.000000     1.000000  1.000000  1.000000\n",
              "6   GB  1.000000          1.0   1.000000     1.000000  1.000000  1.000000\n",
              "7  MLP  0.997859          1.0   0.800000     0.997840  0.888889  0.999460"
            ],
            "text/html": [
              "\n",
              "  <div id=\"df-a5b24a04-c14c-47a1-809b-2a67df60cbc4\">\n",
              "    <div class=\"colab-df-container\">\n",
              "      <div>\n",
              "<style scoped>\n",
              "    .dataframe tbody tr th:only-of-type {\n",
              "        vertical-align: middle;\n",
              "    }\n",
              "\n",
              "    .dataframe tbody tr th {\n",
              "        vertical-align: top;\n",
              "    }\n",
              "\n",
              "    .dataframe thead th {\n",
              "        text-align: right;\n",
              "    }\n",
              "</style>\n",
              "<table border=\"1\" class=\"dataframe\">\n",
              "  <thead>\n",
              "    <tr style=\"text-align: right;\">\n",
              "      <th></th>\n",
              "      <th>Name</th>\n",
              "      <th>Accuracy</th>\n",
              "      <th>Sensitivity</th>\n",
              "      <th>Precision</th>\n",
              "      <th>Especifidad</th>\n",
              "      <th>F1 score</th>\n",
              "      <th>AUC</th>\n",
              "    </tr>\n",
              "  </thead>\n",
              "  <tbody>\n",
              "    <tr>\n",
              "      <th>0</th>\n",
              "      <td>KNN</td>\n",
              "      <td>0.995717</td>\n",
              "      <td>1.0</td>\n",
              "      <td>0.666667</td>\n",
              "      <td>0.995680</td>\n",
              "      <td>0.800000</td>\n",
              "      <td>1.000000</td>\n",
              "    </tr>\n",
              "    <tr>\n",
              "      <th>1</th>\n",
              "      <td>SVC</td>\n",
              "      <td>0.991435</td>\n",
              "      <td>1.0</td>\n",
              "      <td>0.500000</td>\n",
              "      <td>0.991361</td>\n",
              "      <td>0.666667</td>\n",
              "      <td>0.997840</td>\n",
              "    </tr>\n",
              "    <tr>\n",
              "      <th>2</th>\n",
              "      <td>LR</td>\n",
              "      <td>0.991435</td>\n",
              "      <td>1.0</td>\n",
              "      <td>0.500000</td>\n",
              "      <td>0.991361</td>\n",
              "      <td>0.666667</td>\n",
              "      <td>0.998920</td>\n",
              "    </tr>\n",
              "    <tr>\n",
              "      <th>3</th>\n",
              "      <td>DT</td>\n",
              "      <td>1.000000</td>\n",
              "      <td>1.0</td>\n",
              "      <td>1.000000</td>\n",
              "      <td>1.000000</td>\n",
              "      <td>1.000000</td>\n",
              "      <td>1.000000</td>\n",
              "    </tr>\n",
              "    <tr>\n",
              "      <th>4</th>\n",
              "      <td>GNB</td>\n",
              "      <td>0.910064</td>\n",
              "      <td>1.0</td>\n",
              "      <td>0.086957</td>\n",
              "      <td>0.909287</td>\n",
              "      <td>0.160000</td>\n",
              "      <td>0.970032</td>\n",
              "    </tr>\n",
              "    <tr>\n",
              "      <th>5</th>\n",
              "      <td>RF</td>\n",
              "      <td>1.000000</td>\n",
              "      <td>1.0</td>\n",
              "      <td>1.000000</td>\n",
              "      <td>1.000000</td>\n",
              "      <td>1.000000</td>\n",
              "      <td>1.000000</td>\n",
              "    </tr>\n",
              "    <tr>\n",
              "      <th>6</th>\n",
              "      <td>GB</td>\n",
              "      <td>1.000000</td>\n",
              "      <td>1.0</td>\n",
              "      <td>1.000000</td>\n",
              "      <td>1.000000</td>\n",
              "      <td>1.000000</td>\n",
              "      <td>1.000000</td>\n",
              "    </tr>\n",
              "    <tr>\n",
              "      <th>7</th>\n",
              "      <td>MLP</td>\n",
              "      <td>0.997859</td>\n",
              "      <td>1.0</td>\n",
              "      <td>0.800000</td>\n",
              "      <td>0.997840</td>\n",
              "      <td>0.888889</td>\n",
              "      <td>0.999460</td>\n",
              "    </tr>\n",
              "  </tbody>\n",
              "</table>\n",
              "</div>\n",
              "      <button class=\"colab-df-convert\" onclick=\"convertToInteractive('df-a5b24a04-c14c-47a1-809b-2a67df60cbc4')\"\n",
              "              title=\"Convert this dataframe to an interactive table.\"\n",
              "              style=\"display:none;\">\n",
              "        \n",
              "  <svg xmlns=\"http://www.w3.org/2000/svg\" height=\"24px\"viewBox=\"0 0 24 24\"\n",
              "       width=\"24px\">\n",
              "    <path d=\"M0 0h24v24H0V0z\" fill=\"none\"/>\n",
              "    <path d=\"M18.56 5.44l.94 2.06.94-2.06 2.06-.94-2.06-.94-.94-2.06-.94 2.06-2.06.94zm-11 1L8.5 8.5l.94-2.06 2.06-.94-2.06-.94L8.5 2.5l-.94 2.06-2.06.94zm10 10l.94 2.06.94-2.06 2.06-.94-2.06-.94-.94-2.06-.94 2.06-2.06.94z\"/><path d=\"M17.41 7.96l-1.37-1.37c-.4-.4-.92-.59-1.43-.59-.52 0-1.04.2-1.43.59L10.3 9.45l-7.72 7.72c-.78.78-.78 2.05 0 2.83L4 21.41c.39.39.9.59 1.41.59.51 0 1.02-.2 1.41-.59l7.78-7.78 2.81-2.81c.8-.78.8-2.07 0-2.86zM5.41 20L4 18.59l7.72-7.72 1.47 1.35L5.41 20z\"/>\n",
              "  </svg>\n",
              "      </button>\n",
              "      \n",
              "  <style>\n",
              "    .colab-df-container {\n",
              "      display:flex;\n",
              "      flex-wrap:wrap;\n",
              "      gap: 12px;\n",
              "    }\n",
              "\n",
              "    .colab-df-convert {\n",
              "      background-color: #E8F0FE;\n",
              "      border: none;\n",
              "      border-radius: 50%;\n",
              "      cursor: pointer;\n",
              "      display: none;\n",
              "      fill: #1967D2;\n",
              "      height: 32px;\n",
              "      padding: 0 0 0 0;\n",
              "      width: 32px;\n",
              "    }\n",
              "\n",
              "    .colab-df-convert:hover {\n",
              "      background-color: #E2EBFA;\n",
              "      box-shadow: 0px 1px 2px rgba(60, 64, 67, 0.3), 0px 1px 3px 1px rgba(60, 64, 67, 0.15);\n",
              "      fill: #174EA6;\n",
              "    }\n",
              "\n",
              "    [theme=dark] .colab-df-convert {\n",
              "      background-color: #3B4455;\n",
              "      fill: #D2E3FC;\n",
              "    }\n",
              "\n",
              "    [theme=dark] .colab-df-convert:hover {\n",
              "      background-color: #434B5C;\n",
              "      box-shadow: 0px 1px 3px 1px rgba(0, 0, 0, 0.15);\n",
              "      filter: drop-shadow(0px 1px 2px rgba(0, 0, 0, 0.3));\n",
              "      fill: #FFFFFF;\n",
              "    }\n",
              "  </style>\n",
              "\n",
              "      <script>\n",
              "        const buttonEl =\n",
              "          document.querySelector('#df-a5b24a04-c14c-47a1-809b-2a67df60cbc4 button.colab-df-convert');\n",
              "        buttonEl.style.display =\n",
              "          google.colab.kernel.accessAllowed ? 'block' : 'none';\n",
              "\n",
              "        async function convertToInteractive(key) {\n",
              "          const element = document.querySelector('#df-a5b24a04-c14c-47a1-809b-2a67df60cbc4');\n",
              "          const dataTable =\n",
              "            await google.colab.kernel.invokeFunction('convertToInteractive',\n",
              "                                                     [key], {});\n",
              "          if (!dataTable) return;\n",
              "\n",
              "          const docLinkHtml = 'Like what you see? Visit the ' +\n",
              "            '<a target=\"_blank\" href=https://colab.research.google.com/notebooks/data_table.ipynb>data table notebook</a>'\n",
              "            + ' to learn more about interactive tables.';\n",
              "          element.innerHTML = '';\n",
              "          dataTable['output_type'] = 'display_data';\n",
              "          await google.colab.output.renderOutput(dataTable, element);\n",
              "          const docLink = document.createElement('div');\n",
              "          docLink.innerHTML = docLinkHtml;\n",
              "          element.appendChild(docLink);\n",
              "        }\n",
              "      </script>\n",
              "    </div>\n",
              "  </div>\n",
              "  "
            ]
          },
          "metadata": {},
          "execution_count": 22
        }
      ]
    },
    {
      "cell_type": "markdown",
      "source": [
        "###Ajuste de hiperparámetros"
      ],
      "metadata": {
        "id": "DGUS0-_4Hu5Q"
      }
    },
    {
      "cell_type": "markdown",
      "source": [
        "##Random Forest"
      ],
      "metadata": {
        "id": "euzJUlBX_717"
      }
    },
    {
      "cell_type": "code",
      "source": [
        "from sklearn.model_selection import GridSearchCV"
      ],
      "metadata": {
        "id": "CUYEHigX5BsC"
      },
      "execution_count": null,
      "outputs": []
    },
    {
      "cell_type": "code",
      "source": [
        "tunnedModels = []\n",
        "\n",
        "import numpy as np\n",
        "\n",
        "param_grid = {\n",
        "    'bootstrap': [True],\n",
        "    'max_depth': [80, 90, 100, 110],\n",
        "    'max_features': [2, 3],\n",
        "    'min_samples_leaf': [3, 4, 5],\n",
        "    'min_samples_split': [8, 10, 12],\n",
        "    'n_estimators': [100, 200, 300, 1000]\n",
        "}\n",
        "\n",
        "\n",
        "model =  GridSearchCV(RandomForestClassifier(), param_grid, \n",
        "                          cv = 3, n_jobs = -1, verbose = 2,scoring = 'precision')\n",
        "model.fit(X_train, y_train)\n",
        "best_parameters = model.best_params_\n",
        "print(best_parameters)\n",
        "\n",
        "\n",
        "#tunnedModels.append(('RF', RandomForestClassifier(best_parameters)))\n"
      ],
      "metadata": {
        "colab": {
          "base_uri": "https://localhost:8080/",
          "height": 397
        },
        "id": "0occFrPYH5MW",
        "outputId": "f033c393-ccd1-493b-bbbc-ebf6c83a3738"
      },
      "execution_count": null,
      "outputs": [
        {
          "output_type": "stream",
          "name": "stdout",
          "text": [
            "Fitting 3 folds for each of 288 candidates, totalling 864 fits\n"
          ]
        },
        {
          "output_type": "error",
          "ename": "KeyboardInterrupt",
          "evalue": "ignored",
          "traceback": [
            "\u001b[0;31m---------------------------------------------------------------------------\u001b[0m",
            "\u001b[0;31mKeyboardInterrupt\u001b[0m                         Traceback (most recent call last)",
            "\u001b[0;32m<ipython-input-24-aee712e8785d>\u001b[0m in \u001b[0;36m<module>\u001b[0;34m()\u001b[0m\n\u001b[1;32m     15\u001b[0m model =  GridSearchCV(RandomForestClassifier(), param_grid, \n\u001b[1;32m     16\u001b[0m                           cv = 3, n_jobs = -1, verbose = 2,scoring = 'precision')\n\u001b[0;32m---> 17\u001b[0;31m \u001b[0mmodel\u001b[0m\u001b[0;34m.\u001b[0m\u001b[0mfit\u001b[0m\u001b[0;34m(\u001b[0m\u001b[0mX_train\u001b[0m\u001b[0;34m,\u001b[0m \u001b[0my_train\u001b[0m\u001b[0;34m)\u001b[0m\u001b[0;34m\u001b[0m\u001b[0;34m\u001b[0m\u001b[0m\n\u001b[0m\u001b[1;32m     18\u001b[0m \u001b[0mbest_parameters\u001b[0m \u001b[0;34m=\u001b[0m \u001b[0mmodel\u001b[0m\u001b[0;34m.\u001b[0m\u001b[0mbest_params_\u001b[0m\u001b[0;34m\u001b[0m\u001b[0;34m\u001b[0m\u001b[0m\n\u001b[1;32m     19\u001b[0m \u001b[0mprint\u001b[0m\u001b[0;34m(\u001b[0m\u001b[0mbest_parameters\u001b[0m\u001b[0;34m)\u001b[0m\u001b[0;34m\u001b[0m\u001b[0;34m\u001b[0m\u001b[0m\n",
            "\u001b[0;32m/usr/local/lib/python3.7/dist-packages/sklearn/model_selection/_search.py\u001b[0m in \u001b[0;36mfit\u001b[0;34m(self, X, y, groups, **fit_params)\u001b[0m\n\u001b[1;32m    889\u001b[0m                 \u001b[0;32mreturn\u001b[0m \u001b[0mresults\u001b[0m\u001b[0;34m\u001b[0m\u001b[0;34m\u001b[0m\u001b[0m\n\u001b[1;32m    890\u001b[0m \u001b[0;34m\u001b[0m\u001b[0m\n\u001b[0;32m--> 891\u001b[0;31m             \u001b[0mself\u001b[0m\u001b[0;34m.\u001b[0m\u001b[0m_run_search\u001b[0m\u001b[0;34m(\u001b[0m\u001b[0mevaluate_candidates\u001b[0m\u001b[0;34m)\u001b[0m\u001b[0;34m\u001b[0m\u001b[0;34m\u001b[0m\u001b[0m\n\u001b[0m\u001b[1;32m    892\u001b[0m \u001b[0;34m\u001b[0m\u001b[0m\n\u001b[1;32m    893\u001b[0m             \u001b[0;31m# multimetric is determined here because in the case of a callable\u001b[0m\u001b[0;34m\u001b[0m\u001b[0;34m\u001b[0m\u001b[0;34m\u001b[0m\u001b[0m\n",
            "\u001b[0;32m/usr/local/lib/python3.7/dist-packages/sklearn/model_selection/_search.py\u001b[0m in \u001b[0;36m_run_search\u001b[0;34m(self, evaluate_candidates)\u001b[0m\n\u001b[1;32m   1390\u001b[0m     \u001b[0;32mdef\u001b[0m \u001b[0m_run_search\u001b[0m\u001b[0;34m(\u001b[0m\u001b[0mself\u001b[0m\u001b[0;34m,\u001b[0m \u001b[0mevaluate_candidates\u001b[0m\u001b[0;34m)\u001b[0m\u001b[0;34m:\u001b[0m\u001b[0;34m\u001b[0m\u001b[0;34m\u001b[0m\u001b[0m\n\u001b[1;32m   1391\u001b[0m         \u001b[0;34m\"\"\"Search all candidates in param_grid\"\"\"\u001b[0m\u001b[0;34m\u001b[0m\u001b[0;34m\u001b[0m\u001b[0m\n\u001b[0;32m-> 1392\u001b[0;31m         \u001b[0mevaluate_candidates\u001b[0m\u001b[0;34m(\u001b[0m\u001b[0mParameterGrid\u001b[0m\u001b[0;34m(\u001b[0m\u001b[0mself\u001b[0m\u001b[0;34m.\u001b[0m\u001b[0mparam_grid\u001b[0m\u001b[0;34m)\u001b[0m\u001b[0;34m)\u001b[0m\u001b[0;34m\u001b[0m\u001b[0;34m\u001b[0m\u001b[0m\n\u001b[0m\u001b[1;32m   1393\u001b[0m \u001b[0;34m\u001b[0m\u001b[0m\n\u001b[1;32m   1394\u001b[0m \u001b[0;34m\u001b[0m\u001b[0m\n",
            "\u001b[0;32m/usr/local/lib/python3.7/dist-packages/sklearn/model_selection/_search.py\u001b[0m in \u001b[0;36mevaluate_candidates\u001b[0;34m(candidate_params, cv, more_results)\u001b[0m\n\u001b[1;32m    849\u001b[0m                     )\n\u001b[1;32m    850\u001b[0m                     for (cand_idx, parameters), (split_idx, (train, test)) in product(\n\u001b[0;32m--> 851\u001b[0;31m                         \u001b[0menumerate\u001b[0m\u001b[0;34m(\u001b[0m\u001b[0mcandidate_params\u001b[0m\u001b[0;34m)\u001b[0m\u001b[0;34m,\u001b[0m \u001b[0menumerate\u001b[0m\u001b[0;34m(\u001b[0m\u001b[0mcv\u001b[0m\u001b[0;34m.\u001b[0m\u001b[0msplit\u001b[0m\u001b[0;34m(\u001b[0m\u001b[0mX\u001b[0m\u001b[0;34m,\u001b[0m \u001b[0my\u001b[0m\u001b[0;34m,\u001b[0m \u001b[0mgroups\u001b[0m\u001b[0;34m)\u001b[0m\u001b[0;34m)\u001b[0m\u001b[0;34m\u001b[0m\u001b[0;34m\u001b[0m\u001b[0m\n\u001b[0m\u001b[1;32m    852\u001b[0m                     )\n\u001b[1;32m    853\u001b[0m                 )\n",
            "\u001b[0;32m/usr/local/lib/python3.7/dist-packages/joblib/parallel.py\u001b[0m in \u001b[0;36m__call__\u001b[0;34m(self, iterable)\u001b[0m\n\u001b[1;32m   1054\u001b[0m \u001b[0;34m\u001b[0m\u001b[0m\n\u001b[1;32m   1055\u001b[0m             \u001b[0;32mwith\u001b[0m \u001b[0mself\u001b[0m\u001b[0;34m.\u001b[0m\u001b[0m_backend\u001b[0m\u001b[0;34m.\u001b[0m\u001b[0mretrieval_context\u001b[0m\u001b[0;34m(\u001b[0m\u001b[0;34m)\u001b[0m\u001b[0;34m:\u001b[0m\u001b[0;34m\u001b[0m\u001b[0;34m\u001b[0m\u001b[0m\n\u001b[0;32m-> 1056\u001b[0;31m                 \u001b[0mself\u001b[0m\u001b[0;34m.\u001b[0m\u001b[0mretrieve\u001b[0m\u001b[0;34m(\u001b[0m\u001b[0;34m)\u001b[0m\u001b[0;34m\u001b[0m\u001b[0;34m\u001b[0m\u001b[0m\n\u001b[0m\u001b[1;32m   1057\u001b[0m             \u001b[0;31m# Make sure that we get a last message telling us we are done\u001b[0m\u001b[0;34m\u001b[0m\u001b[0;34m\u001b[0m\u001b[0;34m\u001b[0m\u001b[0m\n\u001b[1;32m   1058\u001b[0m             \u001b[0melapsed_time\u001b[0m \u001b[0;34m=\u001b[0m \u001b[0mtime\u001b[0m\u001b[0;34m.\u001b[0m\u001b[0mtime\u001b[0m\u001b[0;34m(\u001b[0m\u001b[0;34m)\u001b[0m \u001b[0;34m-\u001b[0m \u001b[0mself\u001b[0m\u001b[0;34m.\u001b[0m\u001b[0m_start_time\u001b[0m\u001b[0;34m\u001b[0m\u001b[0;34m\u001b[0m\u001b[0m\n",
            "\u001b[0;32m/usr/local/lib/python3.7/dist-packages/joblib/parallel.py\u001b[0m in \u001b[0;36mretrieve\u001b[0;34m(self)\u001b[0m\n\u001b[1;32m    933\u001b[0m             \u001b[0;32mtry\u001b[0m\u001b[0;34m:\u001b[0m\u001b[0;34m\u001b[0m\u001b[0;34m\u001b[0m\u001b[0m\n\u001b[1;32m    934\u001b[0m                 \u001b[0;32mif\u001b[0m \u001b[0mgetattr\u001b[0m\u001b[0;34m(\u001b[0m\u001b[0mself\u001b[0m\u001b[0;34m.\u001b[0m\u001b[0m_backend\u001b[0m\u001b[0;34m,\u001b[0m \u001b[0;34m'supports_timeout'\u001b[0m\u001b[0;34m,\u001b[0m \u001b[0;32mFalse\u001b[0m\u001b[0;34m)\u001b[0m\u001b[0;34m:\u001b[0m\u001b[0;34m\u001b[0m\u001b[0;34m\u001b[0m\u001b[0m\n\u001b[0;32m--> 935\u001b[0;31m                     \u001b[0mself\u001b[0m\u001b[0;34m.\u001b[0m\u001b[0m_output\u001b[0m\u001b[0;34m.\u001b[0m\u001b[0mextend\u001b[0m\u001b[0;34m(\u001b[0m\u001b[0mjob\u001b[0m\u001b[0;34m.\u001b[0m\u001b[0mget\u001b[0m\u001b[0;34m(\u001b[0m\u001b[0mtimeout\u001b[0m\u001b[0;34m=\u001b[0m\u001b[0mself\u001b[0m\u001b[0;34m.\u001b[0m\u001b[0mtimeout\u001b[0m\u001b[0;34m)\u001b[0m\u001b[0;34m)\u001b[0m\u001b[0;34m\u001b[0m\u001b[0;34m\u001b[0m\u001b[0m\n\u001b[0m\u001b[1;32m    936\u001b[0m                 \u001b[0;32melse\u001b[0m\u001b[0;34m:\u001b[0m\u001b[0;34m\u001b[0m\u001b[0;34m\u001b[0m\u001b[0m\n\u001b[1;32m    937\u001b[0m                     \u001b[0mself\u001b[0m\u001b[0;34m.\u001b[0m\u001b[0m_output\u001b[0m\u001b[0;34m.\u001b[0m\u001b[0mextend\u001b[0m\u001b[0;34m(\u001b[0m\u001b[0mjob\u001b[0m\u001b[0;34m.\u001b[0m\u001b[0mget\u001b[0m\u001b[0;34m(\u001b[0m\u001b[0;34m)\u001b[0m\u001b[0;34m)\u001b[0m\u001b[0;34m\u001b[0m\u001b[0;34m\u001b[0m\u001b[0m\n",
            "\u001b[0;32m/usr/local/lib/python3.7/dist-packages/joblib/_parallel_backends.py\u001b[0m in \u001b[0;36mwrap_future_result\u001b[0;34m(future, timeout)\u001b[0m\n\u001b[1;32m    540\u001b[0m         AsyncResults.get from multiprocessing.\"\"\"\n\u001b[1;32m    541\u001b[0m         \u001b[0;32mtry\u001b[0m\u001b[0;34m:\u001b[0m\u001b[0;34m\u001b[0m\u001b[0;34m\u001b[0m\u001b[0m\n\u001b[0;32m--> 542\u001b[0;31m             \u001b[0;32mreturn\u001b[0m \u001b[0mfuture\u001b[0m\u001b[0;34m.\u001b[0m\u001b[0mresult\u001b[0m\u001b[0;34m(\u001b[0m\u001b[0mtimeout\u001b[0m\u001b[0;34m=\u001b[0m\u001b[0mtimeout\u001b[0m\u001b[0;34m)\u001b[0m\u001b[0;34m\u001b[0m\u001b[0;34m\u001b[0m\u001b[0m\n\u001b[0m\u001b[1;32m    543\u001b[0m         \u001b[0;32mexcept\u001b[0m \u001b[0mCfTimeoutError\u001b[0m \u001b[0;32mas\u001b[0m \u001b[0me\u001b[0m\u001b[0;34m:\u001b[0m\u001b[0;34m\u001b[0m\u001b[0;34m\u001b[0m\u001b[0m\n\u001b[1;32m    544\u001b[0m             \u001b[0;32mraise\u001b[0m \u001b[0mTimeoutError\u001b[0m \u001b[0;32mfrom\u001b[0m \u001b[0me\u001b[0m\u001b[0;34m\u001b[0m\u001b[0;34m\u001b[0m\u001b[0m\n",
            "\u001b[0;32m/usr/lib/python3.7/concurrent/futures/_base.py\u001b[0m in \u001b[0;36mresult\u001b[0;34m(self, timeout)\u001b[0m\n\u001b[1;32m    428\u001b[0m                 \u001b[0;32mreturn\u001b[0m \u001b[0mself\u001b[0m\u001b[0;34m.\u001b[0m\u001b[0m__get_result\u001b[0m\u001b[0;34m(\u001b[0m\u001b[0;34m)\u001b[0m\u001b[0;34m\u001b[0m\u001b[0;34m\u001b[0m\u001b[0m\n\u001b[1;32m    429\u001b[0m \u001b[0;34m\u001b[0m\u001b[0m\n\u001b[0;32m--> 430\u001b[0;31m             \u001b[0mself\u001b[0m\u001b[0;34m.\u001b[0m\u001b[0m_condition\u001b[0m\u001b[0;34m.\u001b[0m\u001b[0mwait\u001b[0m\u001b[0;34m(\u001b[0m\u001b[0mtimeout\u001b[0m\u001b[0;34m)\u001b[0m\u001b[0;34m\u001b[0m\u001b[0;34m\u001b[0m\u001b[0m\n\u001b[0m\u001b[1;32m    431\u001b[0m \u001b[0;34m\u001b[0m\u001b[0m\n\u001b[1;32m    432\u001b[0m             \u001b[0;32mif\u001b[0m \u001b[0mself\u001b[0m\u001b[0;34m.\u001b[0m\u001b[0m_state\u001b[0m \u001b[0;32min\u001b[0m \u001b[0;34m[\u001b[0m\u001b[0mCANCELLED\u001b[0m\u001b[0;34m,\u001b[0m \u001b[0mCANCELLED_AND_NOTIFIED\u001b[0m\u001b[0;34m]\u001b[0m\u001b[0;34m:\u001b[0m\u001b[0;34m\u001b[0m\u001b[0;34m\u001b[0m\u001b[0m\n",
            "\u001b[0;32m/usr/lib/python3.7/threading.py\u001b[0m in \u001b[0;36mwait\u001b[0;34m(self, timeout)\u001b[0m\n\u001b[1;32m    294\u001b[0m         \u001b[0;32mtry\u001b[0m\u001b[0;34m:\u001b[0m    \u001b[0;31m# restore state no matter what (e.g., KeyboardInterrupt)\u001b[0m\u001b[0;34m\u001b[0m\u001b[0;34m\u001b[0m\u001b[0m\n\u001b[1;32m    295\u001b[0m             \u001b[0;32mif\u001b[0m \u001b[0mtimeout\u001b[0m \u001b[0;32mis\u001b[0m \u001b[0;32mNone\u001b[0m\u001b[0;34m:\u001b[0m\u001b[0;34m\u001b[0m\u001b[0;34m\u001b[0m\u001b[0m\n\u001b[0;32m--> 296\u001b[0;31m                 \u001b[0mwaiter\u001b[0m\u001b[0;34m.\u001b[0m\u001b[0macquire\u001b[0m\u001b[0;34m(\u001b[0m\u001b[0;34m)\u001b[0m\u001b[0;34m\u001b[0m\u001b[0;34m\u001b[0m\u001b[0m\n\u001b[0m\u001b[1;32m    297\u001b[0m                 \u001b[0mgotit\u001b[0m \u001b[0;34m=\u001b[0m \u001b[0;32mTrue\u001b[0m\u001b[0;34m\u001b[0m\u001b[0;34m\u001b[0m\u001b[0m\n\u001b[1;32m    298\u001b[0m             \u001b[0;32melse\u001b[0m\u001b[0;34m:\u001b[0m\u001b[0;34m\u001b[0m\u001b[0;34m\u001b[0m\u001b[0m\n",
            "\u001b[0;31mKeyboardInterrupt\u001b[0m: "
          ]
        }
      ]
    },
    {
      "cell_type": "markdown",
      "source": [
        "## Gradient Boosting"
      ],
      "metadata": {
        "id": "2RaYLpCOAC-r"
      }
    },
    {
      "cell_type": "code",
      "source": [
        "tunnedModels2 =[]\n",
        "parameters = {\n",
        "    \"n_estimators\":[5,50,250,500],\n",
        "    \"max_depth\":[1,3,5,7,9],\n",
        "    \"learning_rate\":[0.01,0.1,1,10,100]\n",
        "}\n",
        "\n",
        "model = GridSearchCV(GradientBoostingClassifier(),parameters,cv=5,scoring = 'precision')\n",
        "model.fit(X_train, y_train)\n",
        "best_parameters = model.best_params_\n",
        "print(best_parameters)\n",
        "#tunnedModels2.append(('GB', GradientBoostingClassifier(best_parameters)))"
      ],
      "metadata": {
        "id": "WEQJvUjJId9e"
      },
      "execution_count": null,
      "outputs": []
    },
    {
      "cell_type": "markdown",
      "source": [
        "## Decision Tree"
      ],
      "metadata": {
        "id": "pRV5gEv7AM6x"
      }
    },
    {
      "cell_type": "code",
      "source": [
        "from sklearn import decomposition, datasets\n",
        "from sklearn import tree\n",
        "from sklearn.pipeline import Pipeline\n",
        "from sklearn.model_selection import GridSearchCV\n",
        "from sklearn.preprocessing import StandardScaler\n",
        "\n",
        "std_slc = StandardScaler()\n",
        "pca = decomposition.PCA()\n",
        "dec_tree = tree.DecisionTreeClassifier()\n",
        "\n",
        "pipe = Pipeline(steps=[('std_slc', std_slc),\n",
        "                           ('pca', pca),\n",
        "                           ('dec_tree', dec_tree)])\n",
        "\n",
        "n_components = list(range(1,X.shape[1]+1,1))\n",
        "\n",
        "criterion = ['gini', 'entropy']\n",
        "max_depth = [2,4,6,8,10,12]\n",
        "parameters = dict(pca__n_components=n_components,\n",
        "                    dec_tree__criterion=criterion,\n",
        "                    dec_tree__max_depth=max_depth)\n",
        "\n",
        "model = GridSearchCV(pipe,parameters,cv=5,scoring = 'precision')\n",
        "model.fit(X_train, y_train)\n",
        "best_parameters = model.best_params_\n",
        "print(best_parameters)\n",
        "#tunnedModels.append(('DT', DecisionTreeClassifier(best_parameters)))"
      ],
      "metadata": {
        "id": "EGvzWQ_aAPro"
      },
      "execution_count": null,
      "outputs": []
    },
    {
      "cell_type": "markdown",
      "source": [
        "Random Forest\n",
        "\n",
        "{'bootstrap': True, 'max_depth': 80, 'max_features': 2, 'min_samples_leaf': 3, 'min_samples_split': 8, 'n_estimators': 100}\n",
        "\n",
        "Gradient Boosting\n",
        "\n",
        "{'learning_rate': 0.01, 'max_depth': 1, 'n_estimators': 250}\n",
        "\n",
        "Decision Tree\n",
        "\n",
        "{'dec_tree__criterion': 'gini', 'dec_tree__max_depth': 2, 'pca__n_components': 2}\n"
      ],
      "metadata": {
        "id": "AH86iHRAHUm_"
      }
    },
    {
      "cell_type": "markdown",
      "source": [
        "d) Implementa procedimiento de validación cruzada para los modelos más sobresalientes"
      ],
      "metadata": {
        "id": "8xCfqz_RIiKs"
      }
    },
    {
      "cell_type": "markdown",
      "source": [
        "## Random Forest"
      ],
      "metadata": {
        "id": "lz_wC9RoI8lH"
      }
    },
    {
      "cell_type": "code",
      "source": [
        "# importing cross-validation from sklearn package.\n",
        "from sklearn.model_selection import cross_val_score\n",
        "namesT = []\n",
        "accuracyT = []\n",
        "sensitivityT = []\n",
        "precisionT = []\n",
        "especifidadT = []\n",
        "aucsT = []\n",
        "f1sT = []\n",
        "\n",
        "name = 'RF'\n",
        "model = RandomForestClassifier(bootstrap = True, max_depth = 80, max_features = 2, min_samples_leaf = 3, min_samples_split = 8, n_estimators = 200)\n",
        "namesT.append(name)\n",
        "model.fit(X_train, y_train)\n",
        "y_pred = model.predict(X_test)\n",
        "cfm = confusion_matrix(y_test, y_pred)\n",
        "print('Modelo actual: ', model)\n",
        "print('Matriz de confusión\\n:',cfm)\n",
        "print(classification_report(y_test, y_pred))\n",
        "# save confusion matrix and slice into four pieces\n",
        "confusion = confusion_matrix(y_test, y_pred)\n",
        "#[row, column]\n",
        "TP = confusion[1, 1]\n",
        "print(\"True Positives TP:\", TP)\n",
        "TN = confusion[0, 0]\n",
        "print(\"True Negatives TN:\", TN)\n",
        "FP = confusion[0, 1]\n",
        "print(\"False Positives FP:\", FP)\n",
        "FN = confusion[1, 0]\n",
        "print(\"False Negatives FN:\", FN)\n",
        "plot_confusion_matrix(model, X_test, y_test,cmap=\"Reds\")\n",
        "plt.show()\n",
        "\n",
        "accu = accuracy_score(y_test, y_pred)\n",
        "sens =TP / float(FN + TP)\n",
        "pres =  TP / float(TP + FP)\n",
        "espe =TN / (TN + FP)\n",
        "f1 = metrics.f1_score(y_test, y_pred)\n",
        "\n",
        "accuracyT.append(accu)\n",
        "sensitivityT.append(sens)\n",
        "precisionT.append(pres)\n",
        "especifidadT.append(espe)\n",
        "f1sT.append (f1)\n",
        "\n",
        "\n",
        "print(\"\\nMétricas:\\nAccuracy = \",accu )  \n",
        "print(\"Sensitivity =\" ,sens )\n",
        "print(\"Precision = \",pres) \n",
        "print(\"Especifividad = \",espe )\n",
        "print(\"F1 score = \",f1)\n",
        "\n",
        "y_pred_prod_pos = model.predict_proba(X_test)[:,1]\n",
        "fpr, tpr, thresholds = metrics.roc_curve(y_test, y_pred_prod_pos)\n",
        "auc = metrics.roc_auc_score(y_test, y_pred_prod_pos)\n",
        "aucsT.append(auc)\n",
        "print(\"AUC:\",auc )\n",
        "\n",
        "fig = plt.figure()\n",
        "ax = fig.add_subplot(111)\n",
        "plt.plot(fpr, tpr)\n",
        "plt.xlabel('False Positive Rate (1 - Specificity)')\n",
        "plt.ylabel('True Positive Rate (Sensitivity)')\n",
        "\n",
        "print(\"\\nAplicando cross-validation\")\n",
        "scores = cross_val_score(model, X, y, cv=10)\n",
        "print(\"Scores:\\n\", scores)\n",
        "promedio = np.mean(cross_val_score(model, X_train, y_train, cv=5))\n",
        "print(\"Promedio de las pruebas:\",promedio)\n",
        "plt.show()\n",
        "print(\"\\n\")"
      ],
      "metadata": {
        "id": "IMJft-IjI6Np"
      },
      "execution_count": null,
      "outputs": []
    },
    {
      "cell_type": "markdown",
      "source": [
        "# Aplicación hiperparámetros"
      ],
      "metadata": {
        "id": "0__04j4A5oOJ"
      }
    },
    {
      "cell_type": "markdown",
      "source": [
        "## Gradient Boosting"
      ],
      "metadata": {
        "id": "53YtQjdPLgCf"
      }
    },
    {
      "cell_type": "code",
      "source": [
        "# importing cross-validation from sklearn package.\n",
        "from sklearn.model_selection import cross_val_score\n",
        "\n",
        "\n",
        "name = 'GB'\n",
        "model_GB = GradientBoostingClassifier(learning_rate = 0.01, max_depth = 1, n_estimators = 250)\n",
        "# namesT.append(name)\n",
        "model_GB.fit(X_train, y_train)\n",
        "y_pred = model_GB.predict(X_test)\n",
        "cfm = confusion_matrix(y_test, y_pred)\n",
        "print('Modelo actual: ', model_GB)\n",
        "print('Matriz de confusión\\n:',cfm)\n",
        "print(classification_report(y_test, y_pred))\n",
        "# save confusion matrix and slice into four pieces\n",
        "confusion = confusion_matrix(y_test, y_pred)\n",
        "#[row, column]\n",
        "TP = confusion[1, 1]\n",
        "print(\"True Positives TP:\", TP)\n",
        "TN = confusion[0, 0]\n",
        "print(\"True Negatives TN:\", TN)\n",
        "FP = confusion[0, 1]\n",
        "print(\"False Positives FP:\", FP)\n",
        "FN = confusion[1, 0]\n",
        "print(\"False Negatives FN:\", FN)\n",
        "plot_confusion_matrix(model_GB, X_test, y_test,cmap=\"Reds\")\n",
        "plt.show()\n",
        "\n",
        "accu = accuracy_score(y_test, y_pred)\n",
        "sens =TP / float(FN + TP)\n",
        "pres =  TP / float(TP + FP)\n",
        "espe =TN / (TN + FP)\n",
        "f1 = metrics.f1_score(y_test, y_pred)\n",
        "\n",
        "# accuracyT.append(accu)\n",
        "# sensitivityT.append(sens)\n",
        "# precisionT.append(pres)\n",
        "# especifidadT.append(espe)\n",
        "# f1sT.append (f1)\n",
        "\n",
        "\n",
        "print(\"\\nMétricas:\\nAccuracy = \",accu )  \n",
        "print(\"Sensitivity =\" ,sens )\n",
        "print(\"Precision = \",pres) \n",
        "print(\"Especifividad = \",espe )\n",
        "print(\"F1 score = \",f1)\n",
        "\n",
        "y_pred_prod_pos = model_GB.predict_proba(X_test)[:,1]\n",
        "fpr, tpr, thresholds = metrics.roc_curve(y_test, y_pred_prod_pos)\n",
        "auc = metrics.roc_auc_score(y_test, y_pred_prod_pos)\n",
        "# aucsT.append(auc)\n",
        "print(\"AUC:\",auc )\n",
        "\n",
        "fig = plt.figure()\n",
        "ax = fig.add_subplot(111)\n",
        "plt.plot(fpr, tpr)\n",
        "plt.xlabel('False Positive Rate (1 - Specificity)')\n",
        "plt.ylabel('True Positive Rate (Sensitivity)')\n",
        "\n",
        "print(\"\\nAplicando cross-validation\")\n",
        "scores = cross_val_score(model_GB, X, y, cv=10)\n",
        "print(\"Scores:\\n\", scores)\n",
        "promedio = np.mean(cross_val_score(model_GB, X_train, y_train, cv=5))\n",
        "print(\"Promedio de las pruebas:\",promedio)\n",
        "plt.show()\n",
        "print(\"\\n\")"
      ],
      "metadata": {
        "id": "f7MmwoOTLh5H"
      },
      "execution_count": null,
      "outputs": []
    },
    {
      "cell_type": "markdown",
      "source": [
        "## Decision Tree"
      ],
      "metadata": {
        "id": "i0s7Kj1pLy8P"
      }
    },
    {
      "cell_type": "code",
      "source": [
        "# importing cross-validation from sklearn package.\n",
        "from sklearn.model_selection import cross_val_score\n",
        "namesT = []\n",
        "accuracyT = []\n",
        "sensitivityT = []\n",
        "precisionT = []\n",
        "especifidadT = []\n",
        "aucsT = []\n",
        "f1sT = []\n",
        "\n",
        "name = 'DT'\n",
        "model = DecisionTreeClassifier(criterion = 'gini', max_depth = 2)\n",
        "namesT.append(name)\n",
        "model.fit(X_train, y_train)\n",
        "y_pred = model.predict(X_test)\n",
        "cfm = confusion_matrix(y_test, y_pred)\n",
        "print('Modelo actual: ', model)\n",
        "print('Matriz de confusión\\n:',cfm)\n",
        "print(classification_report(y_test, y_pred))\n",
        "# save confusion matrix and slice into four pieces\n",
        "confusion = confusion_matrix(y_test, y_pred)\n",
        "#[row, column]\n",
        "TP = confusion[1, 1]\n",
        "print(\"True Positives TP:\", TP)\n",
        "TN = confusion[0, 0]\n",
        "print(\"True Negatives TN:\", TN)\n",
        "FP = confusion[0, 1]\n",
        "print(\"False Positives FP:\", FP)\n",
        "FN = confusion[1, 0]\n",
        "print(\"False Negatives FN:\", FN)\n",
        "\n",
        "\n",
        "accu = accuracy_score(y_test, y_pred)\n",
        "sens =TP / float(FN + TP)\n",
        "pres =  TP / float(TP + FP)\n",
        "espe =TN / (TN + FP)\n",
        "f1 = metrics.f1_score(y_test, y_pred)\n",
        "plot_confusion_matrix(model, X_test, y_test,cmap=\"Reds\")\n",
        "plt.show()\n",
        "\n",
        "accuracyT.append(accu)\n",
        "sensitivityT.append(sens)\n",
        "precisionT.append(pres)\n",
        "especifidadT.append(espe)\n",
        "f1sT.append (f1)\n",
        "\n",
        "\n",
        "print(\"\\nMétricas:\\nAccuracy = \",accu )  \n",
        "print(\"Sensitivity =\" ,sens )\n",
        "print(\"Precision = \",pres) \n",
        "print(\"Especifividad = \",espe )\n",
        "print(\"F1 score = \",f1)\n",
        "\n",
        "y_pred_prod_pos = model.predict_proba(X_test)[:,1]\n",
        "fpr, tpr, thresholds = metrics.roc_curve(y_test, y_pred_prod_pos)\n",
        "auc = metrics.roc_auc_score(y_test, y_pred_prod_pos)\n",
        "aucsT.append(auc)\n",
        "print(\"AUC:\",auc )\n",
        "\n",
        "fig = plt.figure()\n",
        "ax = fig.add_subplot(111)\n",
        "plt.plot(fpr, tpr)\n",
        "plt.xlabel('False Positive Rate (1 - Specificity)')\n",
        "plt.ylabel('True Positive Rate (Sensitivity)')\n",
        "\n",
        "print(\"\\nAplicando cross-validation\")\n",
        "scores = cross_val_score(model, X, y, cv=10)\n",
        "print(\"Scores:\\n\", scores)\n",
        "promedio = np.mean(cross_val_score(model, X_train, y_train, cv=5))\n",
        "print(\"Promedio de las pruebas:\",promedio)\n",
        "plt.show()\n",
        "print(\"\\n\")"
      ],
      "metadata": {
        "id": "3CwZlfhoL0dP"
      },
      "execution_count": null,
      "outputs": []
    },
    {
      "cell_type": "markdown",
      "source": [
        "**Guardar el modelo**"
      ],
      "metadata": {
        "id": "v9QXB_Yj0GrT"
      }
    },
    {
      "cell_type": "code",
      "source": [
        "import pickle\n",
        "filename='regresor.pkl'\n",
        "outfile = open(filename,'wb')\n",
        "#Guardar datos\n",
        "pickle.dump(model_GB, outfile,2) \n",
        "outfile.close()"
      ],
      "metadata": {
        "id": "4-yu9Pdg0F3-"
      },
      "execution_count": null,
      "outputs": []
    },
    {
      "cell_type": "markdown",
      "source": [
        "**6.Describe el proceso realizado y presenta tus conclusiones al respecto**"
      ],
      "metadata": {
        "id": "sJEOUJT71zX9"
      }
    },
    {
      "cell_type": "markdown",
      "source": [
        "**Proceso realizado**\n",
        "\n",
        "Para poder utilizar e implementar los modelos tuvimos que realizar diferentes acciones antes de correrlos. Lo primero que tenemos que hacer a la hora de aplicar modelos es conocer los datos, es por esto que lo primero que hicimos fue realizar un pequeño análisis de los datos, conocer su tamaño, el tipo de datos, etc.\n",
        "\n",
        "Una vez que ya teníamos una idea de cómo estaban los datos, procedimos a definir nuestra variable target y las features. Esto se hace para ver cuál es la variable que nos interesa predecir, en este caso, la de Ingresados Si/No. Una vez determinada esta variables y haber eliminado aquellas que contenían datos que no nos servían mucho, pudimos definir también las features de nuestro modelo.\n",
        "\n",
        "Casi por último lo que se hace es dividir a los datos que tenemos en unos para entrenamiento y otros para hacer la prueba. Es decir, unos datos se utilizan para que el modelo entrene y otros para ya con el modelo entrenado, probar cuánta fue la exactitud de las predicciones del modelo.\n",
        "\n",
        "Con los datos ya dividios prodecí a entrenar los diferentes modelos a utilizar, esto se hace relativamente fácil, con solo unas pocas líneas de código. Una vez entrenados los modelos, procedí a utilizar diferentes métricas para observar la certeza de los modelos que se estuvieron entrenando.\n",
        "\n",
        "**Conclusiones**\n",
        "\n",
        "Considero que el aprender a cómo aplicar modelos en esta clase me permitió conocer muchas cosas nuevas de este tema que me gusta tanto como lo es la ciencia de datos. Me llevo mucho el proceso de cómo entrenar a un modelo, de cómo tenemos que no solo correr la línea de código, sino que tenemos que hacer varios pasos previamente para que nuestros modelos puedan ser aplicados y obtengamos buenos resultados. Creo que esto es una parte fundamental de nuestra carrera. Debemos de ser capaces de aplicar distintos modelos, no quedarnos solo con uno, sino que hacer una buena evaluación y decidir en cada caso cuál es el mejor.\n",
        "\n",
        "Me gustó también como poco a poco fuimos aprendiendo más acerca de este tema. En las primeras clases vimos solamente como aplicar los modelos, una vez que vimos esto vimos un poco de cómo medir su exactitud primero de manera sencilla y después utilizando distintas métricas. En este punto yo pensé que ya habíamos terminado con este tema, sin embargo, todavía nos faltaba un poco. Vimos también hiperparámetros, conocer qué son y cómo aplicarlos para nuestros modelos. Considero que todo esto es algo que cualquier persona interesada en estos temas debe no solo de conocer, sino de dominar para realizar un buen trabajo.\n"
      ],
      "metadata": {
        "id": "DkpJLHh811LM"
      }
    }
  ]
}