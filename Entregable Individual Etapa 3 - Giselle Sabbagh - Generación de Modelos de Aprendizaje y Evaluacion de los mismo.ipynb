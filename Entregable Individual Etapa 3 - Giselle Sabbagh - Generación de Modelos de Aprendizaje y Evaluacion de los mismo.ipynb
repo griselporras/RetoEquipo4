{
  "nbformat": 4,
  "nbformat_minor": 0,
  "metadata": {
    "colab": {
      "name": "GiselleSabbagh.ipynb",
      "provenance": [],
      "collapsed_sections": []
    },
    "kernelspec": {
      "name": "python3",
      "display_name": "Python 3"
    },
    "language_info": {
      "name": "python"
    }
  },
  "cells": [
    {
      "cell_type": "markdown",
      "source": [
        "# Entregable Etapa 3: Generación de Modelos de Aprendizaje y Evaluación de los mismos\n",
        "\n"
      ],
      "metadata": {
        "id": "VqdicH8iapKY"
      }
    },
    {
      "cell_type": "code",
      "source": [
        "from google.colab import drive\n",
        "drive.mount('/content/drive')"
      ],
      "metadata": {
        "colab": {
          "base_uri": "https://localhost:8080/"
        },
        "id": "LheA-trv03U7",
        "outputId": "aa1185b6-78ea-4582-a0bd-86ee66273729"
      },
      "execution_count": 2,
      "outputs": [
        {
          "output_type": "stream",
          "name": "stdout",
          "text": [
            "Mounted at /content/drive\n"
          ]
        }
      ]
    },
    {
      "cell_type": "code",
      "source": [
        "import pandas as pd\n",
        "import numpy as np\n",
        "import matplotlib.pyplot as plt\n"
      ],
      "metadata": {
        "id": "jZ627gXI0-LV"
      },
      "execution_count": 3,
      "outputs": []
    },
    {
      "cell_type": "code",
      "source": [
        "df = pd.read_csv('/content/drive/Shareddrives/Análisis de ciencia de datos/Reto/BD RIIEE 2021.csv')\n",
        "df"
      ],
      "metadata": {
        "id": "v2zvOpMQ1GRy"
      },
      "execution_count": null,
      "outputs": []
    },
    {
      "cell_type": "markdown",
      "source": [
        "# Comprensión de los datos del negocio"
      ],
      "metadata": {
        "id": "GG9Y_D2n0xU5"
      }
    },
    {
      "cell_type": "code",
      "source": [
        "df.columns"
      ],
      "metadata": {
        "id": "zp4P8xVS_qiv"
      },
      "execution_count": null,
      "outputs": []
    },
    {
      "cell_type": "markdown",
      "source": [
        "### a) Dimensión del dataset"
      ],
      "metadata": {
        "id": "2JEO8idLC9yO"
      }
    },
    {
      "cell_type": "code",
      "execution_count": null,
      "metadata": {
        "id": "J_WyUxbY0rva"
      },
      "outputs": [],
      "source": [
        "df.shape"
      ]
    },
    {
      "cell_type": "code",
      "source": [
        "df.size"
      ],
      "metadata": {
        "id": "mtVWCatk-v86"
      },
      "execution_count": null,
      "outputs": []
    },
    {
      "cell_type": "markdown",
      "source": [
        "### b) Describe claramente cada uno de los datos"
      ],
      "metadata": {
        "id": "yeS1lJKsDGGV"
      }
    },
    {
      "cell_type": "code",
      "source": [
        "df.info()"
      ],
      "metadata": {
        "id": "PubAE_2X-7PQ"
      },
      "execution_count": null,
      "outputs": []
    },
    {
      "cell_type": "code",
      "source": [
        "df.describe()"
      ],
      "metadata": {
        "id": "DoAIKckR_F7I"
      },
      "execution_count": null,
      "outputs": []
    },
    {
      "cell_type": "markdown",
      "source": [
        "### c) Exploración de los datos\n",
        "\n",
        "Variables cuantitativas:\n",
        "\n",
        "- Medidas de tendencia central:promedio, media, mediana y moda de los datos.\n",
        "- Medidas de dispersión: rango: máximo - mínimo, varianza, desviación estándar."
      ],
      "metadata": {
        "id": "9wPvQDHD_Tm7"
      }
    },
    {
      "cell_type": "markdown",
      "source": [
        "#### 1) Medidas estadísticas"
      ],
      "metadata": {
        "id": "JjrMhhH9DcI1"
      }
    },
    {
      "cell_type": "code",
      "source": [
        "df.mean(numeric_only= True)"
      ],
      "metadata": {
        "id": "xl3Fx9cK_JJi"
      },
      "execution_count": null,
      "outputs": []
    },
    {
      "cell_type": "code",
      "source": [
        "df.median()"
      ],
      "metadata": {
        "id": "uheoNt1NAh4b"
      },
      "execution_count": null,
      "outputs": []
    },
    {
      "cell_type": "code",
      "source": [
        "df.mode().head(1)"
      ],
      "metadata": {
        "id": "ekcgMl2vdUaF"
      },
      "execution_count": null,
      "outputs": []
    },
    {
      "cell_type": "markdown",
      "source": [
        "Variables cualitativas:\n",
        "\n",
        "- Tabla de distribución de frecuencia\n",
        "- Moda\n",
        "\n"
      ],
      "metadata": {
        "id": "ptnipHM2jf9x"
      }
    },
    {
      "cell_type": "markdown",
      "source": [
        "#### 2) Explora los datos usando herramientas de visualización"
      ],
      "metadata": {
        "id": "qUb3RG-CnW0e"
      }
    },
    {
      "cell_type": "markdown",
      "source": [
        "Variables cuantitativas:\n",
        "Medidas de posición no-central: cuartiles, outlier (valores atípicos), boxplots\n",
        "\n",
        "*   Variables cuantitativas:\n",
        "    *   Medidas de posición no-central: cuartiles, outlier (valores atípicos), boxplots.\n",
        "    *   Análisis de distribución de los datos (Histogramas). Identificar si tiene forma simétrica o asimétrica.\n",
        "    *   Análisis de correlación  de los datos, mapa de color.\n",
        "\n",
        "\n",
        "\n",
        "\n"
      ],
      "metadata": {
        "id": "gkNmbaCEnrug"
      }
    },
    {
      "cell_type": "code",
      "source": [
        "df.boxplot(column=['VIPS'], grid=True, color='black')"
      ],
      "metadata": {
        "id": "_kC8MqwOnYru"
      },
      "execution_count": null,
      "outputs": []
    },
    {
      "cell_type": "code",
      "source": [
        "dfH=df['VIPS']\n",
        "dfH.plot.hist()"
      ],
      "metadata": {
        "id": "_W_pcrcqoa_q"
      },
      "execution_count": null,
      "outputs": []
    },
    {
      "cell_type": "code",
      "source": [
        "df.boxplot(column=['NIPS'], grid=True, color='black')"
      ],
      "metadata": {
        "id": "S7m3wkXkoa4q"
      },
      "execution_count": null,
      "outputs": []
    },
    {
      "cell_type": "code",
      "source": [
        "dfH2=df['NIPS']\n",
        "dfH2.plot.hist()"
      ],
      "metadata": {
        "id": "xITptQ1Soax8"
      },
      "execution_count": null,
      "outputs": []
    },
    {
      "cell_type": "code",
      "source": [
        "r=df[['VIPS','NIPS']]\n",
        "cor=r.corr(method='pearson')\n",
        "cor"
      ],
      "metadata": {
        "id": "C22hL4kGoaMc"
      },
      "execution_count": null,
      "outputs": []
    },
    {
      "cell_type": "code",
      "source": [
        "import seaborn as sns\n",
        "numericas = df.select_dtypes(include = [\"float64\"])\n",
        "sns.heatmap(numericas)"
      ],
      "metadata": {
        "id": "TZ1miWIIhThA"
      },
      "execution_count": null,
      "outputs": []
    },
    {
      "cell_type": "code",
      "source": [
        "sns.heatmap(r)"
      ],
      "metadata": {
        "id": "qFYD25cIhTG2"
      },
      "execution_count": null,
      "outputs": []
    },
    {
      "cell_type": "code",
      "source": [
        "r.plot.scatter(x='NIPS',y='VIPS')"
      ],
      "metadata": {
        "id": "OZD4-nsghehf"
      },
      "execution_count": null,
      "outputs": []
    },
    {
      "cell_type": "markdown",
      "source": [
        "\n",
        "\n",
        "*   Variables categóricas\n",
        "  *   Distribución de los datos (diagramas de barras, diagramas de pastel)\n",
        "\n",
        "\n"
      ],
      "metadata": {
        "id": "1tCpVmP8oubS"
      }
    },
    {
      "cell_type": "code",
      "source": [
        "from matplotlib import pyplot as plt\n",
        "\n",
        "columnas = ['Fecha Acción', 'PEA', 'Periodo Acción', 'País',\n",
        "       'Tipo de Acción ', 'Acción', 'Nombre Evento',\n",
        "       'Institución Acción', 'Referente Ternium',\n",
        "       'Género', 'Nacionalidad', 'Universidad',\n",
        "       'Carrera/Titulación', 'Carrera Gestional', 'Especialidad', 'Avance',\n",
        "       'Semestres Totales', 'Status Académico', 'Postulados Si/No',\n",
        "       'Evaluados Si/No', 'Perfil Pymetrics', 'Altamente Recomendado',\n",
        "       'Operaciones-Calidad', 'MTTO-DIMA', 'Comercial-Planeamiento', 'DIGI-SC',\n",
        "       'Resto-Soft', 'Apto/No Apto', 'Destacado Pym', 'Actividad Grupal.1',\n",
        "       'Apto AG', 'Ingles', 'Apto', 'Destacado',\n",
        "       'Ingresados Si/No']\n",
        "\n",
        "for col in columnas:\n",
        "  print('********** Exploración sobre',col,'**********')\n",
        "  print(df[col].value_counts())\n",
        "  print(df[col].mode())\n",
        "  # ax = df[col].value_counts().plot(kind='barh', figsize=(14,8))\n",
        "  # plt.show()\n",
        "  print('\\n')"
      ],
      "metadata": {
        "id": "qvYbk3J6XjTg"
      },
      "execution_count": null,
      "outputs": []
    },
    {
      "cell_type": "markdown",
      "source": [
        "### d) Verifica la calidad de los datos: valores faltantes, valores de los datos, ortografía"
      ],
      "metadata": {
        "id": "L-yF0IwKYEOY"
      }
    },
    {
      "cell_type": "code",
      "source": [
        "\n",
        "nan_count = df.isnull().sum()\n",
        "nan_count[0:56]"
      ],
      "metadata": {
        "id": "j3gJNd3FYJbu"
      },
      "execution_count": null,
      "outputs": []
    },
    {
      "cell_type": "code",
      "source": [
        "totalC = np.product(df.shape)\n",
        "totalM = nan_count.sum()\n",
        "print(\"El porcentaje de datos faltantes en la base de datos es de:\")\n",
        "(totalM/totalC) * 100\n"
      ],
      "metadata": {
        "id": "yaHLxCc5YZQP"
      },
      "execution_count": null,
      "outputs": []
    },
    {
      "cell_type": "markdown",
      "source": [
        "# Preparación de los datos"
      ],
      "metadata": {
        "id": "T7ak6B-VTH07"
      }
    },
    {
      "cell_type": "markdown",
      "source": [
        "## 1. Selecciona el conjunto de datos a utilizar.\n",
        "\n",
        "Aquí falta esto\n",
        "a) Decide qué conjunto de datos se utilizará. Explica por qué se incluyeron o excluyeron ciertos datos.\n",
        "b) Identifica columna objetivo"
      ],
      "metadata": {
        "id": "ls_XbGWID2Tx"
      }
    },
    {
      "cell_type": "code",
      "source": [
        "df = pd.read_csv('/content/drive/Shareddrives/Análisis de ciencia de datos/Reto/BD RIIEE 2021.csv')\n"
      ],
      "metadata": {
        "id": "z3azweSbH0-4"
      },
      "execution_count": 24,
      "outputs": []
    },
    {
      "cell_type": "code",
      "source": [
        "df = df[df['País'] == 'México']\n",
        "df"
      ],
      "metadata": {
        "colab": {
          "base_uri": "https://localhost:8080/",
          "height": 849
        },
        "id": "y9LcKbA7gsaV",
        "outputId": "bfe57878-a575-4dc2-941d-36d656a81880"
      },
      "execution_count": 25,
      "outputs": [
        {
          "output_type": "execute_result",
          "data": {
            "text/plain": [
              "     Fecha Acción        PEA  Año Acción   Periodo Acción    País  \\\n",
              "0      01/01/2021  PEA 20-21      2021.0      Enero-Junio  México   \n",
              "1      01/01/2021  PEA 20-21      2021.0      Enero-Junio  México   \n",
              "2      01/01/2021  PEA 20-21      2021.0      Enero-Junio  México   \n",
              "3      01/01/2021  PEA 20-21      2021.0      Enero-Junio  México   \n",
              "4      01/01/2021  PEA 20-21      2021.0      Enero-Junio  México   \n",
              "...           ...        ...         ...              ...     ...   \n",
              "4801   20/20/2021  PEA 21-22      2021.0  Julio-Diciembre  México   \n",
              "4802   20/20/2021  PEA 21-22      2021.0  Julio-Diciembre  México   \n",
              "4803   20/20/2021  PEA 21-22      2021.0  Julio-Diciembre  México   \n",
              "4804   20/20/2021  PEA 21-22      2021.0  Julio-Diciembre  México   \n",
              "5741   12/11/2021  PEA 21-22      2021.0  Julio-Diciembre  México   \n",
              "\n",
              "     Tipo de Acción                     Acción     ID Evento Nombre Evento  \\\n",
              "0        Targetizada           Ternium Contact  1.202101e+10       Evento    \n",
              "1        Targetizada           Ternium Contact  1.202101e+10      Evento 4   \n",
              "2        Targetizada           Ternium Contact  1.202101e+10      Evento 5   \n",
              "3        Targetizada           Ternium Contact  1.202101e+10      Evento 0   \n",
              "4        Targetizada           Ternium Contact  1.202101e+10      Evento 4   \n",
              "...              ...                       ...           ...           ...   \n",
              "4801          Masiva  Eventos de Reclutamiento           NaN     Evento 68   \n",
              "4802          Masiva  Eventos de Reclutamiento           NaN     Evento 68   \n",
              "4803          Masiva  Eventos de Reclutamiento           NaN     Evento 68   \n",
              "4804          Masiva  Eventos de Reclutamiento           NaN     Evento 68   \n",
              "5741     Targetizado          Ternium Projects           NaN     Evento 85   \n",
              "\n",
              "     Institución Acción  ...  Apto  Destacado  Ingresados Si/No  \\\n",
              "0                    TM  ...  Apto         Si                Si   \n",
              "1                     U  ...  Apto         Si               NaN   \n",
              "2                     U  ...   NaN        NaN               NaN   \n",
              "3                    IY  ...  Apto         Si                Si   \n",
              "4                    TM  ...   NaN        NaN               NaN   \n",
              "...                 ...  ...   ...        ...               ...   \n",
              "4801                 RR  ...   NaN        NaN               NaN   \n",
              "4802                 RR  ...   NaN        NaN               NaN   \n",
              "4803                 RR  ...   NaN        NaN               NaN   \n",
              "4804                 RR  ...   NaN        NaN               NaN   \n",
              "5741                 IY  ...   NaN        NaN               NaN   \n",
              "\n",
              "     Encuadre de Ingreso Dirección Área Potencial Vigente  \\\n",
              "0                    NaN       NaN  NaN               NaN   \n",
              "1                    NaN       NaN  NaN               NaN   \n",
              "2                    NaN       NaN  NaN               NaN   \n",
              "3                    NaN       NaN  NaN               NaN   \n",
              "4                    NaN       NaN  NaN               NaN   \n",
              "...                  ...       ...  ...               ...   \n",
              "4801                 NaN       NaN  NaN               NaN   \n",
              "4802                 NaN       NaN  NaN               NaN   \n",
              "4803                 NaN       NaN  NaN               NaN   \n",
              "4804                 NaN       NaN  NaN               NaN   \n",
              "5741                 NaN       NaN  NaN               NaN   \n",
              "\n",
              "     Información Real/No Real Vacante Postulada Ingresó  \n",
              "0                         NaN               NaN     NaN  \n",
              "1                         NaN               NaN     NaN  \n",
              "2                         NaN               NaN     NaN  \n",
              "3                         NaN               NaN     NaN  \n",
              "4                         NaN               NaN     NaN  \n",
              "...                       ...               ...     ...  \n",
              "4801                      NaN               NaN     NaN  \n",
              "4802                      NaN               NaN     NaN  \n",
              "4803                      NaN               NaN     NaN  \n",
              "4804                      NaN               NaN     NaN  \n",
              "5741                      NaN               NaN     NaN  \n",
              "\n",
              "[4806 rows x 56 columns]"
            ],
            "text/html": [
              "\n",
              "  <div id=\"df-572ae5b5-8a2f-4df5-a3de-afac762bd745\">\n",
              "    <div class=\"colab-df-container\">\n",
              "      <div>\n",
              "<style scoped>\n",
              "    .dataframe tbody tr th:only-of-type {\n",
              "        vertical-align: middle;\n",
              "    }\n",
              "\n",
              "    .dataframe tbody tr th {\n",
              "        vertical-align: top;\n",
              "    }\n",
              "\n",
              "    .dataframe thead th {\n",
              "        text-align: right;\n",
              "    }\n",
              "</style>\n",
              "<table border=\"1\" class=\"dataframe\">\n",
              "  <thead>\n",
              "    <tr style=\"text-align: right;\">\n",
              "      <th></th>\n",
              "      <th>Fecha Acción</th>\n",
              "      <th>PEA</th>\n",
              "      <th>Año Acción</th>\n",
              "      <th>Periodo Acción</th>\n",
              "      <th>País</th>\n",
              "      <th>Tipo de Acción</th>\n",
              "      <th>Acción</th>\n",
              "      <th>ID Evento</th>\n",
              "      <th>Nombre Evento</th>\n",
              "      <th>Institución Acción</th>\n",
              "      <th>...</th>\n",
              "      <th>Apto</th>\n",
              "      <th>Destacado</th>\n",
              "      <th>Ingresados Si/No</th>\n",
              "      <th>Encuadre de Ingreso</th>\n",
              "      <th>Dirección</th>\n",
              "      <th>Área</th>\n",
              "      <th>Potencial Vigente</th>\n",
              "      <th>Información Real/No Real</th>\n",
              "      <th>Vacante Postulada</th>\n",
              "      <th>Ingresó</th>\n",
              "    </tr>\n",
              "  </thead>\n",
              "  <tbody>\n",
              "    <tr>\n",
              "      <th>0</th>\n",
              "      <td>01/01/2021</td>\n",
              "      <td>PEA 20-21</td>\n",
              "      <td>2021.0</td>\n",
              "      <td>Enero-Junio</td>\n",
              "      <td>México</td>\n",
              "      <td>Targetizada</td>\n",
              "      <td>Ternium Contact</td>\n",
              "      <td>1.202101e+10</td>\n",
              "      <td>Evento</td>\n",
              "      <td>TM</td>\n",
              "      <td>...</td>\n",
              "      <td>Apto</td>\n",
              "      <td>Si</td>\n",
              "      <td>Si</td>\n",
              "      <td>NaN</td>\n",
              "      <td>NaN</td>\n",
              "      <td>NaN</td>\n",
              "      <td>NaN</td>\n",
              "      <td>NaN</td>\n",
              "      <td>NaN</td>\n",
              "      <td>NaN</td>\n",
              "    </tr>\n",
              "    <tr>\n",
              "      <th>1</th>\n",
              "      <td>01/01/2021</td>\n",
              "      <td>PEA 20-21</td>\n",
              "      <td>2021.0</td>\n",
              "      <td>Enero-Junio</td>\n",
              "      <td>México</td>\n",
              "      <td>Targetizada</td>\n",
              "      <td>Ternium Contact</td>\n",
              "      <td>1.202101e+10</td>\n",
              "      <td>Evento 4</td>\n",
              "      <td>U</td>\n",
              "      <td>...</td>\n",
              "      <td>Apto</td>\n",
              "      <td>Si</td>\n",
              "      <td>NaN</td>\n",
              "      <td>NaN</td>\n",
              "      <td>NaN</td>\n",
              "      <td>NaN</td>\n",
              "      <td>NaN</td>\n",
              "      <td>NaN</td>\n",
              "      <td>NaN</td>\n",
              "      <td>NaN</td>\n",
              "    </tr>\n",
              "    <tr>\n",
              "      <th>2</th>\n",
              "      <td>01/01/2021</td>\n",
              "      <td>PEA 20-21</td>\n",
              "      <td>2021.0</td>\n",
              "      <td>Enero-Junio</td>\n",
              "      <td>México</td>\n",
              "      <td>Targetizada</td>\n",
              "      <td>Ternium Contact</td>\n",
              "      <td>1.202101e+10</td>\n",
              "      <td>Evento 5</td>\n",
              "      <td>U</td>\n",
              "      <td>...</td>\n",
              "      <td>NaN</td>\n",
              "      <td>NaN</td>\n",
              "      <td>NaN</td>\n",
              "      <td>NaN</td>\n",
              "      <td>NaN</td>\n",
              "      <td>NaN</td>\n",
              "      <td>NaN</td>\n",
              "      <td>NaN</td>\n",
              "      <td>NaN</td>\n",
              "      <td>NaN</td>\n",
              "    </tr>\n",
              "    <tr>\n",
              "      <th>3</th>\n",
              "      <td>01/01/2021</td>\n",
              "      <td>PEA 20-21</td>\n",
              "      <td>2021.0</td>\n",
              "      <td>Enero-Junio</td>\n",
              "      <td>México</td>\n",
              "      <td>Targetizada</td>\n",
              "      <td>Ternium Contact</td>\n",
              "      <td>1.202101e+10</td>\n",
              "      <td>Evento 0</td>\n",
              "      <td>IY</td>\n",
              "      <td>...</td>\n",
              "      <td>Apto</td>\n",
              "      <td>Si</td>\n",
              "      <td>Si</td>\n",
              "      <td>NaN</td>\n",
              "      <td>NaN</td>\n",
              "      <td>NaN</td>\n",
              "      <td>NaN</td>\n",
              "      <td>NaN</td>\n",
              "      <td>NaN</td>\n",
              "      <td>NaN</td>\n",
              "    </tr>\n",
              "    <tr>\n",
              "      <th>4</th>\n",
              "      <td>01/01/2021</td>\n",
              "      <td>PEA 20-21</td>\n",
              "      <td>2021.0</td>\n",
              "      <td>Enero-Junio</td>\n",
              "      <td>México</td>\n",
              "      <td>Targetizada</td>\n",
              "      <td>Ternium Contact</td>\n",
              "      <td>1.202101e+10</td>\n",
              "      <td>Evento 4</td>\n",
              "      <td>TM</td>\n",
              "      <td>...</td>\n",
              "      <td>NaN</td>\n",
              "      <td>NaN</td>\n",
              "      <td>NaN</td>\n",
              "      <td>NaN</td>\n",
              "      <td>NaN</td>\n",
              "      <td>NaN</td>\n",
              "      <td>NaN</td>\n",
              "      <td>NaN</td>\n",
              "      <td>NaN</td>\n",
              "      <td>NaN</td>\n",
              "    </tr>\n",
              "    <tr>\n",
              "      <th>...</th>\n",
              "      <td>...</td>\n",
              "      <td>...</td>\n",
              "      <td>...</td>\n",
              "      <td>...</td>\n",
              "      <td>...</td>\n",
              "      <td>...</td>\n",
              "      <td>...</td>\n",
              "      <td>...</td>\n",
              "      <td>...</td>\n",
              "      <td>...</td>\n",
              "      <td>...</td>\n",
              "      <td>...</td>\n",
              "      <td>...</td>\n",
              "      <td>...</td>\n",
              "      <td>...</td>\n",
              "      <td>...</td>\n",
              "      <td>...</td>\n",
              "      <td>...</td>\n",
              "      <td>...</td>\n",
              "      <td>...</td>\n",
              "      <td>...</td>\n",
              "    </tr>\n",
              "    <tr>\n",
              "      <th>4801</th>\n",
              "      <td>20/20/2021</td>\n",
              "      <td>PEA 21-22</td>\n",
              "      <td>2021.0</td>\n",
              "      <td>Julio-Diciembre</td>\n",
              "      <td>México</td>\n",
              "      <td>Masiva</td>\n",
              "      <td>Eventos de Reclutamiento</td>\n",
              "      <td>NaN</td>\n",
              "      <td>Evento 68</td>\n",
              "      <td>RR</td>\n",
              "      <td>...</td>\n",
              "      <td>NaN</td>\n",
              "      <td>NaN</td>\n",
              "      <td>NaN</td>\n",
              "      <td>NaN</td>\n",
              "      <td>NaN</td>\n",
              "      <td>NaN</td>\n",
              "      <td>NaN</td>\n",
              "      <td>NaN</td>\n",
              "      <td>NaN</td>\n",
              "      <td>NaN</td>\n",
              "    </tr>\n",
              "    <tr>\n",
              "      <th>4802</th>\n",
              "      <td>20/20/2021</td>\n",
              "      <td>PEA 21-22</td>\n",
              "      <td>2021.0</td>\n",
              "      <td>Julio-Diciembre</td>\n",
              "      <td>México</td>\n",
              "      <td>Masiva</td>\n",
              "      <td>Eventos de Reclutamiento</td>\n",
              "      <td>NaN</td>\n",
              "      <td>Evento 68</td>\n",
              "      <td>RR</td>\n",
              "      <td>...</td>\n",
              "      <td>NaN</td>\n",
              "      <td>NaN</td>\n",
              "      <td>NaN</td>\n",
              "      <td>NaN</td>\n",
              "      <td>NaN</td>\n",
              "      <td>NaN</td>\n",
              "      <td>NaN</td>\n",
              "      <td>NaN</td>\n",
              "      <td>NaN</td>\n",
              "      <td>NaN</td>\n",
              "    </tr>\n",
              "    <tr>\n",
              "      <th>4803</th>\n",
              "      <td>20/20/2021</td>\n",
              "      <td>PEA 21-22</td>\n",
              "      <td>2021.0</td>\n",
              "      <td>Julio-Diciembre</td>\n",
              "      <td>México</td>\n",
              "      <td>Masiva</td>\n",
              "      <td>Eventos de Reclutamiento</td>\n",
              "      <td>NaN</td>\n",
              "      <td>Evento 68</td>\n",
              "      <td>RR</td>\n",
              "      <td>...</td>\n",
              "      <td>NaN</td>\n",
              "      <td>NaN</td>\n",
              "      <td>NaN</td>\n",
              "      <td>NaN</td>\n",
              "      <td>NaN</td>\n",
              "      <td>NaN</td>\n",
              "      <td>NaN</td>\n",
              "      <td>NaN</td>\n",
              "      <td>NaN</td>\n",
              "      <td>NaN</td>\n",
              "    </tr>\n",
              "    <tr>\n",
              "      <th>4804</th>\n",
              "      <td>20/20/2021</td>\n",
              "      <td>PEA 21-22</td>\n",
              "      <td>2021.0</td>\n",
              "      <td>Julio-Diciembre</td>\n",
              "      <td>México</td>\n",
              "      <td>Masiva</td>\n",
              "      <td>Eventos de Reclutamiento</td>\n",
              "      <td>NaN</td>\n",
              "      <td>Evento 68</td>\n",
              "      <td>RR</td>\n",
              "      <td>...</td>\n",
              "      <td>NaN</td>\n",
              "      <td>NaN</td>\n",
              "      <td>NaN</td>\n",
              "      <td>NaN</td>\n",
              "      <td>NaN</td>\n",
              "      <td>NaN</td>\n",
              "      <td>NaN</td>\n",
              "      <td>NaN</td>\n",
              "      <td>NaN</td>\n",
              "      <td>NaN</td>\n",
              "    </tr>\n",
              "    <tr>\n",
              "      <th>5741</th>\n",
              "      <td>12/11/2021</td>\n",
              "      <td>PEA 21-22</td>\n",
              "      <td>2021.0</td>\n",
              "      <td>Julio-Diciembre</td>\n",
              "      <td>México</td>\n",
              "      <td>Targetizado</td>\n",
              "      <td>Ternium Projects</td>\n",
              "      <td>NaN</td>\n",
              "      <td>Evento 85</td>\n",
              "      <td>IY</td>\n",
              "      <td>...</td>\n",
              "      <td>NaN</td>\n",
              "      <td>NaN</td>\n",
              "      <td>NaN</td>\n",
              "      <td>NaN</td>\n",
              "      <td>NaN</td>\n",
              "      <td>NaN</td>\n",
              "      <td>NaN</td>\n",
              "      <td>NaN</td>\n",
              "      <td>NaN</td>\n",
              "      <td>NaN</td>\n",
              "    </tr>\n",
              "  </tbody>\n",
              "</table>\n",
              "<p>4806 rows × 56 columns</p>\n",
              "</div>\n",
              "      <button class=\"colab-df-convert\" onclick=\"convertToInteractive('df-572ae5b5-8a2f-4df5-a3de-afac762bd745')\"\n",
              "              title=\"Convert this dataframe to an interactive table.\"\n",
              "              style=\"display:none;\">\n",
              "        \n",
              "  <svg xmlns=\"http://www.w3.org/2000/svg\" height=\"24px\"viewBox=\"0 0 24 24\"\n",
              "       width=\"24px\">\n",
              "    <path d=\"M0 0h24v24H0V0z\" fill=\"none\"/>\n",
              "    <path d=\"M18.56 5.44l.94 2.06.94-2.06 2.06-.94-2.06-.94-.94-2.06-.94 2.06-2.06.94zm-11 1L8.5 8.5l.94-2.06 2.06-.94-2.06-.94L8.5 2.5l-.94 2.06-2.06.94zm10 10l.94 2.06.94-2.06 2.06-.94-2.06-.94-.94-2.06-.94 2.06-2.06.94z\"/><path d=\"M17.41 7.96l-1.37-1.37c-.4-.4-.92-.59-1.43-.59-.52 0-1.04.2-1.43.59L10.3 9.45l-7.72 7.72c-.78.78-.78 2.05 0 2.83L4 21.41c.39.39.9.59 1.41.59.51 0 1.02-.2 1.41-.59l7.78-7.78 2.81-2.81c.8-.78.8-2.07 0-2.86zM5.41 20L4 18.59l7.72-7.72 1.47 1.35L5.41 20z\"/>\n",
              "  </svg>\n",
              "      </button>\n",
              "      \n",
              "  <style>\n",
              "    .colab-df-container {\n",
              "      display:flex;\n",
              "      flex-wrap:wrap;\n",
              "      gap: 12px;\n",
              "    }\n",
              "\n",
              "    .colab-df-convert {\n",
              "      background-color: #E8F0FE;\n",
              "      border: none;\n",
              "      border-radius: 50%;\n",
              "      cursor: pointer;\n",
              "      display: none;\n",
              "      fill: #1967D2;\n",
              "      height: 32px;\n",
              "      padding: 0 0 0 0;\n",
              "      width: 32px;\n",
              "    }\n",
              "\n",
              "    .colab-df-convert:hover {\n",
              "      background-color: #E2EBFA;\n",
              "      box-shadow: 0px 1px 2px rgba(60, 64, 67, 0.3), 0px 1px 3px 1px rgba(60, 64, 67, 0.15);\n",
              "      fill: #174EA6;\n",
              "    }\n",
              "\n",
              "    [theme=dark] .colab-df-convert {\n",
              "      background-color: #3B4455;\n",
              "      fill: #D2E3FC;\n",
              "    }\n",
              "\n",
              "    [theme=dark] .colab-df-convert:hover {\n",
              "      background-color: #434B5C;\n",
              "      box-shadow: 0px 1px 3px 1px rgba(0, 0, 0, 0.15);\n",
              "      filter: drop-shadow(0px 1px 2px rgba(0, 0, 0, 0.3));\n",
              "      fill: #FFFFFF;\n",
              "    }\n",
              "  </style>\n",
              "\n",
              "      <script>\n",
              "        const buttonEl =\n",
              "          document.querySelector('#df-572ae5b5-8a2f-4df5-a3de-afac762bd745 button.colab-df-convert');\n",
              "        buttonEl.style.display =\n",
              "          google.colab.kernel.accessAllowed ? 'block' : 'none';\n",
              "\n",
              "        async function convertToInteractive(key) {\n",
              "          const element = document.querySelector('#df-572ae5b5-8a2f-4df5-a3de-afac762bd745');\n",
              "          const dataTable =\n",
              "            await google.colab.kernel.invokeFunction('convertToInteractive',\n",
              "                                                     [key], {});\n",
              "          if (!dataTable) return;\n",
              "\n",
              "          const docLinkHtml = 'Like what you see? Visit the ' +\n",
              "            '<a target=\"_blank\" href=https://colab.research.google.com/notebooks/data_table.ipynb>data table notebook</a>'\n",
              "            + ' to learn more about interactive tables.';\n",
              "          element.innerHTML = '';\n",
              "          dataTable['output_type'] = 'display_data';\n",
              "          await google.colab.output.renderOutput(dataTable, element);\n",
              "          const docLink = document.createElement('div');\n",
              "          docLink.innerHTML = docLinkHtml;\n",
              "          element.appendChild(docLink);\n",
              "        }\n",
              "      </script>\n",
              "    </div>\n",
              "  </div>\n",
              "  "
            ]
          },
          "metadata": {},
          "execution_count": 25
        }
      ]
    },
    {
      "cell_type": "code",
      "source": [
        "df.drop_duplicates(subset =\"ID Candidato\",\n",
        "                     keep = False, inplace = True)\n",
        "df = df.drop(['Embajador Ternium', 'Destacado AG', 'Inglés', 'Actividad Grupal', 'Multimodelo Pymetrics',\n",
        "       'Encuadre de Ingreso', 'Dirección', 'Área', 'Status Académico',\n",
        "       'Potencial Vigente', 'Información Real/No Real', 'Vacante Postulada',\n",
        "       'Ingresó', 'VIPS', 'NIPS', 'Apto AG', 'Destacado Pym', 'Universidad'], axis=1)\n",
        "df = df.drop(['Fecha Acción', 'PEA', 'Año Acción', 'Periodo Acción', 'País',\n",
        "       'Tipo de Acción ', 'Acción', 'ID Evento', 'Nombre Evento', 'Apto', 'Apto/No Apto',\n",
        "       'Institución Acción', 'Referente Ternium', 'Postulados Si/No', 'Perfil Pymetrics',\n",
        "       'ID Candidato', 'Correo electrónico', 'Correo institucional', 'Nombres',\n",
        "       'Apellidos', 'Género', 'Nacionalidad'], axis=1)"
      ],
      "metadata": {
        "id": "rR_g7vNIT0DS"
      },
      "execution_count": 26,
      "outputs": []
    },
    {
      "cell_type": "code",
      "source": [
        "df"
      ],
      "metadata": {
        "id": "NSWlySeQuMvb",
        "colab": {
          "base_uri": "https://localhost:8080/",
          "height": 572
        },
        "outputId": "ee2ce6ae-ebd8-4edb-9ae3-44fcc22007ed"
      },
      "execution_count": 27,
      "outputs": [
        {
          "output_type": "execute_result",
          "data": {
            "text/plain": [
              "     Carrera/Titulación             Carrera Gestional        Especialidad  \\\n",
              "0       Ing. Industrial               Ing. Industrial  Ingenierías Target   \n",
              "1       Ing. Industrial               Ing. Industrial  Ingenierías Target   \n",
              "2       Ing. Industrial               Ing. Industrial  Ingenierías Target   \n",
              "3      Ing. Mecatrónica  Ing. Mecatrónica/Electrónica  Ingenierías Target   \n",
              "4     Comercio Exterior      Negocios Internacionales            Negocios   \n",
              "...                 ...                           ...                 ...   \n",
              "2588     Administración               Administración             Negocios   \n",
              "2589     Administración               Administración             Negocios   \n",
              "2590     Administración               Administración             Negocios   \n",
              "2591     Administración               Administración             Negocios   \n",
              "2592     Administración               Administración             Negocios   \n",
              "\n",
              "     Avance Semestres Totales Evaluados Si/No Altamente Recomendado  \\\n",
              "0       NaN               NaN              Si                    Si   \n",
              "1         6                 9              Si                    Si   \n",
              "2         8                 9             NaN                   NaN   \n",
              "3         6                 9              Si                    Si   \n",
              "4       NaN               NaN              Si                   NaN   \n",
              "...     ...               ...             ...                   ...   \n",
              "2588      8               NaN             NaN                   NaN   \n",
              "2589      4               NaN             NaN                   NaN   \n",
              "2590      8               NaN             NaN                   NaN   \n",
              "2591      4               NaN             NaN                   NaN   \n",
              "2592      7               NaN             NaN                   NaN   \n",
              "\n",
              "     Operaciones-Calidad         MTTO-DIMA Comercial-Planeamiento  \\\n",
              "0       Highly Recommend         Recommend       Highly Recommend   \n",
              "1       Highly Recommend  Do Not Recommend       Do Not Recommend   \n",
              "2                    NaN               NaN                    NaN   \n",
              "3       Highly Recommend  Highly Recommend       Do Not Recommend   \n",
              "4                    NaN               NaN                    NaN   \n",
              "...                  ...               ...                    ...   \n",
              "2588                 NaN               NaN                    NaN   \n",
              "2589                 NaN               NaN                    NaN   \n",
              "2590                 NaN               NaN                    NaN   \n",
              "2591                 NaN               NaN                    NaN   \n",
              "2592                 NaN               NaN                    NaN   \n",
              "\n",
              "               DIGI-SC        Resto-Soft Actividad Grupal.1  \\\n",
              "0     Do Not Recommend  Do Not Recommend                  5   \n",
              "1     Do Not Recommend  Do Not Recommend                  5   \n",
              "2                  NaN               NaN                NaN   \n",
              "3            Recommend  Highly Recommend                  5   \n",
              "4                  NaN               NaN                NaN   \n",
              "...                ...               ...                ...   \n",
              "2588               NaN               NaN                NaN   \n",
              "2589               NaN               NaN                NaN   \n",
              "2590               NaN               NaN                NaN   \n",
              "2591               NaN               NaN                NaN   \n",
              "2592               NaN               NaN                NaN   \n",
              "\n",
              "                      Ingles Destacado Ingresados Si/No  \n",
              "0     B2 - High Intermediate        Si               Si  \n",
              "1     B2 - High Intermediate        Si              NaN  \n",
              "2                        NaN       NaN              NaN  \n",
              "3     B2 - High Intermediate        Si               Si  \n",
              "4                        NaN       NaN              NaN  \n",
              "...                      ...       ...              ...  \n",
              "2588                     NaN       NaN              NaN  \n",
              "2589                     NaN       NaN              NaN  \n",
              "2590                     NaN       NaN              NaN  \n",
              "2591                     NaN       NaN              NaN  \n",
              "2592                     NaN       NaN              NaN  \n",
              "\n",
              "[2593 rows x 16 columns]"
            ],
            "text/html": [
              "\n",
              "  <div id=\"df-43b5f8a3-87b6-4de5-acd6-35e90a593dbe\">\n",
              "    <div class=\"colab-df-container\">\n",
              "      <div>\n",
              "<style scoped>\n",
              "    .dataframe tbody tr th:only-of-type {\n",
              "        vertical-align: middle;\n",
              "    }\n",
              "\n",
              "    .dataframe tbody tr th {\n",
              "        vertical-align: top;\n",
              "    }\n",
              "\n",
              "    .dataframe thead th {\n",
              "        text-align: right;\n",
              "    }\n",
              "</style>\n",
              "<table border=\"1\" class=\"dataframe\">\n",
              "  <thead>\n",
              "    <tr style=\"text-align: right;\">\n",
              "      <th></th>\n",
              "      <th>Carrera/Titulación</th>\n",
              "      <th>Carrera Gestional</th>\n",
              "      <th>Especialidad</th>\n",
              "      <th>Avance</th>\n",
              "      <th>Semestres Totales</th>\n",
              "      <th>Evaluados Si/No</th>\n",
              "      <th>Altamente Recomendado</th>\n",
              "      <th>Operaciones-Calidad</th>\n",
              "      <th>MTTO-DIMA</th>\n",
              "      <th>Comercial-Planeamiento</th>\n",
              "      <th>DIGI-SC</th>\n",
              "      <th>Resto-Soft</th>\n",
              "      <th>Actividad Grupal.1</th>\n",
              "      <th>Ingles</th>\n",
              "      <th>Destacado</th>\n",
              "      <th>Ingresados Si/No</th>\n",
              "    </tr>\n",
              "  </thead>\n",
              "  <tbody>\n",
              "    <tr>\n",
              "      <th>0</th>\n",
              "      <td>Ing. Industrial</td>\n",
              "      <td>Ing. Industrial</td>\n",
              "      <td>Ingenierías Target</td>\n",
              "      <td>NaN</td>\n",
              "      <td>NaN</td>\n",
              "      <td>Si</td>\n",
              "      <td>Si</td>\n",
              "      <td>Highly Recommend</td>\n",
              "      <td>Recommend</td>\n",
              "      <td>Highly Recommend</td>\n",
              "      <td>Do Not Recommend</td>\n",
              "      <td>Do Not Recommend</td>\n",
              "      <td>5</td>\n",
              "      <td>B2 - High Intermediate</td>\n",
              "      <td>Si</td>\n",
              "      <td>Si</td>\n",
              "    </tr>\n",
              "    <tr>\n",
              "      <th>1</th>\n",
              "      <td>Ing. Industrial</td>\n",
              "      <td>Ing. Industrial</td>\n",
              "      <td>Ingenierías Target</td>\n",
              "      <td>6</td>\n",
              "      <td>9</td>\n",
              "      <td>Si</td>\n",
              "      <td>Si</td>\n",
              "      <td>Highly Recommend</td>\n",
              "      <td>Do Not Recommend</td>\n",
              "      <td>Do Not Recommend</td>\n",
              "      <td>Do Not Recommend</td>\n",
              "      <td>Do Not Recommend</td>\n",
              "      <td>5</td>\n",
              "      <td>B2 - High Intermediate</td>\n",
              "      <td>Si</td>\n",
              "      <td>NaN</td>\n",
              "    </tr>\n",
              "    <tr>\n",
              "      <th>2</th>\n",
              "      <td>Ing. Industrial</td>\n",
              "      <td>Ing. Industrial</td>\n",
              "      <td>Ingenierías Target</td>\n",
              "      <td>8</td>\n",
              "      <td>9</td>\n",
              "      <td>NaN</td>\n",
              "      <td>NaN</td>\n",
              "      <td>NaN</td>\n",
              "      <td>NaN</td>\n",
              "      <td>NaN</td>\n",
              "      <td>NaN</td>\n",
              "      <td>NaN</td>\n",
              "      <td>NaN</td>\n",
              "      <td>NaN</td>\n",
              "      <td>NaN</td>\n",
              "      <td>NaN</td>\n",
              "    </tr>\n",
              "    <tr>\n",
              "      <th>3</th>\n",
              "      <td>Ing. Mecatrónica</td>\n",
              "      <td>Ing. Mecatrónica/Electrónica</td>\n",
              "      <td>Ingenierías Target</td>\n",
              "      <td>6</td>\n",
              "      <td>9</td>\n",
              "      <td>Si</td>\n",
              "      <td>Si</td>\n",
              "      <td>Highly Recommend</td>\n",
              "      <td>Highly Recommend</td>\n",
              "      <td>Do Not Recommend</td>\n",
              "      <td>Recommend</td>\n",
              "      <td>Highly Recommend</td>\n",
              "      <td>5</td>\n",
              "      <td>B2 - High Intermediate</td>\n",
              "      <td>Si</td>\n",
              "      <td>Si</td>\n",
              "    </tr>\n",
              "    <tr>\n",
              "      <th>4</th>\n",
              "      <td>Comercio Exterior</td>\n",
              "      <td>Negocios Internacionales</td>\n",
              "      <td>Negocios</td>\n",
              "      <td>NaN</td>\n",
              "      <td>NaN</td>\n",
              "      <td>Si</td>\n",
              "      <td>NaN</td>\n",
              "      <td>NaN</td>\n",
              "      <td>NaN</td>\n",
              "      <td>NaN</td>\n",
              "      <td>NaN</td>\n",
              "      <td>NaN</td>\n",
              "      <td>NaN</td>\n",
              "      <td>NaN</td>\n",
              "      <td>NaN</td>\n",
              "      <td>NaN</td>\n",
              "    </tr>\n",
              "    <tr>\n",
              "      <th>...</th>\n",
              "      <td>...</td>\n",
              "      <td>...</td>\n",
              "      <td>...</td>\n",
              "      <td>...</td>\n",
              "      <td>...</td>\n",
              "      <td>...</td>\n",
              "      <td>...</td>\n",
              "      <td>...</td>\n",
              "      <td>...</td>\n",
              "      <td>...</td>\n",
              "      <td>...</td>\n",
              "      <td>...</td>\n",
              "      <td>...</td>\n",
              "      <td>...</td>\n",
              "      <td>...</td>\n",
              "      <td>...</td>\n",
              "    </tr>\n",
              "    <tr>\n",
              "      <th>2588</th>\n",
              "      <td>Administración</td>\n",
              "      <td>Administración</td>\n",
              "      <td>Negocios</td>\n",
              "      <td>8</td>\n",
              "      <td>NaN</td>\n",
              "      <td>NaN</td>\n",
              "      <td>NaN</td>\n",
              "      <td>NaN</td>\n",
              "      <td>NaN</td>\n",
              "      <td>NaN</td>\n",
              "      <td>NaN</td>\n",
              "      <td>NaN</td>\n",
              "      <td>NaN</td>\n",
              "      <td>NaN</td>\n",
              "      <td>NaN</td>\n",
              "      <td>NaN</td>\n",
              "    </tr>\n",
              "    <tr>\n",
              "      <th>2589</th>\n",
              "      <td>Administración</td>\n",
              "      <td>Administración</td>\n",
              "      <td>Negocios</td>\n",
              "      <td>4</td>\n",
              "      <td>NaN</td>\n",
              "      <td>NaN</td>\n",
              "      <td>NaN</td>\n",
              "      <td>NaN</td>\n",
              "      <td>NaN</td>\n",
              "      <td>NaN</td>\n",
              "      <td>NaN</td>\n",
              "      <td>NaN</td>\n",
              "      <td>NaN</td>\n",
              "      <td>NaN</td>\n",
              "      <td>NaN</td>\n",
              "      <td>NaN</td>\n",
              "    </tr>\n",
              "    <tr>\n",
              "      <th>2590</th>\n",
              "      <td>Administración</td>\n",
              "      <td>Administración</td>\n",
              "      <td>Negocios</td>\n",
              "      <td>8</td>\n",
              "      <td>NaN</td>\n",
              "      <td>NaN</td>\n",
              "      <td>NaN</td>\n",
              "      <td>NaN</td>\n",
              "      <td>NaN</td>\n",
              "      <td>NaN</td>\n",
              "      <td>NaN</td>\n",
              "      <td>NaN</td>\n",
              "      <td>NaN</td>\n",
              "      <td>NaN</td>\n",
              "      <td>NaN</td>\n",
              "      <td>NaN</td>\n",
              "    </tr>\n",
              "    <tr>\n",
              "      <th>2591</th>\n",
              "      <td>Administración</td>\n",
              "      <td>Administración</td>\n",
              "      <td>Negocios</td>\n",
              "      <td>4</td>\n",
              "      <td>NaN</td>\n",
              "      <td>NaN</td>\n",
              "      <td>NaN</td>\n",
              "      <td>NaN</td>\n",
              "      <td>NaN</td>\n",
              "      <td>NaN</td>\n",
              "      <td>NaN</td>\n",
              "      <td>NaN</td>\n",
              "      <td>NaN</td>\n",
              "      <td>NaN</td>\n",
              "      <td>NaN</td>\n",
              "      <td>NaN</td>\n",
              "    </tr>\n",
              "    <tr>\n",
              "      <th>2592</th>\n",
              "      <td>Administración</td>\n",
              "      <td>Administración</td>\n",
              "      <td>Negocios</td>\n",
              "      <td>7</td>\n",
              "      <td>NaN</td>\n",
              "      <td>NaN</td>\n",
              "      <td>NaN</td>\n",
              "      <td>NaN</td>\n",
              "      <td>NaN</td>\n",
              "      <td>NaN</td>\n",
              "      <td>NaN</td>\n",
              "      <td>NaN</td>\n",
              "      <td>NaN</td>\n",
              "      <td>NaN</td>\n",
              "      <td>NaN</td>\n",
              "      <td>NaN</td>\n",
              "    </tr>\n",
              "  </tbody>\n",
              "</table>\n",
              "<p>2593 rows × 16 columns</p>\n",
              "</div>\n",
              "      <button class=\"colab-df-convert\" onclick=\"convertToInteractive('df-43b5f8a3-87b6-4de5-acd6-35e90a593dbe')\"\n",
              "              title=\"Convert this dataframe to an interactive table.\"\n",
              "              style=\"display:none;\">\n",
              "        \n",
              "  <svg xmlns=\"http://www.w3.org/2000/svg\" height=\"24px\"viewBox=\"0 0 24 24\"\n",
              "       width=\"24px\">\n",
              "    <path d=\"M0 0h24v24H0V0z\" fill=\"none\"/>\n",
              "    <path d=\"M18.56 5.44l.94 2.06.94-2.06 2.06-.94-2.06-.94-.94-2.06-.94 2.06-2.06.94zm-11 1L8.5 8.5l.94-2.06 2.06-.94-2.06-.94L8.5 2.5l-.94 2.06-2.06.94zm10 10l.94 2.06.94-2.06 2.06-.94-2.06-.94-.94-2.06-.94 2.06-2.06.94z\"/><path d=\"M17.41 7.96l-1.37-1.37c-.4-.4-.92-.59-1.43-.59-.52 0-1.04.2-1.43.59L10.3 9.45l-7.72 7.72c-.78.78-.78 2.05 0 2.83L4 21.41c.39.39.9.59 1.41.59.51 0 1.02-.2 1.41-.59l7.78-7.78 2.81-2.81c.8-.78.8-2.07 0-2.86zM5.41 20L4 18.59l7.72-7.72 1.47 1.35L5.41 20z\"/>\n",
              "  </svg>\n",
              "      </button>\n",
              "      \n",
              "  <style>\n",
              "    .colab-df-container {\n",
              "      display:flex;\n",
              "      flex-wrap:wrap;\n",
              "      gap: 12px;\n",
              "    }\n",
              "\n",
              "    .colab-df-convert {\n",
              "      background-color: #E8F0FE;\n",
              "      border: none;\n",
              "      border-radius: 50%;\n",
              "      cursor: pointer;\n",
              "      display: none;\n",
              "      fill: #1967D2;\n",
              "      height: 32px;\n",
              "      padding: 0 0 0 0;\n",
              "      width: 32px;\n",
              "    }\n",
              "\n",
              "    .colab-df-convert:hover {\n",
              "      background-color: #E2EBFA;\n",
              "      box-shadow: 0px 1px 2px rgba(60, 64, 67, 0.3), 0px 1px 3px 1px rgba(60, 64, 67, 0.15);\n",
              "      fill: #174EA6;\n",
              "    }\n",
              "\n",
              "    [theme=dark] .colab-df-convert {\n",
              "      background-color: #3B4455;\n",
              "      fill: #D2E3FC;\n",
              "    }\n",
              "\n",
              "    [theme=dark] .colab-df-convert:hover {\n",
              "      background-color: #434B5C;\n",
              "      box-shadow: 0px 1px 3px 1px rgba(0, 0, 0, 0.15);\n",
              "      filter: drop-shadow(0px 1px 2px rgba(0, 0, 0, 0.3));\n",
              "      fill: #FFFFFF;\n",
              "    }\n",
              "  </style>\n",
              "\n",
              "      <script>\n",
              "        const buttonEl =\n",
              "          document.querySelector('#df-43b5f8a3-87b6-4de5-acd6-35e90a593dbe button.colab-df-convert');\n",
              "        buttonEl.style.display =\n",
              "          google.colab.kernel.accessAllowed ? 'block' : 'none';\n",
              "\n",
              "        async function convertToInteractive(key) {\n",
              "          const element = document.querySelector('#df-43b5f8a3-87b6-4de5-acd6-35e90a593dbe');\n",
              "          const dataTable =\n",
              "            await google.colab.kernel.invokeFunction('convertToInteractive',\n",
              "                                                     [key], {});\n",
              "          if (!dataTable) return;\n",
              "\n",
              "          const docLinkHtml = 'Like what you see? Visit the ' +\n",
              "            '<a target=\"_blank\" href=https://colab.research.google.com/notebooks/data_table.ipynb>data table notebook</a>'\n",
              "            + ' to learn more about interactive tables.';\n",
              "          element.innerHTML = '';\n",
              "          dataTable['output_type'] = 'display_data';\n",
              "          await google.colab.output.renderOutput(dataTable, element);\n",
              "          const docLink = document.createElement('div');\n",
              "          docLink.innerHTML = docLinkHtml;\n",
              "          element.appendChild(docLink);\n",
              "        }\n",
              "      </script>\n",
              "    </div>\n",
              "  </div>\n",
              "  "
            ]
          },
          "metadata": {},
          "execution_count": 27
        }
      ]
    },
    {
      "cell_type": "code",
      "source": [
        "df.info()"
      ],
      "metadata": {
        "colab": {
          "base_uri": "https://localhost:8080/"
        },
        "id": "LEpvQU2ygYQg",
        "outputId": "1885959b-e62e-498c-a8ae-966efb20e513"
      },
      "execution_count": 28,
      "outputs": [
        {
          "output_type": "stream",
          "name": "stdout",
          "text": [
            "<class 'pandas.core.frame.DataFrame'>\n",
            "Int64Index: 2593 entries, 0 to 2592\n",
            "Data columns (total 16 columns):\n",
            " #   Column                  Non-Null Count  Dtype \n",
            "---  ------                  --------------  ----- \n",
            " 0   Carrera/Titulación      2593 non-null   object\n",
            " 1   Carrera Gestional       2593 non-null   object\n",
            " 2   Especialidad            2593 non-null   object\n",
            " 3   Avance                  2547 non-null   object\n",
            " 4   Semestres Totales       1815 non-null   object\n",
            " 5   Evaluados Si/No         509 non-null    object\n",
            " 6   Altamente Recomendado   239 non-null    object\n",
            " 7   Operaciones-Calidad     432 non-null    object\n",
            " 8   MTTO-DIMA               432 non-null    object\n",
            " 9   Comercial-Planeamiento  432 non-null    object\n",
            " 10  DIGI-SC                 432 non-null    object\n",
            " 11  Resto-Soft              432 non-null    object\n",
            " 12  Actividad Grupal.1      45 non-null     object\n",
            " 13  Ingles                  124 non-null    object\n",
            " 14  Destacado               25 non-null     object\n",
            " 15  Ingresados Si/No        29 non-null     object\n",
            "dtypes: object(16)\n",
            "memory usage: 344.4+ KB\n"
          ]
        }
      ]
    },
    {
      "cell_type": "code",
      "source": [
        "df.columns"
      ],
      "metadata": {
        "id": "k59InETGlTmk",
        "colab": {
          "base_uri": "https://localhost:8080/"
        },
        "outputId": "a146ec2c-e70e-4c51-fb44-d6919baa4b9a"
      },
      "execution_count": 29,
      "outputs": [
        {
          "output_type": "execute_result",
          "data": {
            "text/plain": [
              "Index(['Carrera/Titulación', 'Carrera Gestional', 'Especialidad', 'Avance',\n",
              "       'Semestres Totales', 'Evaluados Si/No', 'Altamente Recomendado',\n",
              "       'Operaciones-Calidad', 'MTTO-DIMA', 'Comercial-Planeamiento', 'DIGI-SC',\n",
              "       'Resto-Soft', 'Actividad Grupal.1', 'Ingles', 'Destacado',\n",
              "       'Ingresados Si/No'],\n",
              "      dtype='object')"
            ]
          },
          "metadata": {},
          "execution_count": 29
        }
      ]
    },
    {
      "cell_type": "markdown",
      "source": [
        "## 2. Limpieza de datos"
      ],
      "metadata": {
        "id": "KXe6beSKD8yg"
      }
    },
    {
      "cell_type": "markdown",
      "source": [
        "### Limpieza de columnas numéricas"
      ],
      "metadata": {
        "id": "z_MZGKMyjF8w"
      }
    },
    {
      "cell_type": "markdown",
      "source": [
        "#### Sustituir datos faltantes en Avance"
      ],
      "metadata": {
        "id": "e3v22q85gu7l"
      }
    },
    {
      "cell_type": "code",
      "source": [
        "df['Avance'].unique()"
      ],
      "metadata": {
        "colab": {
          "base_uri": "https://localhost:8080/"
        },
        "id": "v-lXvB2yXCpG",
        "outputId": "ce9f1eff-d254-488a-a0a5-800aa54f2873"
      },
      "execution_count": 30,
      "outputs": [
        {
          "output_type": "execute_result",
          "data": {
            "text/plain": [
              "array([nan, '6', '8', '9', '10', '7', '5', '4', '12', '11', 'Egresado',\n",
              "       '2', '3'], dtype=object)"
            ]
          },
          "metadata": {},
          "execution_count": 30
        }
      ]
    },
    {
      "cell_type": "code",
      "source": [
        "notegresados = df[df.Avance != 'Egresado']\n",
        "notegresados['Avance'] = notegresados['Avance'].apply(pd.to_numeric, errors='coerce')\n",
        "notegresados.mean()"
      ],
      "metadata": {
        "colab": {
          "base_uri": "https://localhost:8080/"
        },
        "id": "xHew8iQlcmQ8",
        "outputId": "9fd3e5db-e0c4-4821-cd87-3e28eb5fe3ea"
      },
      "execution_count": 31,
      "outputs": [
        {
          "output_type": "stream",
          "name": "stderr",
          "text": [
            "/usr/local/lib/python3.7/dist-packages/ipykernel_launcher.py:2: SettingWithCopyWarning: \n",
            "A value is trying to be set on a copy of a slice from a DataFrame.\n",
            "Try using .loc[row_indexer,col_indexer] = value instead\n",
            "\n",
            "See the caveats in the documentation: https://pandas.pydata.org/pandas-docs/stable/user_guide/indexing.html#returning-a-view-versus-a-copy\n",
            "  \n",
            "/usr/local/lib/python3.7/dist-packages/ipykernel_launcher.py:3: FutureWarning: Dropping of nuisance columns in DataFrame reductions (with 'numeric_only=None') is deprecated; in a future version this will raise TypeError.  Select only valid columns before calling the reduction.\n",
            "  This is separate from the ipykernel package so we can avoid doing imports until\n"
          ]
        },
        {
          "output_type": "execute_result",
          "data": {
            "text/plain": [
              "Avance    7.47685\n",
              "dtype: float64"
            ]
          },
          "metadata": {},
          "execution_count": 31
        }
      ]
    },
    {
      "cell_type": "code",
      "source": [
        "df['Avance'] = df['Avance'].fillna(7)\n",
        "df['Avance'].replace({'Egresado':13}, inplace=True)\n",
        "df['Avance'] = df['Avance'].apply(pd.to_numeric, errors='coerce')"
      ],
      "metadata": {
        "id": "3vWl1bJxdiKC"
      },
      "execution_count": 32,
      "outputs": []
    },
    {
      "cell_type": "markdown",
      "source": [
        "#### Sustituir datos faltantes en Semestres Totales"
      ],
      "metadata": {
        "id": "yVIlCUmYhKvi"
      }
    },
    {
      "cell_type": "code",
      "source": [
        "df['Semestres Totales'].unique()"
      ],
      "metadata": {
        "colab": {
          "base_uri": "https://localhost:8080/"
        },
        "id": "fnNaaiL0cO6X",
        "outputId": "7ce9de33-bf17-452a-a0e1-83319d60fbb5"
      },
      "execution_count": 33,
      "outputs": [
        {
          "output_type": "execute_result",
          "data": {
            "text/plain": [
              "array([nan, '9', '10'], dtype=object)"
            ]
          },
          "metadata": {},
          "execution_count": 33
        }
      ]
    },
    {
      "cell_type": "code",
      "source": [
        "df['Semestres Totales'] = df['Semestres Totales'].apply(pd.to_numeric, errors='coerce')\n",
        "df.mean()"
      ],
      "metadata": {
        "colab": {
          "base_uri": "https://localhost:8080/"
        },
        "id": "EwZ1mBatePj1",
        "outputId": "6a96fed4-7e07-4d6f-fb55-3641d54fe1e9"
      },
      "execution_count": 34,
      "outputs": [
        {
          "output_type": "stream",
          "name": "stderr",
          "text": [
            "/usr/local/lib/python3.7/dist-packages/ipykernel_launcher.py:2: FutureWarning: Dropping of nuisance columns in DataFrame reductions (with 'numeric_only=None') is deprecated; in a future version this will raise TypeError.  Select only valid columns before calling the reduction.\n",
            "  \n"
          ]
        },
        {
          "output_type": "execute_result",
          "data": {
            "text/plain": [
              "Avance               7.971076\n",
              "Semestres Totales    9.623691\n",
              "dtype: float64"
            ]
          },
          "metadata": {},
          "execution_count": 34
        }
      ]
    },
    {
      "cell_type": "code",
      "source": [
        "df['Semestres Totales'] = df['Semestres Totales'].fillna(10)\n",
        "df['Semestres Totales'].unique()"
      ],
      "metadata": {
        "colab": {
          "base_uri": "https://localhost:8080/"
        },
        "id": "QWrf-JZrepXi",
        "outputId": "079b9d67-fd52-4a9c-9601-6898d59b8bfc"
      },
      "execution_count": 35,
      "outputs": [
        {
          "output_type": "execute_result",
          "data": {
            "text/plain": [
              "array([10.,  9.])"
            ]
          },
          "metadata": {},
          "execution_count": 35
        }
      ]
    },
    {
      "cell_type": "code",
      "source": [
        "#Utilizar las reglas proporcionadas por la empresa para determinar si es o no apto\n",
        "#considerando que el postulante pueda ser practicante con respecto a su avance de estudios:\n",
        "# df['Filtro 1'] = df['Semestres Totales']-df['Avance']\n",
        "# df['Filtro 1'] = np.where((df['Filtro 1']> 1) & (df['Avance'] >= 5), 'Aplica', 'No aplica')\n",
        "\n",
        "df = df[(df['Avance'] > 4)]\n",
        "vacante = np.where((df['Semestres Totales']-df['Avance'] > 1) & (df['Avance'] != 13), 'Practicante', 'Profesional')\n",
        "df.insert(3, 'Vacante', vacante)"
      ],
      "metadata": {
        "id": "rf4LmsaBgXKs"
      },
      "execution_count": 36,
      "outputs": []
    },
    {
      "cell_type": "code",
      "source": [
        "df.Vacante.value_counts()"
      ],
      "metadata": {
        "colab": {
          "base_uri": "https://localhost:8080/"
        },
        "id": "ROWPjBpDMNvL",
        "outputId": "b7f90cd9-fe1d-47b0-de33-b8c114f37bf7"
      },
      "execution_count": 37,
      "outputs": [
        {
          "output_type": "execute_result",
          "data": {
            "text/plain": [
              "Practicante    1238\n",
              "Profesional    1093\n",
              "Name: Vacante, dtype: int64"
            ]
          },
          "metadata": {},
          "execution_count": 37
        }
      ]
    },
    {
      "cell_type": "markdown",
      "source": [
        "### Gráficas"
      ],
      "metadata": {
        "id": "eEezqyBYoh_i"
      }
    },
    {
      "cell_type": "code",
      "source": [
        "from matplotlib import pyplot as plt\n",
        "\n",
        "ax = df['Vacante'].value_counts().plot(kind='barh', figsize=(14,8))\n",
        "plt.show()"
      ],
      "metadata": {
        "colab": {
          "base_uri": "https://localhost:8080/",
          "height": 482
        },
        "id": "BjgL_Q9dolJ8",
        "outputId": "c264df8f-5285-4db3-dcda-c40c6acde79d"
      },
      "execution_count": 38,
      "outputs": [
        {
          "output_type": "display_data",
          "data": {
            "text/plain": [
              "<Figure size 1008x576 with 1 Axes>"
            ],
            "image/png": "[encoded data removed]"
          },
          "metadata": {
            "needs_background": "light"
          }
        }
      ]
    },
    {
      "cell_type": "markdown",
      "source": [
        "### Limpieza de columnas binarias"
      ],
      "metadata": {
        "id": "OXStIrYVhwNA"
      }
    },
    {
      "cell_type": "code",
      "source": [
        "colBinarias = ['Evaluados Si/No', 'Altamente Recomendado', 'Destacado', 'Ingresados Si/No']\n",
        "\n",
        "# dict_orthography = {'No':'No', 'no':'No', 'NO':'No', 'nO':'No', 'Sí':'Sí', 'Si':'Sí', 'SÍ':'Sí'}\n",
        "dict_binary = {np.nan:0, 'No':0, 'no':0, 'NO':0, 'nO':0, 'Sí':1, 'Si':1, 'SÍ':1, 'Lic. Química': 'Química', 'Lic. en Química': 'Química'}\n",
        "for col in colBinarias:\n",
        "  # df.replace({col : dict_orthography}, inplace=True)\n",
        "  # # df[col] = df[col].fillna(df[col].mode())\n",
        "  # df.replace({col: {np.nan:df[col].mode()}}, inplace=True)\n",
        "  df.replace({col: dict_binary}, inplace=True)\n",
        "df.info()"
      ],
      "metadata": {
        "colab": {
          "base_uri": "https://localhost:8080/"
        },
        "id": "iLWR07zBj8Af",
        "outputId": "9e9342da-5ac5-4215-c83a-c562181fd657"
      },
      "execution_count": 39,
      "outputs": [
        {
          "output_type": "stream",
          "name": "stdout",
          "text": [
            "<class 'pandas.core.frame.DataFrame'>\n",
            "Int64Index: 2331 entries, 0 to 2592\n",
            "Data columns (total 17 columns):\n",
            " #   Column                  Non-Null Count  Dtype  \n",
            "---  ------                  --------------  -----  \n",
            " 0   Carrera/Titulación      2331 non-null   object \n",
            " 1   Carrera Gestional       2331 non-null   object \n",
            " 2   Especialidad            2331 non-null   object \n",
            " 3   Vacante                 2331 non-null   object \n",
            " 4   Avance                  2331 non-null   int64  \n",
            " 5   Semestres Totales       2331 non-null   float64\n",
            " 6   Evaluados Si/No         2331 non-null   int64  \n",
            " 7   Altamente Recomendado   2331 non-null   int64  \n",
            " 8   Operaciones-Calidad     423 non-null    object \n",
            " 9   MTTO-DIMA               423 non-null    object \n",
            " 10  Comercial-Planeamiento  423 non-null    object \n",
            " 11  DIGI-SC                 423 non-null    object \n",
            " 12  Resto-Soft              423 non-null    object \n",
            " 13  Actividad Grupal.1      44 non-null     object \n",
            " 14  Ingles                  122 non-null    object \n",
            " 15  Destacado               2331 non-null   int64  \n",
            " 16  Ingresados Si/No        2331 non-null   int64  \n",
            "dtypes: float64(1), int64(5), object(11)\n",
            "memory usage: 327.8+ KB\n"
          ]
        },
        {
          "output_type": "stream",
          "name": "stderr",
          "text": [
            "/usr/local/lib/python3.7/dist-packages/pandas/core/indexing.py:1773: SettingWithCopyWarning: \n",
            "A value is trying to be set on a copy of a slice from a DataFrame.\n",
            "Try using .loc[row_indexer,col_indexer] = value instead\n",
            "\n",
            "See the caveats in the documentation: https://pandas.pydata.org/pandas-docs/stable/user_guide/indexing.html#returning-a-view-versus-a-copy\n",
            "  self._setitem_single_column(ilocs[0], value, pi)\n"
          ]
        }
      ]
    },
    {
      "cell_type": "markdown",
      "source": [
        "### Limpieza en columnas categóricas"
      ],
      "metadata": {
        "id": "HFRpLFr8jOKN"
      }
    },
    {
      "cell_type": "markdown",
      "source": [
        "Do Not Recommend: 0  \n",
        "Recommend: 1  \n",
        "Highly Recommend: 2"
      ],
      "metadata": {
        "id": "dFkM6TtCaRnu"
      }
    },
    {
      "cell_type": "code",
      "source": [
        "colCategoricas = ['Operaciones-Calidad', 'MTTO-DIMA', 'Comercial-Planeamiento', 'DIGI-SC', 'Resto-Soft']\n",
        "\n",
        "dict_categorical = {np.nan:0, 'Do Not Recommend':0, 'Recommend':1, 'Highly Recommend':2}\n",
        "for col in colCategoricas:\n",
        "  # df[col] = df[col].fillna(df[col].mode())\n",
        "  # df.replace({col: {np.nan:df[col].mode()}}, inplace=True)\n",
        "  df.replace({col: dict_categorical},inplace=True)"
      ],
      "metadata": {
        "colab": {
          "base_uri": "https://localhost:8080/"
        },
        "id": "p46u2kM8shEQ",
        "outputId": "304b3f71-387e-47c9-c839-6204c2a729dc"
      },
      "execution_count": 40,
      "outputs": [
        {
          "output_type": "stream",
          "name": "stderr",
          "text": [
            "/usr/local/lib/python3.7/dist-packages/pandas/core/indexing.py:1773: SettingWithCopyWarning: \n",
            "A value is trying to be set on a copy of a slice from a DataFrame.\n",
            "Try using .loc[row_indexer,col_indexer] = value instead\n",
            "\n",
            "See the caveats in the documentation: https://pandas.pydata.org/pandas-docs/stable/user_guide/indexing.html#returning-a-view-versus-a-copy\n",
            "  self._setitem_single_column(ilocs[0], value, pi)\n"
          ]
        }
      ]
    },
    {
      "cell_type": "code",
      "source": [
        "# df.replace({'Actividad Grupal.1': {np.nan : 4}})\n",
        "df.replace({'Actividad Grupal.1': {np.nan:0, 1:0, 2:0, 3:1, 4:1, 5:2, 6:2}},inplace=True)\n",
        "df['Actividad Grupal.1'] = df['Actividad Grupal.1'].apply(pd.to_numeric, errors='coerce')"
      ],
      "metadata": {
        "id": "CVGYmL7XuejT",
        "colab": {
          "base_uri": "https://localhost:8080/"
        },
        "outputId": "2b785a7a-b974-4a2c-ea12-214f0b99c24a"
      },
      "execution_count": 41,
      "outputs": [
        {
          "output_type": "stream",
          "name": "stderr",
          "text": [
            "/usr/local/lib/python3.7/dist-packages/pandas/core/indexing.py:1773: SettingWithCopyWarning: \n",
            "A value is trying to be set on a copy of a slice from a DataFrame.\n",
            "Try using .loc[row_indexer,col_indexer] = value instead\n",
            "\n",
            "See the caveats in the documentation: https://pandas.pydata.org/pandas-docs/stable/user_guide/indexing.html#returning-a-view-versus-a-copy\n",
            "  self._setitem_single_column(ilocs[0], value, pi)\n",
            "/usr/local/lib/python3.7/dist-packages/ipykernel_launcher.py:3: SettingWithCopyWarning: \n",
            "A value is trying to be set on a copy of a slice from a DataFrame.\n",
            "Try using .loc[row_indexer,col_indexer] = value instead\n",
            "\n",
            "See the caveats in the documentation: https://pandas.pydata.org/pandas-docs/stable/user_guide/indexing.html#returning-a-view-versus-a-copy\n",
            "  This is separate from the ipykernel package so we can avoid doing imports until\n"
          ]
        }
      ]
    },
    {
      "cell_type": "code",
      "source": [
        "# df.replace({'Ingles' : {np.nan : df['Ingles'].mode()}})\n",
        "df.replace({'Ingles': {np.nan :1, 'B2 - High Intermediate':2, 'B1 - Low Intermediate':2,\n",
        "       'A1 - Low Beginner':1, 'A2 - High Beginner':1, 'C2 - Mastery':2,\n",
        "       'C1 - Advanced':2, 'False Beginner':1, 'Late hangup':1 }},inplace=True)"
      ],
      "metadata": {
        "id": "m1qB2sbYvimr",
        "colab": {
          "base_uri": "https://localhost:8080/"
        },
        "outputId": "206505dd-c402-4373-bd3d-de4815a15dc0"
      },
      "execution_count": 42,
      "outputs": [
        {
          "output_type": "stream",
          "name": "stderr",
          "text": [
            "/usr/local/lib/python3.7/dist-packages/pandas/core/indexing.py:1773: SettingWithCopyWarning: \n",
            "A value is trying to be set on a copy of a slice from a DataFrame.\n",
            "Try using .loc[row_indexer,col_indexer] = value instead\n",
            "\n",
            "See the caveats in the documentation: https://pandas.pydata.org/pandas-docs/stable/user_guide/indexing.html#returning-a-view-versus-a-copy\n",
            "  self._setitem_single_column(ilocs[0], value, pi)\n"
          ]
        }
      ]
    },
    {
      "cell_type": "code",
      "source": [
        "df.info()"
      ],
      "metadata": {
        "id": "IUnr7Gy2e7UW",
        "colab": {
          "base_uri": "https://localhost:8080/"
        },
        "outputId": "98640338-401f-4daa-ca78-80f0bb7a73bf"
      },
      "execution_count": 43,
      "outputs": [
        {
          "output_type": "stream",
          "name": "stdout",
          "text": [
            "<class 'pandas.core.frame.DataFrame'>\n",
            "Int64Index: 2331 entries, 0 to 2592\n",
            "Data columns (total 17 columns):\n",
            " #   Column                  Non-Null Count  Dtype  \n",
            "---  ------                  --------------  -----  \n",
            " 0   Carrera/Titulación      2331 non-null   object \n",
            " 1   Carrera Gestional       2331 non-null   object \n",
            " 2   Especialidad            2331 non-null   object \n",
            " 3   Vacante                 2331 non-null   object \n",
            " 4   Avance                  2331 non-null   int64  \n",
            " 5   Semestres Totales       2331 non-null   float64\n",
            " 6   Evaluados Si/No         2331 non-null   int64  \n",
            " 7   Altamente Recomendado   2331 non-null   int64  \n",
            " 8   Operaciones-Calidad     2331 non-null   int64  \n",
            " 9   MTTO-DIMA               2331 non-null   int64  \n",
            " 10  Comercial-Planeamiento  2331 non-null   int64  \n",
            " 11  DIGI-SC                 2331 non-null   int64  \n",
            " 12  Resto-Soft              2331 non-null   int64  \n",
            " 13  Actividad Grupal.1      2331 non-null   int64  \n",
            " 14  Ingles                  2331 non-null   int64  \n",
            " 15  Destacado               2331 non-null   int64  \n",
            " 16  Ingresados Si/No        2331 non-null   int64  \n",
            "dtypes: float64(1), int64(12), object(4)\n",
            "memory usage: 327.8+ KB\n"
          ]
        }
      ]
    },
    {
      "cell_type": "markdown",
      "source": [
        "-------------------------------------------------------------------------------"
      ],
      "metadata": {
        "id": "9DsWtuBAeOk0"
      }
    },
    {
      "cell_type": "code",
      "source": [
        "df"
      ],
      "metadata": {
        "id": "EvPimBjPX87p",
        "colab": {
          "base_uri": "https://localhost:8080/",
          "height": 572
        },
        "outputId": "8f8b79be-5f1c-469b-85cc-19cfb9d4b48b"
      },
      "execution_count": 44,
      "outputs": [
        {
          "output_type": "execute_result",
          "data": {
            "text/plain": [
              "     Carrera/Titulación             Carrera Gestional        Especialidad  \\\n",
              "0       Ing. Industrial               Ing. Industrial  Ingenierías Target   \n",
              "1       Ing. Industrial               Ing. Industrial  Ingenierías Target   \n",
              "2       Ing. Industrial               Ing. Industrial  Ingenierías Target   \n",
              "3      Ing. Mecatrónica  Ing. Mecatrónica/Electrónica  Ingenierías Target   \n",
              "4     Comercio Exterior      Negocios Internacionales            Negocios   \n",
              "...                 ...                           ...                 ...   \n",
              "2586     Administración               Administración             Negocios   \n",
              "2587     Administración               Administración             Negocios   \n",
              "2588     Administración               Administración             Negocios   \n",
              "2590     Administración               Administración             Negocios   \n",
              "2592     Administración               Administración             Negocios   \n",
              "\n",
              "          Vacante  Avance  Semestres Totales  Evaluados Si/No  \\\n",
              "0     Practicante       7               10.0                1   \n",
              "1     Practicante       6                9.0                1   \n",
              "2     Profesional       8                9.0                0   \n",
              "3     Practicante       6                9.0                1   \n",
              "4     Practicante       7               10.0                1   \n",
              "...           ...     ...                ...              ...   \n",
              "2586  Practicante       6               10.0                0   \n",
              "2587  Practicante       6               10.0                0   \n",
              "2588  Practicante       8               10.0                0   \n",
              "2590  Practicante       8               10.0                0   \n",
              "2592  Practicante       7               10.0                0   \n",
              "\n",
              "      Altamente Recomendado  Operaciones-Calidad  MTTO-DIMA  \\\n",
              "0                         1                    2          1   \n",
              "1                         1                    2          0   \n",
              "2                         0                    0          0   \n",
              "3                         1                    2          2   \n",
              "4                         0                    0          0   \n",
              "...                     ...                  ...        ...   \n",
              "2586                      0                    0          0   \n",
              "2587                      0                    0          0   \n",
              "2588                      0                    0          0   \n",
              "2590                      0                    0          0   \n",
              "2592                      0                    0          0   \n",
              "\n",
              "      Comercial-Planeamiento  DIGI-SC  Resto-Soft  Actividad Grupal.1  Ingles  \\\n",
              "0                          2        0           0                   5       2   \n",
              "1                          0        0           0                   5       2   \n",
              "2                          0        0           0                   0       1   \n",
              "3                          0        1           2                   5       2   \n",
              "4                          0        0           0                   0       1   \n",
              "...                      ...      ...         ...                 ...     ...   \n",
              "2586                       0        0           0                   0       1   \n",
              "2587                       0        0           0                   0       1   \n",
              "2588                       0        0           0                   0       1   \n",
              "2590                       0        0           0                   0       1   \n",
              "2592                       0        0           0                   0       1   \n",
              "\n",
              "      Destacado  Ingresados Si/No  \n",
              "0             1                 1  \n",
              "1             1                 0  \n",
              "2             0                 0  \n",
              "3             1                 1  \n",
              "4             0                 0  \n",
              "...         ...               ...  \n",
              "2586          0                 0  \n",
              "2587          0                 0  \n",
              "2588          0                 0  \n",
              "2590          0                 0  \n",
              "2592          0                 0  \n",
              "\n",
              "[2331 rows x 17 columns]"
            ],
            "text/html": [
              "\n",
              "  <div id=\"df-6fd557ac-5c7a-4865-8e56-4eceeae0b40e\">\n",
              "    <div class=\"colab-df-container\">\n",
              "      <div>\n",
              "<style scoped>\n",
              "    .dataframe tbody tr th:only-of-type {\n",
              "        vertical-align: middle;\n",
              "    }\n",
              "\n",
              "    .dataframe tbody tr th {\n",
              "        vertical-align: top;\n",
              "    }\n",
              "\n",
              "    .dataframe thead th {\n",
              "        text-align: right;\n",
              "    }\n",
              "</style>\n",
              "<table border=\"1\" class=\"dataframe\">\n",
              "  <thead>\n",
              "    <tr style=\"text-align: right;\">\n",
              "      <th></th>\n",
              "      <th>Carrera/Titulación</th>\n",
              "      <th>Carrera Gestional</th>\n",
              "      <th>Especialidad</th>\n",
              "      <th>Vacante</th>\n",
              "      <th>Avance</th>\n",
              "      <th>Semestres Totales</th>\n",
              "      <th>Evaluados Si/No</th>\n",
              "      <th>Altamente Recomendado</th>\n",
              "      <th>Operaciones-Calidad</th>\n",
              "      <th>MTTO-DIMA</th>\n",
              "      <th>Comercial-Planeamiento</th>\n",
              "      <th>DIGI-SC</th>\n",
              "      <th>Resto-Soft</th>\n",
              "      <th>Actividad Grupal.1</th>\n",
              "      <th>Ingles</th>\n",
              "      <th>Destacado</th>\n",
              "      <th>Ingresados Si/No</th>\n",
              "    </tr>\n",
              "  </thead>\n",
              "  <tbody>\n",
              "    <tr>\n",
              "      <th>0</th>\n",
              "      <td>Ing. Industrial</td>\n",
              "      <td>Ing. Industrial</td>\n",
              "      <td>Ingenierías Target</td>\n",
              "      <td>Practicante</td>\n",
              "      <td>7</td>\n",
              "      <td>10.0</td>\n",
              "      <td>1</td>\n",
              "      <td>1</td>\n",
              "      <td>2</td>\n",
              "      <td>1</td>\n",
              "      <td>2</td>\n",
              "      <td>0</td>\n",
              "      <td>0</td>\n",
              "      <td>5</td>\n",
              "      <td>2</td>\n",
              "      <td>1</td>\n",
              "      <td>1</td>\n",
              "    </tr>\n",
              "    <tr>\n",
              "      <th>1</th>\n",
              "      <td>Ing. Industrial</td>\n",
              "      <td>Ing. Industrial</td>\n",
              "      <td>Ingenierías Target</td>\n",
              "      <td>Practicante</td>\n",
              "      <td>6</td>\n",
              "      <td>9.0</td>\n",
              "      <td>1</td>\n",
              "      <td>1</td>\n",
              "      <td>2</td>\n",
              "      <td>0</td>\n",
              "      <td>0</td>\n",
              "      <td>0</td>\n",
              "      <td>0</td>\n",
              "      <td>5</td>\n",
              "      <td>2</td>\n",
              "      <td>1</td>\n",
              "      <td>0</td>\n",
              "    </tr>\n",
              "    <tr>\n",
              "      <th>2</th>\n",
              "      <td>Ing. Industrial</td>\n",
              "      <td>Ing. Industrial</td>\n",
              "      <td>Ingenierías Target</td>\n",
              "      <td>Profesional</td>\n",
              "      <td>8</td>\n",
              "      <td>9.0</td>\n",
              "      <td>0</td>\n",
              "      <td>0</td>\n",
              "      <td>0</td>\n",
              "      <td>0</td>\n",
              "      <td>0</td>\n",
              "      <td>0</td>\n",
              "      <td>0</td>\n",
              "      <td>0</td>\n",
              "      <td>1</td>\n",
              "      <td>0</td>\n",
              "      <td>0</td>\n",
              "    </tr>\n",
              "    <tr>\n",
              "      <th>3</th>\n",
              "      <td>Ing. Mecatrónica</td>\n",
              "      <td>Ing. Mecatrónica/Electrónica</td>\n",
              "      <td>Ingenierías Target</td>\n",
              "      <td>Practicante</td>\n",
              "      <td>6</td>\n",
              "      <td>9.0</td>\n",
              "      <td>1</td>\n",
              "      <td>1</td>\n",
              "      <td>2</td>\n",
              "      <td>2</td>\n",
              "      <td>0</td>\n",
              "      <td>1</td>\n",
              "      <td>2</td>\n",
              "      <td>5</td>\n",
              "      <td>2</td>\n",
              "      <td>1</td>\n",
              "      <td>1</td>\n",
              "    </tr>\n",
              "    <tr>\n",
              "      <th>4</th>\n",
              "      <td>Comercio Exterior</td>\n",
              "      <td>Negocios Internacionales</td>\n",
              "      <td>Negocios</td>\n",
              "      <td>Practicante</td>\n",
              "      <td>7</td>\n",
              "      <td>10.0</td>\n",
              "      <td>1</td>\n",
              "      <td>0</td>\n",
              "      <td>0</td>\n",
              "      <td>0</td>\n",
              "      <td>0</td>\n",
              "      <td>0</td>\n",
              "      <td>0</td>\n",
              "      <td>0</td>\n",
              "      <td>1</td>\n",
              "      <td>0</td>\n",
              "      <td>0</td>\n",
              "    </tr>\n",
              "    <tr>\n",
              "      <th>...</th>\n",
              "      <td>...</td>\n",
              "      <td>...</td>\n",
              "      <td>...</td>\n",
              "      <td>...</td>\n",
              "      <td>...</td>\n",
              "      <td>...</td>\n",
              "      <td>...</td>\n",
              "      <td>...</td>\n",
              "      <td>...</td>\n",
              "      <td>...</td>\n",
              "      <td>...</td>\n",
              "      <td>...</td>\n",
              "      <td>...</td>\n",
              "      <td>...</td>\n",
              "      <td>...</td>\n",
              "      <td>...</td>\n",
              "      <td>...</td>\n",
              "    </tr>\n",
              "    <tr>\n",
              "      <th>2586</th>\n",
              "      <td>Administración</td>\n",
              "      <td>Administración</td>\n",
              "      <td>Negocios</td>\n",
              "      <td>Practicante</td>\n",
              "      <td>6</td>\n",
              "      <td>10.0</td>\n",
              "      <td>0</td>\n",
              "      <td>0</td>\n",
              "      <td>0</td>\n",
              "      <td>0</td>\n",
              "      <td>0</td>\n",
              "      <td>0</td>\n",
              "      <td>0</td>\n",
              "      <td>0</td>\n",
              "      <td>1</td>\n",
              "      <td>0</td>\n",
              "      <td>0</td>\n",
              "    </tr>\n",
              "    <tr>\n",
              "      <th>2587</th>\n",
              "      <td>Administración</td>\n",
              "      <td>Administración</td>\n",
              "      <td>Negocios</td>\n",
              "      <td>Practicante</td>\n",
              "      <td>6</td>\n",
              "      <td>10.0</td>\n",
              "      <td>0</td>\n",
              "      <td>0</td>\n",
              "      <td>0</td>\n",
              "      <td>0</td>\n",
              "      <td>0</td>\n",
              "      <td>0</td>\n",
              "      <td>0</td>\n",
              "      <td>0</td>\n",
              "      <td>1</td>\n",
              "      <td>0</td>\n",
              "      <td>0</td>\n",
              "    </tr>\n",
              "    <tr>\n",
              "      <th>2588</th>\n",
              "      <td>Administración</td>\n",
              "      <td>Administración</td>\n",
              "      <td>Negocios</td>\n",
              "      <td>Practicante</td>\n",
              "      <td>8</td>\n",
              "      <td>10.0</td>\n",
              "      <td>0</td>\n",
              "      <td>0</td>\n",
              "      <td>0</td>\n",
              "      <td>0</td>\n",
              "      <td>0</td>\n",
              "      <td>0</td>\n",
              "      <td>0</td>\n",
              "      <td>0</td>\n",
              "      <td>1</td>\n",
              "      <td>0</td>\n",
              "      <td>0</td>\n",
              "    </tr>\n",
              "    <tr>\n",
              "      <th>2590</th>\n",
              "      <td>Administración</td>\n",
              "      <td>Administración</td>\n",
              "      <td>Negocios</td>\n",
              "      <td>Practicante</td>\n",
              "      <td>8</td>\n",
              "      <td>10.0</td>\n",
              "      <td>0</td>\n",
              "      <td>0</td>\n",
              "      <td>0</td>\n",
              "      <td>0</td>\n",
              "      <td>0</td>\n",
              "      <td>0</td>\n",
              "      <td>0</td>\n",
              "      <td>0</td>\n",
              "      <td>1</td>\n",
              "      <td>0</td>\n",
              "      <td>0</td>\n",
              "    </tr>\n",
              "    <tr>\n",
              "      <th>2592</th>\n",
              "      <td>Administración</td>\n",
              "      <td>Administración</td>\n",
              "      <td>Negocios</td>\n",
              "      <td>Practicante</td>\n",
              "      <td>7</td>\n",
              "      <td>10.0</td>\n",
              "      <td>0</td>\n",
              "      <td>0</td>\n",
              "      <td>0</td>\n",
              "      <td>0</td>\n",
              "      <td>0</td>\n",
              "      <td>0</td>\n",
              "      <td>0</td>\n",
              "      <td>0</td>\n",
              "      <td>1</td>\n",
              "      <td>0</td>\n",
              "      <td>0</td>\n",
              "    </tr>\n",
              "  </tbody>\n",
              "</table>\n",
              "<p>2331 rows × 17 columns</p>\n",
              "</div>\n",
              "      <button class=\"colab-df-convert\" onclick=\"convertToInteractive('df-6fd557ac-5c7a-4865-8e56-4eceeae0b40e')\"\n",
              "              title=\"Convert this dataframe to an interactive table.\"\n",
              "              style=\"display:none;\">\n",
              "        \n",
              "  <svg xmlns=\"http://www.w3.org/2000/svg\" height=\"24px\"viewBox=\"0 0 24 24\"\n",
              "       width=\"24px\">\n",
              "    <path d=\"M0 0h24v24H0V0z\" fill=\"none\"/>\n",
              "    <path d=\"M18.56 5.44l.94 2.06.94-2.06 2.06-.94-2.06-.94-.94-2.06-.94 2.06-2.06.94zm-11 1L8.5 8.5l.94-2.06 2.06-.94-2.06-.94L8.5 2.5l-.94 2.06-2.06.94zm10 10l.94 2.06.94-2.06 2.06-.94-2.06-.94-.94-2.06-.94 2.06-2.06.94z\"/><path d=\"M17.41 7.96l-1.37-1.37c-.4-.4-.92-.59-1.43-.59-.52 0-1.04.2-1.43.59L10.3 9.45l-7.72 7.72c-.78.78-.78 2.05 0 2.83L4 21.41c.39.39.9.59 1.41.59.51 0 1.02-.2 1.41-.59l7.78-7.78 2.81-2.81c.8-.78.8-2.07 0-2.86zM5.41 20L4 18.59l7.72-7.72 1.47 1.35L5.41 20z\"/>\n",
              "  </svg>\n",
              "      </button>\n",
              "      \n",
              "  <style>\n",
              "    .colab-df-container {\n",
              "      display:flex;\n",
              "      flex-wrap:wrap;\n",
              "      gap: 12px;\n",
              "    }\n",
              "\n",
              "    .colab-df-convert {\n",
              "      background-color: #E8F0FE;\n",
              "      border: none;\n",
              "      border-radius: 50%;\n",
              "      cursor: pointer;\n",
              "      display: none;\n",
              "      fill: #1967D2;\n",
              "      height: 32px;\n",
              "      padding: 0 0 0 0;\n",
              "      width: 32px;\n",
              "    }\n",
              "\n",
              "    .colab-df-convert:hover {\n",
              "      background-color: #E2EBFA;\n",
              "      box-shadow: 0px 1px 2px rgba(60, 64, 67, 0.3), 0px 1px 3px 1px rgba(60, 64, 67, 0.15);\n",
              "      fill: #174EA6;\n",
              "    }\n",
              "\n",
              "    [theme=dark] .colab-df-convert {\n",
              "      background-color: #3B4455;\n",
              "      fill: #D2E3FC;\n",
              "    }\n",
              "\n",
              "    [theme=dark] .colab-df-convert:hover {\n",
              "      background-color: #434B5C;\n",
              "      box-shadow: 0px 1px 3px 1px rgba(0, 0, 0, 0.15);\n",
              "      filter: drop-shadow(0px 1px 2px rgba(0, 0, 0, 0.3));\n",
              "      fill: #FFFFFF;\n",
              "    }\n",
              "  </style>\n",
              "\n",
              "      <script>\n",
              "        const buttonEl =\n",
              "          document.querySelector('#df-6fd557ac-5c7a-4865-8e56-4eceeae0b40e button.colab-df-convert');\n",
              "        buttonEl.style.display =\n",
              "          google.colab.kernel.accessAllowed ? 'block' : 'none';\n",
              "\n",
              "        async function convertToInteractive(key) {\n",
              "          const element = document.querySelector('#df-6fd557ac-5c7a-4865-8e56-4eceeae0b40e');\n",
              "          const dataTable =\n",
              "            await google.colab.kernel.invokeFunction('convertToInteractive',\n",
              "                                                     [key], {});\n",
              "          if (!dataTable) return;\n",
              "\n",
              "          const docLinkHtml = 'Like what you see? Visit the ' +\n",
              "            '<a target=\"_blank\" href=https://colab.research.google.com/notebooks/data_table.ipynb>data table notebook</a>'\n",
              "            + ' to learn more about interactive tables.';\n",
              "          element.innerHTML = '';\n",
              "          dataTable['output_type'] = 'display_data';\n",
              "          await google.colab.output.renderOutput(dataTable, element);\n",
              "          const docLink = document.createElement('div');\n",
              "          docLink.innerHTML = docLinkHtml;\n",
              "          element.appendChild(docLink);\n",
              "        }\n",
              "      </script>\n",
              "    </div>\n",
              "  </div>\n",
              "  "
            ]
          },
          "metadata": {},
          "execution_count": 44
        }
      ]
    },
    {
      "cell_type": "markdown",
      "source": [
        "## 3. Transformación de Datos:\n",
        "\n",
        "Debido a que no se contaba con muchas variables numéricas y con las que se contaban eran valores muy cercanos, no vimos la necesidad de discretizar ni normalizar los datos."
      ],
      "metadata": {
        "id": "uIkS34-UCssc"
      }
    },
    {
      "cell_type": "markdown",
      "source": [
        "### Crear atributo para determinar si es apto\n",
        "\n",
        "\n"
      ],
      "metadata": {
        "id": "iarMOxwh0uru"
      }
    },
    {
      "cell_type": "code",
      "source": [
        "df"
      ],
      "metadata": {
        "colab": {
          "base_uri": "https://localhost:8080/",
          "height": 572
        },
        "id": "rC07Bp9ViORS",
        "outputId": "00c14934-3555-45d9-b2a6-97714b7007c8"
      },
      "execution_count": 45,
      "outputs": [
        {
          "output_type": "execute_result",
          "data": {
            "text/plain": [
              "     Carrera/Titulación             Carrera Gestional        Especialidad  \\\n",
              "0       Ing. Industrial               Ing. Industrial  Ingenierías Target   \n",
              "1       Ing. Industrial               Ing. Industrial  Ingenierías Target   \n",
              "2       Ing. Industrial               Ing. Industrial  Ingenierías Target   \n",
              "3      Ing. Mecatrónica  Ing. Mecatrónica/Electrónica  Ingenierías Target   \n",
              "4     Comercio Exterior      Negocios Internacionales            Negocios   \n",
              "...                 ...                           ...                 ...   \n",
              "2586     Administración               Administración             Negocios   \n",
              "2587     Administración               Administración             Negocios   \n",
              "2588     Administración               Administración             Negocios   \n",
              "2590     Administración               Administración             Negocios   \n",
              "2592     Administración               Administración             Negocios   \n",
              "\n",
              "          Vacante  Avance  Semestres Totales  Evaluados Si/No  \\\n",
              "0     Practicante       7               10.0                1   \n",
              "1     Practicante       6                9.0                1   \n",
              "2     Profesional       8                9.0                0   \n",
              "3     Practicante       6                9.0                1   \n",
              "4     Practicante       7               10.0                1   \n",
              "...           ...     ...                ...              ...   \n",
              "2586  Practicante       6               10.0                0   \n",
              "2587  Practicante       6               10.0                0   \n",
              "2588  Practicante       8               10.0                0   \n",
              "2590  Practicante       8               10.0                0   \n",
              "2592  Practicante       7               10.0                0   \n",
              "\n",
              "      Altamente Recomendado  Operaciones-Calidad  MTTO-DIMA  \\\n",
              "0                         1                    2          1   \n",
              "1                         1                    2          0   \n",
              "2                         0                    0          0   \n",
              "3                         1                    2          2   \n",
              "4                         0                    0          0   \n",
              "...                     ...                  ...        ...   \n",
              "2586                      0                    0          0   \n",
              "2587                      0                    0          0   \n",
              "2588                      0                    0          0   \n",
              "2590                      0                    0          0   \n",
              "2592                      0                    0          0   \n",
              "\n",
              "      Comercial-Planeamiento  DIGI-SC  Resto-Soft  Actividad Grupal.1  Ingles  \\\n",
              "0                          2        0           0                   5       2   \n",
              "1                          0        0           0                   5       2   \n",
              "2                          0        0           0                   0       1   \n",
              "3                          0        1           2                   5       2   \n",
              "4                          0        0           0                   0       1   \n",
              "...                      ...      ...         ...                 ...     ...   \n",
              "2586                       0        0           0                   0       1   \n",
              "2587                       0        0           0                   0       1   \n",
              "2588                       0        0           0                   0       1   \n",
              "2590                       0        0           0                   0       1   \n",
              "2592                       0        0           0                   0       1   \n",
              "\n",
              "      Destacado  Ingresados Si/No  \n",
              "0             1                 1  \n",
              "1             1                 0  \n",
              "2             0                 0  \n",
              "3             1                 1  \n",
              "4             0                 0  \n",
              "...         ...               ...  \n",
              "2586          0                 0  \n",
              "2587          0                 0  \n",
              "2588          0                 0  \n",
              "2590          0                 0  \n",
              "2592          0                 0  \n",
              "\n",
              "[2331 rows x 17 columns]"
            ],
            "text/html": [
              "\n",
              "  <div id=\"df-55936f33-3a7e-4a98-96d3-f032ad0ce0ad\">\n",
              "    <div class=\"colab-df-container\">\n",
              "      <div>\n",
              "<style scoped>\n",
              "    .dataframe tbody tr th:only-of-type {\n",
              "        vertical-align: middle;\n",
              "    }\n",
              "\n",
              "    .dataframe tbody tr th {\n",
              "        vertical-align: top;\n",
              "    }\n",
              "\n",
              "    .dataframe thead th {\n",
              "        text-align: right;\n",
              "    }\n",
              "</style>\n",
              "<table border=\"1\" class=\"dataframe\">\n",
              "  <thead>\n",
              "    <tr style=\"text-align: right;\">\n",
              "      <th></th>\n",
              "      <th>Carrera/Titulación</th>\n",
              "      <th>Carrera Gestional</th>\n",
              "      <th>Especialidad</th>\n",
              "      <th>Vacante</th>\n",
              "      <th>Avance</th>\n",
              "      <th>Semestres Totales</th>\n",
              "      <th>Evaluados Si/No</th>\n",
              "      <th>Altamente Recomendado</th>\n",
              "      <th>Operaciones-Calidad</th>\n",
              "      <th>MTTO-DIMA</th>\n",
              "      <th>Comercial-Planeamiento</th>\n",
              "      <th>DIGI-SC</th>\n",
              "      <th>Resto-Soft</th>\n",
              "      <th>Actividad Grupal.1</th>\n",
              "      <th>Ingles</th>\n",
              "      <th>Destacado</th>\n",
              "      <th>Ingresados Si/No</th>\n",
              "    </tr>\n",
              "  </thead>\n",
              "  <tbody>\n",
              "    <tr>\n",
              "      <th>0</th>\n",
              "      <td>Ing. Industrial</td>\n",
              "      <td>Ing. Industrial</td>\n",
              "      <td>Ingenierías Target</td>\n",
              "      <td>Practicante</td>\n",
              "      <td>7</td>\n",
              "      <td>10.0</td>\n",
              "      <td>1</td>\n",
              "      <td>1</td>\n",
              "      <td>2</td>\n",
              "      <td>1</td>\n",
              "      <td>2</td>\n",
              "      <td>0</td>\n",
              "      <td>0</td>\n",
              "      <td>5</td>\n",
              "      <td>2</td>\n",
              "      <td>1</td>\n",
              "      <td>1</td>\n",
              "    </tr>\n",
              "    <tr>\n",
              "      <th>1</th>\n",
              "      <td>Ing. Industrial</td>\n",
              "      <td>Ing. Industrial</td>\n",
              "      <td>Ingenierías Target</td>\n",
              "      <td>Practicante</td>\n",
              "      <td>6</td>\n",
              "      <td>9.0</td>\n",
              "      <td>1</td>\n",
              "      <td>1</td>\n",
              "      <td>2</td>\n",
              "      <td>0</td>\n",
              "      <td>0</td>\n",
              "      <td>0</td>\n",
              "      <td>0</td>\n",
              "      <td>5</td>\n",
              "      <td>2</td>\n",
              "      <td>1</td>\n",
              "      <td>0</td>\n",
              "    </tr>\n",
              "    <tr>\n",
              "      <th>2</th>\n",
              "      <td>Ing. Industrial</td>\n",
              "      <td>Ing. Industrial</td>\n",
              "      <td>Ingenierías Target</td>\n",
              "      <td>Profesional</td>\n",
              "      <td>8</td>\n",
              "      <td>9.0</td>\n",
              "      <td>0</td>\n",
              "      <td>0</td>\n",
              "      <td>0</td>\n",
              "      <td>0</td>\n",
              "      <td>0</td>\n",
              "      <td>0</td>\n",
              "      <td>0</td>\n",
              "      <td>0</td>\n",
              "      <td>1</td>\n",
              "      <td>0</td>\n",
              "      <td>0</td>\n",
              "    </tr>\n",
              "    <tr>\n",
              "      <th>3</th>\n",
              "      <td>Ing. Mecatrónica</td>\n",
              "      <td>Ing. Mecatrónica/Electrónica</td>\n",
              "      <td>Ingenierías Target</td>\n",
              "      <td>Practicante</td>\n",
              "      <td>6</td>\n",
              "      <td>9.0</td>\n",
              "      <td>1</td>\n",
              "      <td>1</td>\n",
              "      <td>2</td>\n",
              "      <td>2</td>\n",
              "      <td>0</td>\n",
              "      <td>1</td>\n",
              "      <td>2</td>\n",
              "      <td>5</td>\n",
              "      <td>2</td>\n",
              "      <td>1</td>\n",
              "      <td>1</td>\n",
              "    </tr>\n",
              "    <tr>\n",
              "      <th>4</th>\n",
              "      <td>Comercio Exterior</td>\n",
              "      <td>Negocios Internacionales</td>\n",
              "      <td>Negocios</td>\n",
              "      <td>Practicante</td>\n",
              "      <td>7</td>\n",
              "      <td>10.0</td>\n",
              "      <td>1</td>\n",
              "      <td>0</td>\n",
              "      <td>0</td>\n",
              "      <td>0</td>\n",
              "      <td>0</td>\n",
              "      <td>0</td>\n",
              "      <td>0</td>\n",
              "      <td>0</td>\n",
              "      <td>1</td>\n",
              "      <td>0</td>\n",
              "      <td>0</td>\n",
              "    </tr>\n",
              "    <tr>\n",
              "      <th>...</th>\n",
              "      <td>...</td>\n",
              "      <td>...</td>\n",
              "      <td>...</td>\n",
              "      <td>...</td>\n",
              "      <td>...</td>\n",
              "      <td>...</td>\n",
              "      <td>...</td>\n",
              "      <td>...</td>\n",
              "      <td>...</td>\n",
              "      <td>...</td>\n",
              "      <td>...</td>\n",
              "      <td>...</td>\n",
              "      <td>...</td>\n",
              "      <td>...</td>\n",
              "      <td>...</td>\n",
              "      <td>...</td>\n",
              "      <td>...</td>\n",
              "    </tr>\n",
              "    <tr>\n",
              "      <th>2586</th>\n",
              "      <td>Administración</td>\n",
              "      <td>Administración</td>\n",
              "      <td>Negocios</td>\n",
              "      <td>Practicante</td>\n",
              "      <td>6</td>\n",
              "      <td>10.0</td>\n",
              "      <td>0</td>\n",
              "      <td>0</td>\n",
              "      <td>0</td>\n",
              "      <td>0</td>\n",
              "      <td>0</td>\n",
              "      <td>0</td>\n",
              "      <td>0</td>\n",
              "      <td>0</td>\n",
              "      <td>1</td>\n",
              "      <td>0</td>\n",
              "      <td>0</td>\n",
              "    </tr>\n",
              "    <tr>\n",
              "      <th>2587</th>\n",
              "      <td>Administración</td>\n",
              "      <td>Administración</td>\n",
              "      <td>Negocios</td>\n",
              "      <td>Practicante</td>\n",
              "      <td>6</td>\n",
              "      <td>10.0</td>\n",
              "      <td>0</td>\n",
              "      <td>0</td>\n",
              "      <td>0</td>\n",
              "      <td>0</td>\n",
              "      <td>0</td>\n",
              "      <td>0</td>\n",
              "      <td>0</td>\n",
              "      <td>0</td>\n",
              "      <td>1</td>\n",
              "      <td>0</td>\n",
              "      <td>0</td>\n",
              "    </tr>\n",
              "    <tr>\n",
              "      <th>2588</th>\n",
              "      <td>Administración</td>\n",
              "      <td>Administración</td>\n",
              "      <td>Negocios</td>\n",
              "      <td>Practicante</td>\n",
              "      <td>8</td>\n",
              "      <td>10.0</td>\n",
              "      <td>0</td>\n",
              "      <td>0</td>\n",
              "      <td>0</td>\n",
              "      <td>0</td>\n",
              "      <td>0</td>\n",
              "      <td>0</td>\n",
              "      <td>0</td>\n",
              "      <td>0</td>\n",
              "      <td>1</td>\n",
              "      <td>0</td>\n",
              "      <td>0</td>\n",
              "    </tr>\n",
              "    <tr>\n",
              "      <th>2590</th>\n",
              "      <td>Administración</td>\n",
              "      <td>Administración</td>\n",
              "      <td>Negocios</td>\n",
              "      <td>Practicante</td>\n",
              "      <td>8</td>\n",
              "      <td>10.0</td>\n",
              "      <td>0</td>\n",
              "      <td>0</td>\n",
              "      <td>0</td>\n",
              "      <td>0</td>\n",
              "      <td>0</td>\n",
              "      <td>0</td>\n",
              "      <td>0</td>\n",
              "      <td>0</td>\n",
              "      <td>1</td>\n",
              "      <td>0</td>\n",
              "      <td>0</td>\n",
              "    </tr>\n",
              "    <tr>\n",
              "      <th>2592</th>\n",
              "      <td>Administración</td>\n",
              "      <td>Administración</td>\n",
              "      <td>Negocios</td>\n",
              "      <td>Practicante</td>\n",
              "      <td>7</td>\n",
              "      <td>10.0</td>\n",
              "      <td>0</td>\n",
              "      <td>0</td>\n",
              "      <td>0</td>\n",
              "      <td>0</td>\n",
              "      <td>0</td>\n",
              "      <td>0</td>\n",
              "      <td>0</td>\n",
              "      <td>0</td>\n",
              "      <td>1</td>\n",
              "      <td>0</td>\n",
              "      <td>0</td>\n",
              "    </tr>\n",
              "  </tbody>\n",
              "</table>\n",
              "<p>2331 rows × 17 columns</p>\n",
              "</div>\n",
              "      <button class=\"colab-df-convert\" onclick=\"convertToInteractive('df-55936f33-3a7e-4a98-96d3-f032ad0ce0ad')\"\n",
              "              title=\"Convert this dataframe to an interactive table.\"\n",
              "              style=\"display:none;\">\n",
              "        \n",
              "  <svg xmlns=\"http://www.w3.org/2000/svg\" height=\"24px\"viewBox=\"0 0 24 24\"\n",
              "       width=\"24px\">\n",
              "    <path d=\"M0 0h24v24H0V0z\" fill=\"none\"/>\n",
              "    <path d=\"M18.56 5.44l.94 2.06.94-2.06 2.06-.94-2.06-.94-.94-2.06-.94 2.06-2.06.94zm-11 1L8.5 8.5l.94-2.06 2.06-.94-2.06-.94L8.5 2.5l-.94 2.06-2.06.94zm10 10l.94 2.06.94-2.06 2.06-.94-2.06-.94-.94-2.06-.94 2.06-2.06.94z\"/><path d=\"M17.41 7.96l-1.37-1.37c-.4-.4-.92-.59-1.43-.59-.52 0-1.04.2-1.43.59L10.3 9.45l-7.72 7.72c-.78.78-.78 2.05 0 2.83L4 21.41c.39.39.9.59 1.41.59.51 0 1.02-.2 1.41-.59l7.78-7.78 2.81-2.81c.8-.78.8-2.07 0-2.86zM5.41 20L4 18.59l7.72-7.72 1.47 1.35L5.41 20z\"/>\n",
              "  </svg>\n",
              "      </button>\n",
              "      \n",
              "  <style>\n",
              "    .colab-df-container {\n",
              "      display:flex;\n",
              "      flex-wrap:wrap;\n",
              "      gap: 12px;\n",
              "    }\n",
              "\n",
              "    .colab-df-convert {\n",
              "      background-color: #E8F0FE;\n",
              "      border: none;\n",
              "      border-radius: 50%;\n",
              "      cursor: pointer;\n",
              "      display: none;\n",
              "      fill: #1967D2;\n",
              "      height: 32px;\n",
              "      padding: 0 0 0 0;\n",
              "      width: 32px;\n",
              "    }\n",
              "\n",
              "    .colab-df-convert:hover {\n",
              "      background-color: #E2EBFA;\n",
              "      box-shadow: 0px 1px 2px rgba(60, 64, 67, 0.3), 0px 1px 3px 1px rgba(60, 64, 67, 0.15);\n",
              "      fill: #174EA6;\n",
              "    }\n",
              "\n",
              "    [theme=dark] .colab-df-convert {\n",
              "      background-color: #3B4455;\n",
              "      fill: #D2E3FC;\n",
              "    }\n",
              "\n",
              "    [theme=dark] .colab-df-convert:hover {\n",
              "      background-color: #434B5C;\n",
              "      box-shadow: 0px 1px 3px 1px rgba(0, 0, 0, 0.15);\n",
              "      filter: drop-shadow(0px 1px 2px rgba(0, 0, 0, 0.3));\n",
              "      fill: #FFFFFF;\n",
              "    }\n",
              "  </style>\n",
              "\n",
              "      <script>\n",
              "        const buttonEl =\n",
              "          document.querySelector('#df-55936f33-3a7e-4a98-96d3-f032ad0ce0ad button.colab-df-convert');\n",
              "        buttonEl.style.display =\n",
              "          google.colab.kernel.accessAllowed ? 'block' : 'none';\n",
              "\n",
              "        async function convertToInteractive(key) {\n",
              "          const element = document.querySelector('#df-55936f33-3a7e-4a98-96d3-f032ad0ce0ad');\n",
              "          const dataTable =\n",
              "            await google.colab.kernel.invokeFunction('convertToInteractive',\n",
              "                                                     [key], {});\n",
              "          if (!dataTable) return;\n",
              "\n",
              "          const docLinkHtml = 'Like what you see? Visit the ' +\n",
              "            '<a target=\"_blank\" href=https://colab.research.google.com/notebooks/data_table.ipynb>data table notebook</a>'\n",
              "            + ' to learn more about interactive tables.';\n",
              "          element.innerHTML = '';\n",
              "          dataTable['output_type'] = 'display_data';\n",
              "          await google.colab.output.renderOutput(dataTable, element);\n",
              "          const docLink = document.createElement('div');\n",
              "          docLink.innerHTML = docLinkHtml;\n",
              "          element.appendChild(docLink);\n",
              "        }\n",
              "      </script>\n",
              "    </div>\n",
              "  </div>\n",
              "  "
            ]
          },
          "metadata": {},
          "execution_count": 45
        }
      ]
    },
    {
      "cell_type": "code",
      "source": [
        "def conditions(s):\n",
        "  if (s['Altamente Recomendado'] == 19):\n",
        "    return 2\n",
        "  elif (s['Operaciones-Calidad']==2 or s['MTTO-DIMA']==2 or s['Comercial-Planeamiento']==2 or s['DIGI-SC']==2):\n",
        "    return 2\n",
        "  elif (s['Operaciones-Calidad']==1 or s['MTTO-DIMA']==1 or s['Comercial-Planeamiento']==1 or s['DIGI-SC']==1):\n",
        "    return 1\n",
        "  elif (s['Resto-Soft'] == 2):\n",
        "    return 1\n",
        "  elif (s['Operaciones-Calidad']==0 and s['MTTO-DIMA']==0 and s['Comercial-Planeamiento']==0 and s['DIGI-SC']==0):\n",
        "    return 0\n",
        "  elif (s['Actividad Grupal.1'] == 2):\n",
        "    return 2\n",
        "  elif (s['Actividad Grupal.1'] == 1):\n",
        "    return 1\n",
        "  elif (s['Actividad Grupal.1'] == 0):\n",
        "    return 0\n",
        "  elif (s['Ingles'] == 2):\n",
        "    return 2\n",
        "  elif (s['Ingles'] == 1):\n",
        "    return 1\n",
        "\n",
        "df['Apto'] = df.apply(conditions, axis=1)\n",
        "df.Apto.value_counts()"
      ],
      "metadata": {
        "colab": {
          "base_uri": "https://localhost:8080/"
        },
        "id": "-WATMTAB064W",
        "outputId": "c6674293-847f-4d5f-ae13-e7476aa8a354"
      },
      "execution_count": 46,
      "outputs": [
        {
          "output_type": "stream",
          "name": "stderr",
          "text": [
            "/usr/local/lib/python3.7/dist-packages/ipykernel_launcher.py:23: SettingWithCopyWarning: \n",
            "A value is trying to be set on a copy of a slice from a DataFrame.\n",
            "Try using .loc[row_indexer,col_indexer] = value instead\n",
            "\n",
            "See the caveats in the documentation: https://pandas.pydata.org/pandas-docs/stable/user_guide/indexing.html#returning-a-view-versus-a-copy\n"
          ]
        },
        {
          "output_type": "execute_result",
          "data": {
            "text/plain": [
              "0    1993\n",
              "2     233\n",
              "1     105\n",
              "Name: Apto, dtype: int64"
            ]
          },
          "metadata": {},
          "execution_count": 46
        }
      ]
    },
    {
      "cell_type": "code",
      "source": [
        "from matplotlib import pyplot as plt\n",
        "\n",
        "plt.hist(df['Apto'])"
      ],
      "metadata": {
        "colab": {
          "base_uri": "https://localhost:8080/",
          "height": 334
        },
        "id": "7d7lU3QjprnZ",
        "outputId": "8c04790d-1bd6-49c9-d70a-1df3d9ea7545"
      },
      "execution_count": 47,
      "outputs": [
        {
          "output_type": "execute_result",
          "data": {
            "text/plain": [
              "(array([1993.,    0.,    0.,    0.,    0.,  105.,    0.,    0.,    0.,\n",
              "         233.]),\n",
              " array([0. , 0.2, 0.4, 0.6, 0.8, 1. , 1.2, 1.4, 1.6, 1.8, 2. ]),\n",
              " <a list of 10 Patch objects>)"
            ]
          },
          "metadata": {},
          "execution_count": 47
        },
        {
          "output_type": "display_data",
          "data": {
            "text/plain": [
              "<Figure size 432x288 with 1 Axes>"
            ],
            "image/png": "[encoded data removed]"
          },
          "metadata": {
            "needs_background": "light"
          }
        }
      ]
    },
    {
      "cell_type": "code",
      "source": [
        "df['Apto suma'] = df['Altamente Recomendado'] + df['Operaciones-Calidad'] + df['MTTO-DIMA'] + df['Comercial-Planeamiento'] + df['DIGI-SC'] + df['Actividad Grupal.1'] + df['Ingles']\n",
        "df"
      ],
      "metadata": {
        "id": "Y2DSZAtReuNp",
        "colab": {
          "base_uri": "https://localhost:8080/",
          "height": 676
        },
        "outputId": "250db0e5-f505-4735-c084-405fc39d654f"
      },
      "execution_count": 48,
      "outputs": [
        {
          "output_type": "stream",
          "name": "stderr",
          "text": [
            "/usr/local/lib/python3.7/dist-packages/ipykernel_launcher.py:1: SettingWithCopyWarning: \n",
            "A value is trying to be set on a copy of a slice from a DataFrame.\n",
            "Try using .loc[row_indexer,col_indexer] = value instead\n",
            "\n",
            "See the caveats in the documentation: https://pandas.pydata.org/pandas-docs/stable/user_guide/indexing.html#returning-a-view-versus-a-copy\n",
            "  \"\"\"Entry point for launching an IPython kernel.\n"
          ]
        },
        {
          "output_type": "execute_result",
          "data": {
            "text/plain": [
              "     Carrera/Titulación             Carrera Gestional        Especialidad  \\\n",
              "0       Ing. Industrial               Ing. Industrial  Ingenierías Target   \n",
              "1       Ing. Industrial               Ing. Industrial  Ingenierías Target   \n",
              "2       Ing. Industrial               Ing. Industrial  Ingenierías Target   \n",
              "3      Ing. Mecatrónica  Ing. Mecatrónica/Electrónica  Ingenierías Target   \n",
              "4     Comercio Exterior      Negocios Internacionales            Negocios   \n",
              "...                 ...                           ...                 ...   \n",
              "2586     Administración               Administración             Negocios   \n",
              "2587     Administración               Administración             Negocios   \n",
              "2588     Administración               Administración             Negocios   \n",
              "2590     Administración               Administración             Negocios   \n",
              "2592     Administración               Administración             Negocios   \n",
              "\n",
              "          Vacante  Avance  Semestres Totales  Evaluados Si/No  \\\n",
              "0     Practicante       7               10.0                1   \n",
              "1     Practicante       6                9.0                1   \n",
              "2     Profesional       8                9.0                0   \n",
              "3     Practicante       6                9.0                1   \n",
              "4     Practicante       7               10.0                1   \n",
              "...           ...     ...                ...              ...   \n",
              "2586  Practicante       6               10.0                0   \n",
              "2587  Practicante       6               10.0                0   \n",
              "2588  Practicante       8               10.0                0   \n",
              "2590  Practicante       8               10.0                0   \n",
              "2592  Practicante       7               10.0                0   \n",
              "\n",
              "      Altamente Recomendado  Operaciones-Calidad  MTTO-DIMA  \\\n",
              "0                         1                    2          1   \n",
              "1                         1                    2          0   \n",
              "2                         0                    0          0   \n",
              "3                         1                    2          2   \n",
              "4                         0                    0          0   \n",
              "...                     ...                  ...        ...   \n",
              "2586                      0                    0          0   \n",
              "2587                      0                    0          0   \n",
              "2588                      0                    0          0   \n",
              "2590                      0                    0          0   \n",
              "2592                      0                    0          0   \n",
              "\n",
              "      Comercial-Planeamiento  DIGI-SC  Resto-Soft  Actividad Grupal.1  Ingles  \\\n",
              "0                          2        0           0                   5       2   \n",
              "1                          0        0           0                   5       2   \n",
              "2                          0        0           0                   0       1   \n",
              "3                          0        1           2                   5       2   \n",
              "4                          0        0           0                   0       1   \n",
              "...                      ...      ...         ...                 ...     ...   \n",
              "2586                       0        0           0                   0       1   \n",
              "2587                       0        0           0                   0       1   \n",
              "2588                       0        0           0                   0       1   \n",
              "2590                       0        0           0                   0       1   \n",
              "2592                       0        0           0                   0       1   \n",
              "\n",
              "      Destacado  Ingresados Si/No  Apto  Apto suma  \n",
              "0             1                 1     2         13  \n",
              "1             1                 0     2         10  \n",
              "2             0                 0     0          1  \n",
              "3             1                 1     2         13  \n",
              "4             0                 0     0          1  \n",
              "...         ...               ...   ...        ...  \n",
              "2586          0                 0     0          1  \n",
              "2587          0                 0     0          1  \n",
              "2588          0                 0     0          1  \n",
              "2590          0                 0     0          1  \n",
              "2592          0                 0     0          1  \n",
              "\n",
              "[2331 rows x 19 columns]"
            ],
            "text/html": [
              "\n",
              "  <div id=\"df-91066629-87b6-4399-b048-1f6b091349ca\">\n",
              "    <div class=\"colab-df-container\">\n",
              "      <div>\n",
              "<style scoped>\n",
              "    .dataframe tbody tr th:only-of-type {\n",
              "        vertical-align: middle;\n",
              "    }\n",
              "\n",
              "    .dataframe tbody tr th {\n",
              "        vertical-align: top;\n",
              "    }\n",
              "\n",
              "    .dataframe thead th {\n",
              "        text-align: right;\n",
              "    }\n",
              "</style>\n",
              "<table border=\"1\" class=\"dataframe\">\n",
              "  <thead>\n",
              "    <tr style=\"text-align: right;\">\n",
              "      <th></th>\n",
              "      <th>Carrera/Titulación</th>\n",
              "      <th>Carrera Gestional</th>\n",
              "      <th>Especialidad</th>\n",
              "      <th>Vacante</th>\n",
              "      <th>Avance</th>\n",
              "      <th>Semestres Totales</th>\n",
              "      <th>Evaluados Si/No</th>\n",
              "      <th>Altamente Recomendado</th>\n",
              "      <th>Operaciones-Calidad</th>\n",
              "      <th>MTTO-DIMA</th>\n",
              "      <th>Comercial-Planeamiento</th>\n",
              "      <th>DIGI-SC</th>\n",
              "      <th>Resto-Soft</th>\n",
              "      <th>Actividad Grupal.1</th>\n",
              "      <th>Ingles</th>\n",
              "      <th>Destacado</th>\n",
              "      <th>Ingresados Si/No</th>\n",
              "      <th>Apto</th>\n",
              "      <th>Apto suma</th>\n",
              "    </tr>\n",
              "  </thead>\n",
              "  <tbody>\n",
              "    <tr>\n",
              "      <th>0</th>\n",
              "      <td>Ing. Industrial</td>\n",
              "      <td>Ing. Industrial</td>\n",
              "      <td>Ingenierías Target</td>\n",
              "      <td>Practicante</td>\n",
              "      <td>7</td>\n",
              "      <td>10.0</td>\n",
              "      <td>1</td>\n",
              "      <td>1</td>\n",
              "      <td>2</td>\n",
              "      <td>1</td>\n",
              "      <td>2</td>\n",
              "      <td>0</td>\n",
              "      <td>0</td>\n",
              "      <td>5</td>\n",
              "      <td>2</td>\n",
              "      <td>1</td>\n",
              "      <td>1</td>\n",
              "      <td>2</td>\n",
              "      <td>13</td>\n",
              "    </tr>\n",
              "    <tr>\n",
              "      <th>1</th>\n",
              "      <td>Ing. Industrial</td>\n",
              "      <td>Ing. Industrial</td>\n",
              "      <td>Ingenierías Target</td>\n",
              "      <td>Practicante</td>\n",
              "      <td>6</td>\n",
              "      <td>9.0</td>\n",
              "      <td>1</td>\n",
              "      <td>1</td>\n",
              "      <td>2</td>\n",
              "      <td>0</td>\n",
              "      <td>0</td>\n",
              "      <td>0</td>\n",
              "      <td>0</td>\n",
              "      <td>5</td>\n",
              "      <td>2</td>\n",
              "      <td>1</td>\n",
              "      <td>0</td>\n",
              "      <td>2</td>\n",
              "      <td>10</td>\n",
              "    </tr>\n",
              "    <tr>\n",
              "      <th>2</th>\n",
              "      <td>Ing. Industrial</td>\n",
              "      <td>Ing. Industrial</td>\n",
              "      <td>Ingenierías Target</td>\n",
              "      <td>Profesional</td>\n",
              "      <td>8</td>\n",
              "      <td>9.0</td>\n",
              "      <td>0</td>\n",
              "      <td>0</td>\n",
              "      <td>0</td>\n",
              "      <td>0</td>\n",
              "      <td>0</td>\n",
              "      <td>0</td>\n",
              "      <td>0</td>\n",
              "      <td>0</td>\n",
              "      <td>1</td>\n",
              "      <td>0</td>\n",
              "      <td>0</td>\n",
              "      <td>0</td>\n",
              "      <td>1</td>\n",
              "    </tr>\n",
              "    <tr>\n",
              "      <th>3</th>\n",
              "      <td>Ing. Mecatrónica</td>\n",
              "      <td>Ing. Mecatrónica/Electrónica</td>\n",
              "      <td>Ingenierías Target</td>\n",
              "      <td>Practicante</td>\n",
              "      <td>6</td>\n",
              "      <td>9.0</td>\n",
              "      <td>1</td>\n",
              "      <td>1</td>\n",
              "      <td>2</td>\n",
              "      <td>2</td>\n",
              "      <td>0</td>\n",
              "      <td>1</td>\n",
              "      <td>2</td>\n",
              "      <td>5</td>\n",
              "      <td>2</td>\n",
              "      <td>1</td>\n",
              "      <td>1</td>\n",
              "      <td>2</td>\n",
              "      <td>13</td>\n",
              "    </tr>\n",
              "    <tr>\n",
              "      <th>4</th>\n",
              "      <td>Comercio Exterior</td>\n",
              "      <td>Negocios Internacionales</td>\n",
              "      <td>Negocios</td>\n",
              "      <td>Practicante</td>\n",
              "      <td>7</td>\n",
              "      <td>10.0</td>\n",
              "      <td>1</td>\n",
              "      <td>0</td>\n",
              "      <td>0</td>\n",
              "      <td>0</td>\n",
              "      <td>0</td>\n",
              "      <td>0</td>\n",
              "      <td>0</td>\n",
              "      <td>0</td>\n",
              "      <td>1</td>\n",
              "      <td>0</td>\n",
              "      <td>0</td>\n",
              "      <td>0</td>\n",
              "      <td>1</td>\n",
              "    </tr>\n",
              "    <tr>\n",
              "      <th>...</th>\n",
              "      <td>...</td>\n",
              "      <td>...</td>\n",
              "      <td>...</td>\n",
              "      <td>...</td>\n",
              "      <td>...</td>\n",
              "      <td>...</td>\n",
              "      <td>...</td>\n",
              "      <td>...</td>\n",
              "      <td>...</td>\n",
              "      <td>...</td>\n",
              "      <td>...</td>\n",
              "      <td>...</td>\n",
              "      <td>...</td>\n",
              "      <td>...</td>\n",
              "      <td>...</td>\n",
              "      <td>...</td>\n",
              "      <td>...</td>\n",
              "      <td>...</td>\n",
              "      <td>...</td>\n",
              "    </tr>\n",
              "    <tr>\n",
              "      <th>2586</th>\n",
              "      <td>Administración</td>\n",
              "      <td>Administración</td>\n",
              "      <td>Negocios</td>\n",
              "      <td>Practicante</td>\n",
              "      <td>6</td>\n",
              "      <td>10.0</td>\n",
              "      <td>0</td>\n",
              "      <td>0</td>\n",
              "      <td>0</td>\n",
              "      <td>0</td>\n",
              "      <td>0</td>\n",
              "      <td>0</td>\n",
              "      <td>0</td>\n",
              "      <td>0</td>\n",
              "      <td>1</td>\n",
              "      <td>0</td>\n",
              "      <td>0</td>\n",
              "      <td>0</td>\n",
              "      <td>1</td>\n",
              "    </tr>\n",
              "    <tr>\n",
              "      <th>2587</th>\n",
              "      <td>Administración</td>\n",
              "      <td>Administración</td>\n",
              "      <td>Negocios</td>\n",
              "      <td>Practicante</td>\n",
              "      <td>6</td>\n",
              "      <td>10.0</td>\n",
              "      <td>0</td>\n",
              "      <td>0</td>\n",
              "      <td>0</td>\n",
              "      <td>0</td>\n",
              "      <td>0</td>\n",
              "      <td>0</td>\n",
              "      <td>0</td>\n",
              "      <td>0</td>\n",
              "      <td>1</td>\n",
              "      <td>0</td>\n",
              "      <td>0</td>\n",
              "      <td>0</td>\n",
              "      <td>1</td>\n",
              "    </tr>\n",
              "    <tr>\n",
              "      <th>2588</th>\n",
              "      <td>Administración</td>\n",
              "      <td>Administración</td>\n",
              "      <td>Negocios</td>\n",
              "      <td>Practicante</td>\n",
              "      <td>8</td>\n",
              "      <td>10.0</td>\n",
              "      <td>0</td>\n",
              "      <td>0</td>\n",
              "      <td>0</td>\n",
              "      <td>0</td>\n",
              "      <td>0</td>\n",
              "      <td>0</td>\n",
              "      <td>0</td>\n",
              "      <td>0</td>\n",
              "      <td>1</td>\n",
              "      <td>0</td>\n",
              "      <td>0</td>\n",
              "      <td>0</td>\n",
              "      <td>1</td>\n",
              "    </tr>\n",
              "    <tr>\n",
              "      <th>2590</th>\n",
              "      <td>Administración</td>\n",
              "      <td>Administración</td>\n",
              "      <td>Negocios</td>\n",
              "      <td>Practicante</td>\n",
              "      <td>8</td>\n",
              "      <td>10.0</td>\n",
              "      <td>0</td>\n",
              "      <td>0</td>\n",
              "      <td>0</td>\n",
              "      <td>0</td>\n",
              "      <td>0</td>\n",
              "      <td>0</td>\n",
              "      <td>0</td>\n",
              "      <td>0</td>\n",
              "      <td>1</td>\n",
              "      <td>0</td>\n",
              "      <td>0</td>\n",
              "      <td>0</td>\n",
              "      <td>1</td>\n",
              "    </tr>\n",
              "    <tr>\n",
              "      <th>2592</th>\n",
              "      <td>Administración</td>\n",
              "      <td>Administración</td>\n",
              "      <td>Negocios</td>\n",
              "      <td>Practicante</td>\n",
              "      <td>7</td>\n",
              "      <td>10.0</td>\n",
              "      <td>0</td>\n",
              "      <td>0</td>\n",
              "      <td>0</td>\n",
              "      <td>0</td>\n",
              "      <td>0</td>\n",
              "      <td>0</td>\n",
              "      <td>0</td>\n",
              "      <td>0</td>\n",
              "      <td>1</td>\n",
              "      <td>0</td>\n",
              "      <td>0</td>\n",
              "      <td>0</td>\n",
              "      <td>1</td>\n",
              "    </tr>\n",
              "  </tbody>\n",
              "</table>\n",
              "<p>2331 rows × 19 columns</p>\n",
              "</div>\n",
              "      <button class=\"colab-df-convert\" onclick=\"convertToInteractive('df-91066629-87b6-4399-b048-1f6b091349ca')\"\n",
              "              title=\"Convert this dataframe to an interactive table.\"\n",
              "              style=\"display:none;\">\n",
              "        \n",
              "  <svg xmlns=\"http://www.w3.org/2000/svg\" height=\"24px\"viewBox=\"0 0 24 24\"\n",
              "       width=\"24px\">\n",
              "    <path d=\"M0 0h24v24H0V0z\" fill=\"none\"/>\n",
              "    <path d=\"M18.56 5.44l.94 2.06.94-2.06 2.06-.94-2.06-.94-.94-2.06-.94 2.06-2.06.94zm-11 1L8.5 8.5l.94-2.06 2.06-.94-2.06-.94L8.5 2.5l-.94 2.06-2.06.94zm10 10l.94 2.06.94-2.06 2.06-.94-2.06-.94-.94-2.06-.94 2.06-2.06.94z\"/><path d=\"M17.41 7.96l-1.37-1.37c-.4-.4-.92-.59-1.43-.59-.52 0-1.04.2-1.43.59L10.3 9.45l-7.72 7.72c-.78.78-.78 2.05 0 2.83L4 21.41c.39.39.9.59 1.41.59.51 0 1.02-.2 1.41-.59l7.78-7.78 2.81-2.81c.8-.78.8-2.07 0-2.86zM5.41 20L4 18.59l7.72-7.72 1.47 1.35L5.41 20z\"/>\n",
              "  </svg>\n",
              "      </button>\n",
              "      \n",
              "  <style>\n",
              "    .colab-df-container {\n",
              "      display:flex;\n",
              "      flex-wrap:wrap;\n",
              "      gap: 12px;\n",
              "    }\n",
              "\n",
              "    .colab-df-convert {\n",
              "      background-color: #E8F0FE;\n",
              "      border: none;\n",
              "      border-radius: 50%;\n",
              "      cursor: pointer;\n",
              "      display: none;\n",
              "      fill: #1967D2;\n",
              "      height: 32px;\n",
              "      padding: 0 0 0 0;\n",
              "      width: 32px;\n",
              "    }\n",
              "\n",
              "    .colab-df-convert:hover {\n",
              "      background-color: #E2EBFA;\n",
              "      box-shadow: 0px 1px 2px rgba(60, 64, 67, 0.3), 0px 1px 3px 1px rgba(60, 64, 67, 0.15);\n",
              "      fill: #174EA6;\n",
              "    }\n",
              "\n",
              "    [theme=dark] .colab-df-convert {\n",
              "      background-color: #3B4455;\n",
              "      fill: #D2E3FC;\n",
              "    }\n",
              "\n",
              "    [theme=dark] .colab-df-convert:hover {\n",
              "      background-color: #434B5C;\n",
              "      box-shadow: 0px 1px 3px 1px rgba(0, 0, 0, 0.15);\n",
              "      filter: drop-shadow(0px 1px 2px rgba(0, 0, 0, 0.3));\n",
              "      fill: #FFFFFF;\n",
              "    }\n",
              "  </style>\n",
              "\n",
              "      <script>\n",
              "        const buttonEl =\n",
              "          document.querySelector('#df-91066629-87b6-4399-b048-1f6b091349ca button.colab-df-convert');\n",
              "        buttonEl.style.display =\n",
              "          google.colab.kernel.accessAllowed ? 'block' : 'none';\n",
              "\n",
              "        async function convertToInteractive(key) {\n",
              "          const element = document.querySelector('#df-91066629-87b6-4399-b048-1f6b091349ca');\n",
              "          const dataTable =\n",
              "            await google.colab.kernel.invokeFunction('convertToInteractive',\n",
              "                                                     [key], {});\n",
              "          if (!dataTable) return;\n",
              "\n",
              "          const docLinkHtml = 'Like what you see? Visit the ' +\n",
              "            '<a target=\"_blank\" href=https://colab.research.google.com/notebooks/data_table.ipynb>data table notebook</a>'\n",
              "            + ' to learn more about interactive tables.';\n",
              "          element.innerHTML = '';\n",
              "          dataTable['output_type'] = 'display_data';\n",
              "          await google.colab.output.renderOutput(dataTable, element);\n",
              "          const docLink = document.createElement('div');\n",
              "          docLink.innerHTML = docLinkHtml;\n",
              "          element.appendChild(docLink);\n",
              "        }\n",
              "      </script>\n",
              "    </div>\n",
              "  </div>\n",
              "  "
            ]
          },
          "metadata": {},
          "execution_count": 48
        }
      ]
    },
    {
      "cell_type": "code",
      "source": [
        "from matplotlib import pyplot as plt\n",
        "\n",
        "plt.hist(df['Apto suma'])"
      ],
      "metadata": {
        "colab": {
          "base_uri": "https://localhost:8080/",
          "height": 334
        },
        "id": "4JxCOjyMplId",
        "outputId": "b94111ed-4bb3-403d-cbaf-a4b4403b0da4"
      },
      "execution_count": 49,
      "outputs": [
        {
          "output_type": "execute_result",
          "data": {
            "text/plain": [
              "(array([2.071e+03, 1.700e+01, 1.120e+02, 4.400e+01, 2.800e+01, 3.200e+01,\n",
              "        1.000e+01, 1.200e+01, 4.000e+00, 1.000e+00]),\n",
              " array([ 1. ,  2.4,  3.8,  5.2,  6.6,  8. ,  9.4, 10.8, 12.2, 13.6, 15. ]),\n",
              " <a list of 10 Patch objects>)"
            ]
          },
          "metadata": {},
          "execution_count": 49
        },
        {
          "output_type": "display_data",
          "data": {
            "text/plain": [
              "<Figure size 432x288 with 1 Axes>"
            ],
            "image/png": "[encoded data removed]"
          },
          "metadata": {
            "needs_background": "light"
          }
        }
      ]
    },
    {
      "cell_type": "code",
      "source": [
        "df['Apto suma'].value_counts()"
      ],
      "metadata": {
        "id": "aJeW3k7WAMVB",
        "colab": {
          "base_uri": "https://localhost:8080/"
        },
        "outputId": "6de6e920-5489-43f0-c80c-a765db69d736"
      },
      "execution_count": 50,
      "outputs": [
        {
          "output_type": "execute_result",
          "data": {
            "text/plain": [
              "1     1997\n",
              "2       74\n",
              "4       69\n",
              "6       44\n",
              "5       43\n",
              "7       28\n",
              "3       17\n",
              "9       16\n",
              "8       16\n",
              "10      10\n",
              "12       6\n",
              "11       6\n",
              "13       4\n",
              "15       1\n",
              "Name: Apto suma, dtype: int64"
            ]
          },
          "metadata": {},
          "execution_count": 50
        }
      ]
    },
    {
      "cell_type": "code",
      "source": [
        "import seaborn as sns\n",
        "num = df.select_dtypes(include = [\"float64\", \"int64\"])\n",
        "sns.heatmap(df.corr(),cmap='BrBG')"
      ],
      "metadata": {
        "colab": {
          "base_uri": "https://localhost:8080/",
          "height": 402
        },
        "id": "MZzHEJrT5fMn",
        "outputId": "b09d7f91-a661-4229-86b9-ab7db26c22d5"
      },
      "execution_count": 51,
      "outputs": [
        {
          "output_type": "execute_result",
          "data": {
            "text/plain": [
              "<matplotlib.axes._subplots.AxesSubplot at 0x7fea211b3610>"
            ]
          },
          "metadata": {},
          "execution_count": 51
        },
        {
          "output_type": "display_data",
          "data": {
            "text/plain": [
              "<Figure size 432x288 with 2 Axes>"
            ],
            "image/png": "[encoded data removed]"
          },
          "metadata": {
            "needs_background": "light"
          }
        }
      ]
    },
    {
      "cell_type": "markdown",
      "source": [
        "# **ETAPA 3. GENERACIÓN DE MODELOS**"
      ],
      "metadata": {
        "id": "9jUiHFCiIOr_"
      }
    },
    {
      "cell_type": "markdown",
      "source": [
        "### Muestra la información general del set de datos a utilizar para la fase de modelación de datos.\n",
        "Incluye un resumen con la descripción de las variables relevantes para el análisis.\n"
      ],
      "metadata": {
        "id": "T6UJ2oVEFtYz"
      }
    },
    {
      "cell_type": "code",
      "source": [
        "df.describe()"
      ],
      "metadata": {
        "colab": {
          "base_uri": "https://localhost:8080/",
          "height": 361
        },
        "id": "uhVIB-ykHLgH",
        "outputId": "f6a2dc07-57de-4555-b98e-c661c8420238"
      },
      "execution_count": 52,
      "outputs": [
        {
          "output_type": "execute_result",
          "data": {
            "text/plain": [
              "            Avance  Semestres Totales  Evaluados Si/No  Altamente Recomendado  \\\n",
              "count  2331.000000        2331.000000      2331.000000            2331.000000   \n",
              "mean      8.436722           9.781639         0.213213               0.099957   \n",
              "std       2.057063           0.413223         0.409665               0.300007   \n",
              "min       5.000000           9.000000         0.000000               0.000000   \n",
              "25%       7.000000          10.000000         0.000000               0.000000   \n",
              "50%       8.000000          10.000000         0.000000               0.000000   \n",
              "75%      10.000000          10.000000         0.000000               0.000000   \n",
              "max      13.000000          10.000000         1.000000               1.000000   \n",
              "\n",
              "       Operaciones-Calidad    MTTO-DIMA  Comercial-Planeamiento      DIGI-SC  \\\n",
              "count          2331.000000  2331.000000             2331.000000  2331.000000   \n",
              "mean              0.096096     0.144573                0.071643     0.087516   \n",
              "std               0.398750     0.480646                0.350986     0.364843   \n",
              "min               0.000000     0.000000                0.000000     0.000000   \n",
              "25%               0.000000     0.000000                0.000000     0.000000   \n",
              "50%               0.000000     0.000000                0.000000     0.000000   \n",
              "75%               0.000000     0.000000                0.000000     0.000000   \n",
              "max               2.000000     2.000000                2.000000     2.000000   \n",
              "\n",
              "        Resto-Soft  Actividad Grupal.1       Ingles    Destacado  \\\n",
              "count  2331.000000         2331.000000  2331.000000  2331.000000   \n",
              "mean      0.108966            0.067782     1.030030     0.010725   \n",
              "std       0.410340            0.502906     0.170707     0.103027   \n",
              "min       0.000000            0.000000     1.000000     0.000000   \n",
              "25%       0.000000            0.000000     1.000000     0.000000   \n",
              "50%       0.000000            0.000000     1.000000     0.000000   \n",
              "75%       0.000000            0.000000     1.000000     0.000000   \n",
              "max       2.000000            5.000000     2.000000     1.000000   \n",
              "\n",
              "       Ingresados Si/No         Apto    Apto suma  \n",
              "count       2331.000000  2331.000000  2331.000000  \n",
              "mean           0.012441     0.244959     1.597598  \n",
              "std            0.110867     0.620511     1.787240  \n",
              "min            0.000000     0.000000     1.000000  \n",
              "25%            0.000000     0.000000     1.000000  \n",
              "50%            0.000000     0.000000     1.000000  \n",
              "75%            0.000000     0.000000     1.000000  \n",
              "max            1.000000     2.000000    15.000000  "
            ],
            "text/html": [
              "\n",
              "  <div id=\"df-a2c83cdc-35ac-4493-9a65-267460f0587e\">\n",
              "    <div class=\"colab-df-container\">\n",
              "      <div>\n",
              "<style scoped>\n",
              "    .dataframe tbody tr th:only-of-type {\n",
              "        vertical-align: middle;\n",
              "    }\n",
              "\n",
              "    .dataframe tbody tr th {\n",
              "        vertical-align: top;\n",
              "    }\n",
              "\n",
              "    .dataframe thead th {\n",
              "        text-align: right;\n",
              "    }\n",
              "</style>\n",
              "<table border=\"1\" class=\"dataframe\">\n",
              "  <thead>\n",
              "    <tr style=\"text-align: right;\">\n",
              "      <th></th>\n",
              "      <th>Avance</th>\n",
              "      <th>Semestres Totales</th>\n",
              "      <th>Evaluados Si/No</th>\n",
              "      <th>Altamente Recomendado</th>\n",
              "      <th>Operaciones-Calidad</th>\n",
              "      <th>MTTO-DIMA</th>\n",
              "      <th>Comercial-Planeamiento</th>\n",
              "      <th>DIGI-SC</th>\n",
              "      <th>Resto-Soft</th>\n",
              "      <th>Actividad Grupal.1</th>\n",
              "      <th>Ingles</th>\n",
              "      <th>Destacado</th>\n",
              "      <th>Ingresados Si/No</th>\n",
              "      <th>Apto</th>\n",
              "      <th>Apto suma</th>\n",
              "    </tr>\n",
              "  </thead>\n",
              "  <tbody>\n",
              "    <tr>\n",
              "      <th>count</th>\n",
              "      <td>2331.000000</td>\n",
              "      <td>2331.000000</td>\n",
              "      <td>2331.000000</td>\n",
              "      <td>2331.000000</td>\n",
              "      <td>2331.000000</td>\n",
              "      <td>2331.000000</td>\n",
              "      <td>2331.000000</td>\n",
              "      <td>2331.000000</td>\n",
              "      <td>2331.000000</td>\n",
              "      <td>2331.000000</td>\n",
              "      <td>2331.000000</td>\n",
              "      <td>2331.000000</td>\n",
              "      <td>2331.000000</td>\n",
              "      <td>2331.000000</td>\n",
              "      <td>2331.000000</td>\n",
              "    </tr>\n",
              "    <tr>\n",
              "      <th>mean</th>\n",
              "      <td>8.436722</td>\n",
              "      <td>9.781639</td>\n",
              "      <td>0.213213</td>\n",
              "      <td>0.099957</td>\n",
              "      <td>0.096096</td>\n",
              "      <td>0.144573</td>\n",
              "      <td>0.071643</td>\n",
              "      <td>0.087516</td>\n",
              "      <td>0.108966</td>\n",
              "      <td>0.067782</td>\n",
              "      <td>1.030030</td>\n",
              "      <td>0.010725</td>\n",
              "      <td>0.012441</td>\n",
              "      <td>0.244959</td>\n",
              "      <td>1.597598</td>\n",
              "    </tr>\n",
              "    <tr>\n",
              "      <th>std</th>\n",
              "      <td>2.057063</td>\n",
              "      <td>0.413223</td>\n",
              "      <td>0.409665</td>\n",
              "      <td>0.300007</td>\n",
              "      <td>0.398750</td>\n",
              "      <td>0.480646</td>\n",
              "      <td>0.350986</td>\n",
              "      <td>0.364843</td>\n",
              "      <td>0.410340</td>\n",
              "      <td>0.502906</td>\n",
              "      <td>0.170707</td>\n",
              "      <td>0.103027</td>\n",
              "      <td>0.110867</td>\n",
              "      <td>0.620511</td>\n",
              "      <td>1.787240</td>\n",
              "    </tr>\n",
              "    <tr>\n",
              "      <th>min</th>\n",
              "      <td>5.000000</td>\n",
              "      <td>9.000000</td>\n",
              "      <td>0.000000</td>\n",
              "      <td>0.000000</td>\n",
              "      <td>0.000000</td>\n",
              "      <td>0.000000</td>\n",
              "      <td>0.000000</td>\n",
              "      <td>0.000000</td>\n",
              "      <td>0.000000</td>\n",
              "      <td>0.000000</td>\n",
              "      <td>1.000000</td>\n",
              "      <td>0.000000</td>\n",
              "      <td>0.000000</td>\n",
              "      <td>0.000000</td>\n",
              "      <td>1.000000</td>\n",
              "    </tr>\n",
              "    <tr>\n",
              "      <th>25%</th>\n",
              "      <td>7.000000</td>\n",
              "      <td>10.000000</td>\n",
              "      <td>0.000000</td>\n",
              "      <td>0.000000</td>\n",
              "      <td>0.000000</td>\n",
              "      <td>0.000000</td>\n",
              "      <td>0.000000</td>\n",
              "      <td>0.000000</td>\n",
              "      <td>0.000000</td>\n",
              "      <td>0.000000</td>\n",
              "      <td>1.000000</td>\n",
              "      <td>0.000000</td>\n",
              "      <td>0.000000</td>\n",
              "      <td>0.000000</td>\n",
              "      <td>1.000000</td>\n",
              "    </tr>\n",
              "    <tr>\n",
              "      <th>50%</th>\n",
              "      <td>8.000000</td>\n",
              "      <td>10.000000</td>\n",
              "      <td>0.000000</td>\n",
              "      <td>0.000000</td>\n",
              "      <td>0.000000</td>\n",
              "      <td>0.000000</td>\n",
              "      <td>0.000000</td>\n",
              "      <td>0.000000</td>\n",
              "      <td>0.000000</td>\n",
              "      <td>0.000000</td>\n",
              "      <td>1.000000</td>\n",
              "      <td>0.000000</td>\n",
              "      <td>0.000000</td>\n",
              "      <td>0.000000</td>\n",
              "      <td>1.000000</td>\n",
              "    </tr>\n",
              "    <tr>\n",
              "      <th>75%</th>\n",
              "      <td>10.000000</td>\n",
              "      <td>10.000000</td>\n",
              "      <td>0.000000</td>\n",
              "      <td>0.000000</td>\n",
              "      <td>0.000000</td>\n",
              "      <td>0.000000</td>\n",
              "      <td>0.000000</td>\n",
              "      <td>0.000000</td>\n",
              "      <td>0.000000</td>\n",
              "      <td>0.000000</td>\n",
              "      <td>1.000000</td>\n",
              "      <td>0.000000</td>\n",
              "      <td>0.000000</td>\n",
              "      <td>0.000000</td>\n",
              "      <td>1.000000</td>\n",
              "    </tr>\n",
              "    <tr>\n",
              "      <th>max</th>\n",
              "      <td>13.000000</td>\n",
              "      <td>10.000000</td>\n",
              "      <td>1.000000</td>\n",
              "      <td>1.000000</td>\n",
              "      <td>2.000000</td>\n",
              "      <td>2.000000</td>\n",
              "      <td>2.000000</td>\n",
              "      <td>2.000000</td>\n",
              "      <td>2.000000</td>\n",
              "      <td>5.000000</td>\n",
              "      <td>2.000000</td>\n",
              "      <td>1.000000</td>\n",
              "      <td>1.000000</td>\n",
              "      <td>2.000000</td>\n",
              "      <td>15.000000</td>\n",
              "    </tr>\n",
              "  </tbody>\n",
              "</table>\n",
              "</div>\n",
              "      <button class=\"colab-df-convert\" onclick=\"convertToInteractive('df-a2c83cdc-35ac-4493-9a65-267460f0587e')\"\n",
              "              title=\"Convert this dataframe to an interactive table.\"\n",
              "              style=\"display:none;\">\n",
              "        \n",
              "  <svg xmlns=\"http://www.w3.org/2000/svg\" height=\"24px\"viewBox=\"0 0 24 24\"\n",
              "       width=\"24px\">\n",
              "    <path d=\"M0 0h24v24H0V0z\" fill=\"none\"/>\n",
              "    <path d=\"M18.56 5.44l.94 2.06.94-2.06 2.06-.94-2.06-.94-.94-2.06-.94 2.06-2.06.94zm-11 1L8.5 8.5l.94-2.06 2.06-.94-2.06-.94L8.5 2.5l-.94 2.06-2.06.94zm10 10l.94 2.06.94-2.06 2.06-.94-2.06-.94-.94-2.06-.94 2.06-2.06.94z\"/><path d=\"M17.41 7.96l-1.37-1.37c-.4-.4-.92-.59-1.43-.59-.52 0-1.04.2-1.43.59L10.3 9.45l-7.72 7.72c-.78.78-.78 2.05 0 2.83L4 21.41c.39.39.9.59 1.41.59.51 0 1.02-.2 1.41-.59l7.78-7.78 2.81-2.81c.8-.78.8-2.07 0-2.86zM5.41 20L4 18.59l7.72-7.72 1.47 1.35L5.41 20z\"/>\n",
              "  </svg>\n",
              "      </button>\n",
              "      \n",
              "  <style>\n",
              "    .colab-df-container {\n",
              "      display:flex;\n",
              "      flex-wrap:wrap;\n",
              "      gap: 12px;\n",
              "    }\n",
              "\n",
              "    .colab-df-convert {\n",
              "      background-color: #E8F0FE;\n",
              "      border: none;\n",
              "      border-radius: 50%;\n",
              "      cursor: pointer;\n",
              "      display: none;\n",
              "      fill: #1967D2;\n",
              "      height: 32px;\n",
              "      padding: 0 0 0 0;\n",
              "      width: 32px;\n",
              "    }\n",
              "\n",
              "    .colab-df-convert:hover {\n",
              "      background-color: #E2EBFA;\n",
              "      box-shadow: 0px 1px 2px rgba(60, 64, 67, 0.3), 0px 1px 3px 1px rgba(60, 64, 67, 0.15);\n",
              "      fill: #174EA6;\n",
              "    }\n",
              "\n",
              "    [theme=dark] .colab-df-convert {\n",
              "      background-color: #3B4455;\n",
              "      fill: #D2E3FC;\n",
              "    }\n",
              "\n",
              "    [theme=dark] .colab-df-convert:hover {\n",
              "      background-color: #434B5C;\n",
              "      box-shadow: 0px 1px 3px 1px rgba(0, 0, 0, 0.15);\n",
              "      filter: drop-shadow(0px 1px 2px rgba(0, 0, 0, 0.3));\n",
              "      fill: #FFFFFF;\n",
              "    }\n",
              "  </style>\n",
              "\n",
              "      <script>\n",
              "        const buttonEl =\n",
              "          document.querySelector('#df-a2c83cdc-35ac-4493-9a65-267460f0587e button.colab-df-convert');\n",
              "        buttonEl.style.display =\n",
              "          google.colab.kernel.accessAllowed ? 'block' : 'none';\n",
              "\n",
              "        async function convertToInteractive(key) {\n",
              "          const element = document.querySelector('#df-a2c83cdc-35ac-4493-9a65-267460f0587e');\n",
              "          const dataTable =\n",
              "            await google.colab.kernel.invokeFunction('convertToInteractive',\n",
              "                                                     [key], {});\n",
              "          if (!dataTable) return;\n",
              "\n",
              "          const docLinkHtml = 'Like what you see? Visit the ' +\n",
              "            '<a target=\"_blank\" href=https://colab.research.google.com/notebooks/data_table.ipynb>data table notebook</a>'\n",
              "            + ' to learn more about interactive tables.';\n",
              "          element.innerHTML = '';\n",
              "          dataTable['output_type'] = 'display_data';\n",
              "          await google.colab.output.renderOutput(dataTable, element);\n",
              "          const docLink = document.createElement('div');\n",
              "          docLink.innerHTML = docLinkHtml;\n",
              "          element.appendChild(docLink);\n",
              "        }\n",
              "      </script>\n",
              "    </div>\n",
              "  </div>\n",
              "  "
            ]
          },
          "metadata": {},
          "execution_count": 52
        }
      ]
    },
    {
      "cell_type": "markdown",
      "source": [
        "### Define la variable target, o de respuesta (dependiente) y las features o variables predictoras (independientes)\n"
      ],
      "metadata": {
        "id": "ycvKlGHPHnPH"
      }
    },
    {
      "cell_type": "code",
      "source": [
        "#Eliminar las variables categóricas \n",
        "# df = df.drop(['Carrera/Titulación', 'Carrera Gestional', 'Especialidad', 'Vacante'], axis=1)\n",
        "\n",
        "#La variable target es si el postulante es apto o no \n",
        "target = \"Ingresados Si/No\"\n",
        "y=df[target]\n",
        "#LAs variables dependeintes son todas las demas características que se involucran para la evaluación de la columna \"Apto\"\n",
        "X=df.drop(\"Ingresados Si/No\",axis=1)\n",
        "X"
      ],
      "metadata": {
        "colab": {
          "base_uri": "https://localhost:8080/",
          "height": 424
        },
        "id": "7DVxxtPNH3i1",
        "outputId": "9ff94c66-be59-4bac-94d3-7614ad8adc88"
      },
      "execution_count": 63,
      "outputs": [
        {
          "output_type": "execute_result",
          "data": {
            "text/plain": [
              "      Avance  Semestres Totales  Evaluados Si/No  Altamente Recomendado  \\\n",
              "0          7               10.0                1                      1   \n",
              "1          6                9.0                1                      1   \n",
              "2          8                9.0                0                      0   \n",
              "3          6                9.0                1                      1   \n",
              "4          7               10.0                1                      0   \n",
              "...      ...                ...              ...                    ...   \n",
              "2586       6               10.0                0                      0   \n",
              "2587       6               10.0                0                      0   \n",
              "2588       8               10.0                0                      0   \n",
              "2590       8               10.0                0                      0   \n",
              "2592       7               10.0                0                      0   \n",
              "\n",
              "      Operaciones-Calidad  MTTO-DIMA  Comercial-Planeamiento  DIGI-SC  \\\n",
              "0                       2          1                       2        0   \n",
              "1                       2          0                       0        0   \n",
              "2                       0          0                       0        0   \n",
              "3                       2          2                       0        1   \n",
              "4                       0          0                       0        0   \n",
              "...                   ...        ...                     ...      ...   \n",
              "2586                    0          0                       0        0   \n",
              "2587                    0          0                       0        0   \n",
              "2588                    0          0                       0        0   \n",
              "2590                    0          0                       0        0   \n",
              "2592                    0          0                       0        0   \n",
              "\n",
              "      Resto-Soft  Actividad Grupal.1  Ingles  Destacado  Apto  Apto suma  \n",
              "0              0                   5       2          1     2         13  \n",
              "1              0                   5       2          1     2         10  \n",
              "2              0                   0       1          0     0          1  \n",
              "3              2                   5       2          1     2         13  \n",
              "4              0                   0       1          0     0          1  \n",
              "...          ...                 ...     ...        ...   ...        ...  \n",
              "2586           0                   0       1          0     0          1  \n",
              "2587           0                   0       1          0     0          1  \n",
              "2588           0                   0       1          0     0          1  \n",
              "2590           0                   0       1          0     0          1  \n",
              "2592           0                   0       1          0     0          1  \n",
              "\n",
              "[2331 rows x 14 columns]"
            ],
            "text/html": [
              "\n",
              "  <div id=\"df-0c4a23d6-458d-4bbf-af6a-a027000b6f25\">\n",
              "    <div class=\"colab-df-container\">\n",
              "      <div>\n",
              "<style scoped>\n",
              "    .dataframe tbody tr th:only-of-type {\n",
              "        vertical-align: middle;\n",
              "    }\n",
              "\n",
              "    .dataframe tbody tr th {\n",
              "        vertical-align: top;\n",
              "    }\n",
              "\n",
              "    .dataframe thead th {\n",
              "        text-align: right;\n",
              "    }\n",
              "</style>\n",
              "<table border=\"1\" class=\"dataframe\">\n",
              "  <thead>\n",
              "    <tr style=\"text-align: right;\">\n",
              "      <th></th>\n",
              "      <th>Avance</th>\n",
              "      <th>Semestres Totales</th>\n",
              "      <th>Evaluados Si/No</th>\n",
              "      <th>Altamente Recomendado</th>\n",
              "      <th>Operaciones-Calidad</th>\n",
              "      <th>MTTO-DIMA</th>\n",
              "      <th>Comercial-Planeamiento</th>\n",
              "      <th>DIGI-SC</th>\n",
              "      <th>Resto-Soft</th>\n",
              "      <th>Actividad Grupal.1</th>\n",
              "      <th>Ingles</th>\n",
              "      <th>Destacado</th>\n",
              "      <th>Apto</th>\n",
              "      <th>Apto suma</th>\n",
              "    </tr>\n",
              "  </thead>\n",
              "  <tbody>\n",
              "    <tr>\n",
              "      <th>0</th>\n",
              "      <td>7</td>\n",
              "      <td>10.0</td>\n",
              "      <td>1</td>\n",
              "      <td>1</td>\n",
              "      <td>2</td>\n",
              "      <td>1</td>\n",
              "      <td>2</td>\n",
              "      <td>0</td>\n",
              "      <td>0</td>\n",
              "      <td>5</td>\n",
              "      <td>2</td>\n",
              "      <td>1</td>\n",
              "      <td>2</td>\n",
              "      <td>13</td>\n",
              "    </tr>\n",
              "    <tr>\n",
              "      <th>1</th>\n",
              "      <td>6</td>\n",
              "      <td>9.0</td>\n",
              "      <td>1</td>\n",
              "      <td>1</td>\n",
              "      <td>2</td>\n",
              "      <td>0</td>\n",
              "      <td>0</td>\n",
              "      <td>0</td>\n",
              "      <td>0</td>\n",
              "      <td>5</td>\n",
              "      <td>2</td>\n",
              "      <td>1</td>\n",
              "      <td>2</td>\n",
              "      <td>10</td>\n",
              "    </tr>\n",
              "    <tr>\n",
              "      <th>2</th>\n",
              "      <td>8</td>\n",
              "      <td>9.0</td>\n",
              "      <td>0</td>\n",
              "      <td>0</td>\n",
              "      <td>0</td>\n",
              "      <td>0</td>\n",
              "      <td>0</td>\n",
              "      <td>0</td>\n",
              "      <td>0</td>\n",
              "      <td>0</td>\n",
              "      <td>1</td>\n",
              "      <td>0</td>\n",
              "      <td>0</td>\n",
              "      <td>1</td>\n",
              "    </tr>\n",
              "    <tr>\n",
              "      <th>3</th>\n",
              "      <td>6</td>\n",
              "      <td>9.0</td>\n",
              "      <td>1</td>\n",
              "      <td>1</td>\n",
              "      <td>2</td>\n",
              "      <td>2</td>\n",
              "      <td>0</td>\n",
              "      <td>1</td>\n",
              "      <td>2</td>\n",
              "      <td>5</td>\n",
              "      <td>2</td>\n",
              "      <td>1</td>\n",
              "      <td>2</td>\n",
              "      <td>13</td>\n",
              "    </tr>\n",
              "    <tr>\n",
              "      <th>4</th>\n",
              "      <td>7</td>\n",
              "      <td>10.0</td>\n",
              "      <td>1</td>\n",
              "      <td>0</td>\n",
              "      <td>0</td>\n",
              "      <td>0</td>\n",
              "      <td>0</td>\n",
              "      <td>0</td>\n",
              "      <td>0</td>\n",
              "      <td>0</td>\n",
              "      <td>1</td>\n",
              "      <td>0</td>\n",
              "      <td>0</td>\n",
              "      <td>1</td>\n",
              "    </tr>\n",
              "    <tr>\n",
              "      <th>...</th>\n",
              "      <td>...</td>\n",
              "      <td>...</td>\n",
              "      <td>...</td>\n",
              "      <td>...</td>\n",
              "      <td>...</td>\n",
              "      <td>...</td>\n",
              "      <td>...</td>\n",
              "      <td>...</td>\n",
              "      <td>...</td>\n",
              "      <td>...</td>\n",
              "      <td>...</td>\n",
              "      <td>...</td>\n",
              "      <td>...</td>\n",
              "      <td>...</td>\n",
              "    </tr>\n",
              "    <tr>\n",
              "      <th>2586</th>\n",
              "      <td>6</td>\n",
              "      <td>10.0</td>\n",
              "      <td>0</td>\n",
              "      <td>0</td>\n",
              "      <td>0</td>\n",
              "      <td>0</td>\n",
              "      <td>0</td>\n",
              "      <td>0</td>\n",
              "      <td>0</td>\n",
              "      <td>0</td>\n",
              "      <td>1</td>\n",
              "      <td>0</td>\n",
              "      <td>0</td>\n",
              "      <td>1</td>\n",
              "    </tr>\n",
              "    <tr>\n",
              "      <th>2587</th>\n",
              "      <td>6</td>\n",
              "      <td>10.0</td>\n",
              "      <td>0</td>\n",
              "      <td>0</td>\n",
              "      <td>0</td>\n",
              "      <td>0</td>\n",
              "      <td>0</td>\n",
              "      <td>0</td>\n",
              "      <td>0</td>\n",
              "      <td>0</td>\n",
              "      <td>1</td>\n",
              "      <td>0</td>\n",
              "      <td>0</td>\n",
              "      <td>1</td>\n",
              "    </tr>\n",
              "    <tr>\n",
              "      <th>2588</th>\n",
              "      <td>8</td>\n",
              "      <td>10.0</td>\n",
              "      <td>0</td>\n",
              "      <td>0</td>\n",
              "      <td>0</td>\n",
              "      <td>0</td>\n",
              "      <td>0</td>\n",
              "      <td>0</td>\n",
              "      <td>0</td>\n",
              "      <td>0</td>\n",
              "      <td>1</td>\n",
              "      <td>0</td>\n",
              "      <td>0</td>\n",
              "      <td>1</td>\n",
              "    </tr>\n",
              "    <tr>\n",
              "      <th>2590</th>\n",
              "      <td>8</td>\n",
              "      <td>10.0</td>\n",
              "      <td>0</td>\n",
              "      <td>0</td>\n",
              "      <td>0</td>\n",
              "      <td>0</td>\n",
              "      <td>0</td>\n",
              "      <td>0</td>\n",
              "      <td>0</td>\n",
              "      <td>0</td>\n",
              "      <td>1</td>\n",
              "      <td>0</td>\n",
              "      <td>0</td>\n",
              "      <td>1</td>\n",
              "    </tr>\n",
              "    <tr>\n",
              "      <th>2592</th>\n",
              "      <td>7</td>\n",
              "      <td>10.0</td>\n",
              "      <td>0</td>\n",
              "      <td>0</td>\n",
              "      <td>0</td>\n",
              "      <td>0</td>\n",
              "      <td>0</td>\n",
              "      <td>0</td>\n",
              "      <td>0</td>\n",
              "      <td>0</td>\n",
              "      <td>1</td>\n",
              "      <td>0</td>\n",
              "      <td>0</td>\n",
              "      <td>1</td>\n",
              "    </tr>\n",
              "  </tbody>\n",
              "</table>\n",
              "<p>2331 rows × 14 columns</p>\n",
              "</div>\n",
              "      <button class=\"colab-df-convert\" onclick=\"convertToInteractive('df-0c4a23d6-458d-4bbf-af6a-a027000b6f25')\"\n",
              "              title=\"Convert this dataframe to an interactive table.\"\n",
              "              style=\"display:none;\">\n",
              "        \n",
              "  <svg xmlns=\"http://www.w3.org/2000/svg\" height=\"24px\"viewBox=\"0 0 24 24\"\n",
              "       width=\"24px\">\n",
              "    <path d=\"M0 0h24v24H0V0z\" fill=\"none\"/>\n",
              "    <path d=\"M18.56 5.44l.94 2.06.94-2.06 2.06-.94-2.06-.94-.94-2.06-.94 2.06-2.06.94zm-11 1L8.5 8.5l.94-2.06 2.06-.94-2.06-.94L8.5 2.5l-.94 2.06-2.06.94zm10 10l.94 2.06.94-2.06 2.06-.94-2.06-.94-.94-2.06-.94 2.06-2.06.94z\"/><path d=\"M17.41 7.96l-1.37-1.37c-.4-.4-.92-.59-1.43-.59-.52 0-1.04.2-1.43.59L10.3 9.45l-7.72 7.72c-.78.78-.78 2.05 0 2.83L4 21.41c.39.39.9.59 1.41.59.51 0 1.02-.2 1.41-.59l7.78-7.78 2.81-2.81c.8-.78.8-2.07 0-2.86zM5.41 20L4 18.59l7.72-7.72 1.47 1.35L5.41 20z\"/>\n",
              "  </svg>\n",
              "      </button>\n",
              "      \n",
              "  <style>\n",
              "    .colab-df-container {\n",
              "      display:flex;\n",
              "      flex-wrap:wrap;\n",
              "      gap: 12px;\n",
              "    }\n",
              "\n",
              "    .colab-df-convert {\n",
              "      background-color: #E8F0FE;\n",
              "      border: none;\n",
              "      border-radius: 50%;\n",
              "      cursor: pointer;\n",
              "      display: none;\n",
              "      fill: #1967D2;\n",
              "      height: 32px;\n",
              "      padding: 0 0 0 0;\n",
              "      width: 32px;\n",
              "    }\n",
              "\n",
              "    .colab-df-convert:hover {\n",
              "      background-color: #E2EBFA;\n",
              "      box-shadow: 0px 1px 2px rgba(60, 64, 67, 0.3), 0px 1px 3px 1px rgba(60, 64, 67, 0.15);\n",
              "      fill: #174EA6;\n",
              "    }\n",
              "\n",
              "    [theme=dark] .colab-df-convert {\n",
              "      background-color: #3B4455;\n",
              "      fill: #D2E3FC;\n",
              "    }\n",
              "\n",
              "    [theme=dark] .colab-df-convert:hover {\n",
              "      background-color: #434B5C;\n",
              "      box-shadow: 0px 1px 3px 1px rgba(0, 0, 0, 0.15);\n",
              "      filter: drop-shadow(0px 1px 2px rgba(0, 0, 0, 0.3));\n",
              "      fill: #FFFFFF;\n",
              "    }\n",
              "  </style>\n",
              "\n",
              "      <script>\n",
              "        const buttonEl =\n",
              "          document.querySelector('#df-0c4a23d6-458d-4bbf-af6a-a027000b6f25 button.colab-df-convert');\n",
              "        buttonEl.style.display =\n",
              "          google.colab.kernel.accessAllowed ? 'block' : 'none';\n",
              "\n",
              "        async function convertToInteractive(key) {\n",
              "          const element = document.querySelector('#df-0c4a23d6-458d-4bbf-af6a-a027000b6f25');\n",
              "          const dataTable =\n",
              "            await google.colab.kernel.invokeFunction('convertToInteractive',\n",
              "                                                     [key], {});\n",
              "          if (!dataTable) return;\n",
              "\n",
              "          const docLinkHtml = 'Like what you see? Visit the ' +\n",
              "            '<a target=\"_blank\" href=https://colab.research.google.com/notebooks/data_table.ipynb>data table notebook</a>'\n",
              "            + ' to learn more about interactive tables.';\n",
              "          element.innerHTML = '';\n",
              "          dataTable['output_type'] = 'display_data';\n",
              "          await google.colab.output.renderOutput(dataTable, element);\n",
              "          const docLink = document.createElement('div');\n",
              "          docLink.innerHTML = docLinkHtml;\n",
              "          element.appendChild(docLink);\n",
              "        }\n",
              "      </script>\n",
              "    </div>\n",
              "  </div>\n",
              "  "
            ]
          },
          "metadata": {},
          "execution_count": 63
        }
      ]
    },
    {
      "cell_type": "markdown",
      "source": [
        "### Define qué tipos de modelos debes utilizar, de regresión ó de clasificación. Justifica tu respuesta.\n",
        "\n",
        "El tipo de modelos que se utilizarán serán supervisados puesto que la base de datos con la que contamos se encuentra etiquetada. De igual manera, un clasificador es aquel algoritmo el cuál recibe como entrada cierta información de un objeto, y el output indica la categoría o clase a la que pertenece de entre un número acotado de clases posibles, en este caso, nuestro modelo recibirá como entrada distintas características del perfil de cada participante y en la salida indicará la categoría entre apto y no apto. \n"
      ],
      "metadata": {
        "id": "bRLKgXifIjKo"
      }
    },
    {
      "cell_type": "markdown",
      "source": [
        "### Define el dataset para entrenamiento y prueba.\n"
      ],
      "metadata": {
        "id": "no1XJBOyJ4dJ"
      }
    },
    {
      "cell_type": "code",
      "source": [
        "from sklearn.model_selection import train_test_split\n",
        "\n",
        "#Se sepaan los datos del dataset en entrenamiento y prueba para probar los algoritmos\n",
        "X_train, X_test, y_train, y_test = train_test_split(X, y, test_size=0.2)"
      ],
      "metadata": {
        "id": "StoPsZuLJ1Tz"
      },
      "execution_count": 64,
      "outputs": []
    },
    {
      "cell_type": "markdown",
      "source": [
        "### Prueba todos los modelos de clasificación vistos en clase para generar predicciones. Al utilizar árboles de decisión, genera también la imagen del mismo."
      ],
      "metadata": {
        "id": "OrYc9eIlKOTP"
      }
    },
    {
      "cell_type": "code",
      "source": [
        "#K-NN\n",
        "\n",
        "#Defino el algoritmo a utilizar\n",
        "from sklearn.neighbors import KNeighborsClassifier\n",
        "algoritmo = KNeighborsClassifier(n_neighbors = 5, metric = 'minkowski', p = 2)\n",
        "#Entreno el modelo\n",
        "algoritmo.fit(X_train, y_train)\n",
        "#Realizo una predicción\n",
        "y_pred = algoritmo.predict(X_test)\n",
        "y_pred\n",
        "\n",
        "#Contar valores de cada resultado \n",
        "y_pred=y_pred.tolist()\n",
        "for i in range(0,2):\n",
        "  print(str(i) + \": \" + str(y_pred.count(i)))"
      ],
      "metadata": {
        "colab": {
          "base_uri": "https://localhost:8080/"
        },
        "id": "Cre1eH0rMLqV",
        "outputId": "ab725ef3-558f-409c-cc55-efd276a69f69"
      },
      "execution_count": 65,
      "outputs": [
        {
          "output_type": "stream",
          "name": "stdout",
          "text": [
            "0: 462\n",
            "1: 5\n"
          ]
        }
      ]
    },
    {
      "cell_type": "code",
      "source": [
        "#Naive Bayes\n",
        "from sklearn.naive_bayes import GaussianNB\n",
        "algoritmo = GaussianNB()\n",
        "#Entreno el modelo\n",
        "algoritmo.fit(X_train, y_train)\n",
        "#Realizo una predicción\n",
        "y_pred = algoritmo.predict(X_test)\n",
        "y_pred\n",
        "\n",
        "#Contar valores de cada resultado \n",
        "y_pred=y_pred.tolist()\n",
        "for i in range(0,2):\n",
        "  print(str(i) + \": \" + str(y_pred.count(i)))"
      ],
      "metadata": {
        "colab": {
          "base_uri": "https://localhost:8080/"
        },
        "id": "lPS2DyqdOPgy",
        "outputId": "b69317b7-3e0d-445a-87cc-254a54a14ed1"
      },
      "execution_count": 70,
      "outputs": [
        {
          "output_type": "stream",
          "name": "stdout",
          "text": [
            "0: 434\n",
            "1: 33\n"
          ]
        }
      ]
    },
    {
      "cell_type": "code",
      "source": [
        "#SVC\n",
        "from sklearn.svm import SVC\n",
        "algoritmo = SVC(kernel = 'linear',probability = True)\n",
        "#Entreno el modelo\n",
        "algoritmo.fit(X_train, y_train)\n",
        "#Realizo una predicción\n",
        "y_pred = algoritmo.predict(X_test)\n",
        "\n",
        "#Contar valores de cada resultado \n",
        "y_pred=y_pred.tolist()\n",
        "for i in range(0,2):\n",
        "  print(str(i) + \": \" + str(y_pred.count(i)))"
      ],
      "metadata": {
        "colab": {
          "base_uri": "https://localhost:8080/"
        },
        "id": "6FcbzFiwSD-n",
        "outputId": "228c0c8e-5e3a-4804-a56d-5c73287f8dcf"
      },
      "execution_count": 73,
      "outputs": [
        {
          "output_type": "stream",
          "name": "stdout",
          "text": [
            "0: 462\n",
            "1: 5\n"
          ]
        }
      ]
    },
    {
      "cell_type": "code",
      "source": [
        "#Logistic Regression\n",
        "from sklearn.linear_model import LogisticRegression\n",
        "algoritmo = LogisticRegression(max_iter=10000)\n",
        "#Entreno el modelo\n",
        "algoritmo.fit(X_train, y_train)\n",
        "#Realizo una predicción\n",
        "y_pred = algoritmo.predict(X_test)\n",
        "\n",
        "#Contar valores de cada resultado \n",
        "y_pred=y_pred.tolist()\n",
        "for i in range(0,2):\n",
        "  print(str(i) + \": \" + str(y_pred.count(i)))"
      ],
      "metadata": {
        "colab": {
          "base_uri": "https://localhost:8080/"
        },
        "id": "HUPY06rUSI4Q",
        "outputId": "cf65bdad-c12a-4681-ba69-23315ccc51be"
      },
      "execution_count": 71,
      "outputs": [
        {
          "output_type": "stream",
          "name": "stdout",
          "text": [
            "0: 462\n",
            "1: 5\n"
          ]
        }
      ]
    },
    {
      "cell_type": "code",
      "source": [
        "#Arboles de decisión\n",
        "from sklearn.tree import DecisionTreeClassifier\n",
        "algoritmo = DecisionTreeClassifier(criterion = 'entropy')\n",
        "#Entreno el modelo\n",
        "algoritmo.fit(X_train, y_train)\n",
        "#Realizo una predicción\n",
        "y_pred = algoritmo.predict(X_test)\n",
        "\n",
        "#Contar valores de cada resultado \n",
        "y_pred=y_pred.tolist()\n",
        "for i in range(0,2):\n",
        "  print(str(i) + \": \" + str(y_pred.count(i)))"
      ],
      "metadata": {
        "colab": {
          "base_uri": "https://localhost:8080/"
        },
        "id": "aZmxv3E2SLj1",
        "outputId": "74ffb363-e11c-4cad-9369-508ba77db6f4"
      },
      "execution_count": 72,
      "outputs": [
        {
          "output_type": "stream",
          "name": "stdout",
          "text": [
            "0: 462\n",
            "1: 5\n"
          ]
        }
      ]
    },
    {
      "cell_type": "code",
      "source": [
        "models.append(('MLP', MLPClassifier(hidden_layer_sizes=(8,8,8), activation='relu', solver='adam', max_iter=1000)))"
      ],
      "metadata": {
        "id": "InmLFDVHH1Dm"
      },
      "execution_count": null,
      "outputs": []
    },
    {
      "cell_type": "code",
      "source": [
        "!pip install dtreeviz"
      ],
      "metadata": {
        "colab": {
          "base_uri": "https://localhost:8080/"
        },
        "id": "1gn3EcAYT1QS",
        "outputId": "02aa41ff-4c6c-4ab2-f885-96fad53fefd3"
      },
      "execution_count": 77,
      "outputs": [
        {
          "output_type": "stream",
          "name": "stdout",
          "text": [
            "Requirement already satisfied: dtreeviz in /usr/local/lib/python3.7/dist-packages (1.3.6)\n",
            "Requirement already satisfied: numpy in /usr/local/lib/python3.7/dist-packages (from dtreeviz) (1.21.6)\n",
            "Requirement already satisfied: matplotlib in /usr/local/lib/python3.7/dist-packages (from dtreeviz) (3.2.2)\n",
            "Requirement already satisfied: pandas in /usr/local/lib/python3.7/dist-packages (from dtreeviz) (1.3.5)\n",
            "Requirement already satisfied: colour in /usr/local/lib/python3.7/dist-packages (from dtreeviz) (0.1.5)\n",
            "Requirement already satisfied: graphviz>=0.9 in /usr/local/lib/python3.7/dist-packages (from dtreeviz) (0.10.1)\n",
            "Requirement already satisfied: pytest in /usr/local/lib/python3.7/dist-packages (from dtreeviz) (3.6.4)\n",
            "Requirement already satisfied: scikit-learn in /usr/local/lib/python3.7/dist-packages (from dtreeviz) (1.0.2)\n",
            "Requirement already satisfied: python-dateutil>=2.1 in /usr/local/lib/python3.7/dist-packages (from matplotlib->dtreeviz) (2.8.2)\n",
            "Requirement already satisfied: pyparsing!=2.0.4,!=2.1.2,!=2.1.6,>=2.0.1 in /usr/local/lib/python3.7/dist-packages (from matplotlib->dtreeviz) (3.0.8)\n",
            "Requirement already satisfied: kiwisolver>=1.0.1 in /usr/local/lib/python3.7/dist-packages (from matplotlib->dtreeviz) (1.4.2)\n",
            "Requirement already satisfied: cycler>=0.10 in /usr/local/lib/python3.7/dist-packages (from matplotlib->dtreeviz) (0.11.0)\n",
            "Requirement already satisfied: typing-extensions in /usr/local/lib/python3.7/dist-packages (from kiwisolver>=1.0.1->matplotlib->dtreeviz) (4.2.0)\n",
            "Requirement already satisfied: six>=1.5 in /usr/local/lib/python3.7/dist-packages (from python-dateutil>=2.1->matplotlib->dtreeviz) (1.15.0)\n",
            "Requirement already satisfied: pytz>=2017.3 in /usr/local/lib/python3.7/dist-packages (from pandas->dtreeviz) (2022.1)\n",
            "Requirement already satisfied: setuptools in /usr/local/lib/python3.7/dist-packages (from pytest->dtreeviz) (57.4.0)\n",
            "Requirement already satisfied: pluggy<0.8,>=0.5 in /usr/local/lib/python3.7/dist-packages (from pytest->dtreeviz) (0.7.1)\n",
            "Requirement already satisfied: atomicwrites>=1.0 in /usr/local/lib/python3.7/dist-packages (from pytest->dtreeviz) (1.4.0)\n",
            "Requirement already satisfied: attrs>=17.4.0 in /usr/local/lib/python3.7/dist-packages (from pytest->dtreeviz) (21.4.0)\n",
            "Requirement already satisfied: more-itertools>=4.0.0 in /usr/local/lib/python3.7/dist-packages (from pytest->dtreeviz) (8.12.0)\n",
            "Requirement already satisfied: py>=1.5.0 in /usr/local/lib/python3.7/dist-packages (from pytest->dtreeviz) (1.11.0)\n",
            "Requirement already satisfied: scipy>=1.1.0 in /usr/local/lib/python3.7/dist-packages (from scikit-learn->dtreeviz) (1.4.1)\n",
            "Requirement already satisfied: threadpoolctl>=2.0.0 in /usr/local/lib/python3.7/dist-packages (from scikit-learn->dtreeviz) (3.1.0)\n",
            "Requirement already satisfied: joblib>=0.11 in /usr/local/lib/python3.7/dist-packages (from scikit-learn->dtreeviz) (1.1.0)\n"
          ]
        }
      ]
    },
    {
      "cell_type": "code",
      "source": [
        "from dtreeviz.models.shadow_decision_tree import ShadowDecTree\n",
        "from dtreeviz.models.sklearn_decision_trees import ShadowSKDTree\n",
        "from dtreeviz import trees\n",
        "clf = y_pred\n",
        "model = clf.fit(X, y)\n",
        "viz = trees.dtreeviz(clf, X, y,\n",
        "                target_name=\"Ingresado\",\n",
        "                feature_names=X.columns,\n",
        "                class_names=list(df[target])\n",
        "                )"
      ],
      "metadata": {
        "id": "Y9-8Nnl7IjIK"
      },
      "execution_count": null,
      "outputs": []
    },
    {
      "cell_type": "code",
      "source": [
        "#Bosques Aleatorios\n",
        "from sklearn.ensemble import RandomForestClassifier\n",
        "algoritmo = RandomForestClassifier(n_estimators = 100, criterion = 'entropy')\n",
        "#Entreno el modelo\n",
        "algoritmo.fit(X_train, y_train)\n",
        "#Realizo una predicción\n",
        "y_pred = algoritmo.predict(X_test)\n",
        "\n",
        "#Contar valores de cada resultado \n",
        "y_pred=y_pred.tolist()\n",
        "for i in range(0,2):\n",
        "  print(str(i) + \": \" + str(y_pred.count(i)))"
      ],
      "metadata": {
        "colab": {
          "base_uri": "https://localhost:8080/"
        },
        "id": "ErbssGXLSZvF",
        "outputId": "046c0d7a-04a9-44c5-f72f-6f6fe9496f4c"
      },
      "execution_count": 79,
      "outputs": [
        {
          "output_type": "stream",
          "name": "stdout",
          "text": [
            "0: 462\n",
            "1: 5\n"
          ]
        }
      ]
    },
    {
      "cell_type": "markdown",
      "source": [
        "### Calcula y utiliza métricas para comparar los modelos: accuracy, matriz de confusión, precisión, sensitividad, especificidad, ROC-AUC"
      ],
      "metadata": {
        "id": "H-3Dqx_3UdOg"
      }
    },
    {
      "cell_type": "code",
      "source": [
        "#importar las librerías necesarias para probar los modelos\n",
        "from sklearn.neighbors import KNeighborsClassifier\n",
        "from sklearn.svm import SVC\n",
        "from sklearn.linear_model import LogisticRegression\n",
        "from sklearn.tree import DecisionTreeClassifier\n",
        "from sklearn.naive_bayes import GaussianNB\n",
        "from sklearn.ensemble import RandomForestClassifier\n",
        "from sklearn.ensemble import GradientBoostingClassifier\n",
        "from sklearn.neural_network import MLPClassifier\n",
        "\n",
        "#importar las librerias para las metricas\n",
        "from sklearn.model_selection import cross_val_score\n",
        "from sklearn import metrics\n",
        "from sklearn.metrics import accuracy_score\n",
        "from sklearn.metrics import classification_report,confusion_matrix\n",
        "from sklearn.metrics import roc_curve\n",
        "from sklearn.metrics import roc_auc_score"
      ],
      "metadata": {
        "id": "P3GT3G_PQOSG"
      },
      "execution_count": 107,
      "outputs": []
    },
    {
      "cell_type": "code",
      "source": [
        "#initialize the classifier models with their default parameters and add them to a model list.\n",
        "models = []\n",
        "models.append(('KNN', KNeighborsClassifier()))\n",
        "models.append(('SVC', SVC(probability= True)))\n",
        "models.append(('LR', LogisticRegression()))\n",
        "models.append(('DT', DecisionTreeClassifier()))\n",
        "models.append(('GNB', GaussianNB()))\n",
        "models.append(('RF', RandomForestClassifier()))\n",
        "#redes neuronales\n",
        "models.append(('MLP', MLPClassifier(hidden_layer_sizes=(8,8,8), activation='relu', solver='adam', max_iter=1000)))\n"
      ],
      "metadata": {
        "id": "h_o614WCUpdw"
      },
      "execution_count": 108,
      "outputs": []
    },
    {
      "cell_type": "code",
      "source": [
        "#confusion matrix and the confusion report results on the training data.\n",
        "from sklearn.metrics import classification_report,confusion_matrix\n",
        "from sklearn import metrics\n",
        "\n",
        "names = []\n",
        "scores = []\n",
        "matriz = []\n",
        "sensitividad=[]\n",
        "accuracy =[]\n",
        "precision = []\n",
        "especificidad=[]\n",
        "F1_Score=[]\n",
        "AUC = []\n",
        "\n",
        "\n",
        "#Ciclo para obtener las matrices de confusion y curvas ROC-AUC de todos los modelos \n",
        "for name, model in models:\n",
        "    model.fit(X_train, y_train)\n",
        "    y_pred = model.predict(X_test)\n",
        "    cfm = confusion_matrix(y_test, y_pred)\n",
        "    y_pred_prob =model.predict_proba(X_test)[:,1]\n",
        "    fpr, tpr, thresholds = metrics.roc_curve(y_test, y_pred_prob)\n",
        "    auc = metrics.roc_auc_score(y_test, y_pred_prob)\n",
        "\n",
        "\n",
        "    names.append(name)\n",
        "\n",
        "    print('************************Modelo actual: ', name, '********************')\n",
        "    print(\"Matriz de confusión: \\n\",cfm)\n",
        "    #\n",
        "    TP = cfm[1, 1]\n",
        "    TN = cfm[0, 0]\n",
        "    FP = cfm[0, 1]\n",
        "    FN = cfm[1, 0]\n",
        "\n",
        "    print(\"\\n\", classification_report(y_test, y_pred))\n",
        "    print(\"\\nSensitivity =\" ,TP / float(FN + TP) )\n",
        "    sensitividad.append(TP / float(FN + TP) )\n",
        "    print(\"Accuracy = \", accuracy_score(y_test, y_pred))\n",
        "    accuracy.append(accuracy_score(y_test, y_pred))\n",
        "    print(\"Precision = \", TP / float(TP + FP)) \n",
        "    precision.append(TP / float(TP + FP))\n",
        "    print(\"Especifividad = \", TN / (TN + FP))\n",
        "    especificidad.append(TN / (TN + FP))\n",
        "    print(\"F1 Score = \", metrics.f1_score(y_test, y_pred))\n",
        "    F1_Score.append( metrics.f1_score(y_test, y_pred))\n",
        "    print(\"AUC:\",auc )\n",
        "    AUC.append(auc)\n",
        "\n",
        "\n",
        "    plt.plot(fpr, tpr, label=name)\n",
        "    plt.legend()\n",
        "    plt.xlim([-0.1, 1.5])\n",
        "    plt.ylim([0.0, 1.2])\n",
        "    plt.rcParams['font.size'] = 12\n",
        "    plt.title('ROC curve for diabetes classifier')\n",
        "    plt.xlabel('False Positive Rate (1 - Specificity)')\n",
        "    plt.ylabel('True Positive Rate (Sensitivity)')\n",
        "\n",
        "    plt.grid(False)\n",
        "    plt.show()\n",
        "\n",
        "print(\"\\n\")\n",
        "tr_split = pd.DataFrame({'Name': names, \"Sensitividad\":sensitividad, \"Accuracy\":accuracy, \"Precision\": precision,\"Especificidad\":especificidad, \"F1 Score\":F1_Score, \"AUC\":AUC })\n",
        "print(tr_split)\n",
        "    "
      ],
      "metadata": {
        "colab": {
          "base_uri": "https://localhost:8080/",
          "height": 1000
        },
        "id": "XA31HXFSUusX",
        "outputId": "97bb8e87-7ae9-4fce-d16a-79e5f1f45eee"
      },
      "execution_count": 114,
      "outputs": [
        {
          "output_type": "stream",
          "name": "stdout",
          "text": [
            "************************Modelo actual:  KNN ********************\n",
            "Matriz de confusión: \n",
            " [[461   1]\n",
            " [  1   4]]\n",
            "\n",
            "               precision    recall  f1-score   support\n",
            "\n",
            "           0       1.00      1.00      1.00       462\n",
            "           1       0.80      0.80      0.80         5\n",
            "\n",
            "    accuracy                           1.00       467\n",
            "   macro avg       0.90      0.90      0.90       467\n",
            "weighted avg       1.00      1.00      1.00       467\n",
            "\n",
            "\n",
            "Sensitivity = 0.8\n",
            "Accuracy =  0.9957173447537473\n",
            "Precision =  0.8\n",
            "Especifividad =  0.9978354978354979\n",
            "F1 Score =  0.8000000000000002\n",
            "AUC: 0.897835497835498\n"
          ]
        },
        {
          "output_type": "display_data",
          "data": {
            "text/plain": [
              "<Figure size 432x288 with 1 Axes>"
            ],
            "image/png": "[encoded data removed]"
          },
          "metadata": {
            "needs_background": "light"
          }
        },
        {
          "output_type": "stream",
          "name": "stdout",
          "text": [
            "************************Modelo actual:  SVC ********************\n",
            "Matriz de confusión: \n",
            " [[460   2]\n",
            " [  1   4]]\n",
            "\n",
            "               precision    recall  f1-score   support\n",
            "\n",
            "           0       1.00      1.00      1.00       462\n",
            "           1       0.67      0.80      0.73         5\n",
            "\n",
            "    accuracy                           0.99       467\n",
            "   macro avg       0.83      0.90      0.86       467\n",
            "weighted avg       0.99      0.99      0.99       467\n",
            "\n",
            "\n",
            "Sensitivity = 0.8\n",
            "Accuracy =  0.9935760171306209\n",
            "Precision =  0.6666666666666666\n",
            "Especifividad =  0.9956709956709957\n",
            "F1 Score =  0.7272727272727272\n",
            "AUC: 0.9965367965367966\n"
          ]
        },
        {
          "output_type": "display_data",
          "data": {
            "text/plain": [
              "<Figure size 432x288 with 1 Axes>"
            ],
            "image/png": "[encoded data removed]"
          },
          "metadata": {
            "needs_background": "light"
          }
        },
        {
          "output_type": "stream",
          "name": "stdout",
          "text": [
            "************************Modelo actual:  LR ********************\n",
            "Matriz de confusión: \n",
            " [[461   1]\n",
            " [  1   4]]\n",
            "\n",
            "               precision    recall  f1-score   support\n",
            "\n",
            "           0       1.00      1.00      1.00       462\n",
            "           1       0.80      0.80      0.80         5\n",
            "\n",
            "    accuracy                           1.00       467\n",
            "   macro avg       0.90      0.90      0.90       467\n",
            "weighted avg       1.00      1.00      1.00       467\n",
            "\n",
            "\n",
            "Sensitivity = 0.8\n",
            "Accuracy =  0.9957173447537473\n",
            "Precision =  0.8\n",
            "Especifividad =  0.9978354978354979\n",
            "F1 Score =  0.8000000000000002\n",
            "AUC: 0.9874458874458875\n"
          ]
        },
        {
          "output_type": "display_data",
          "data": {
            "text/plain": [
              "<Figure size 432x288 with 1 Axes>"
            ],
            "image/png": "[encoded data removed]"
          },
          "metadata": {
            "needs_background": "light"
          }
        },
        {
          "output_type": "stream",
          "name": "stdout",
          "text": [
            "************************Modelo actual:  DT ********************\n",
            "Matriz de confusión: \n",
            " [[461   1]\n",
            " [  1   4]]\n",
            "\n",
            "               precision    recall  f1-score   support\n",
            "\n",
            "           0       1.00      1.00      1.00       462\n",
            "           1       0.80      0.80      0.80         5\n",
            "\n",
            "    accuracy                           1.00       467\n",
            "   macro avg       0.90      0.90      0.90       467\n",
            "weighted avg       1.00      1.00      1.00       467\n",
            "\n",
            "\n",
            "Sensitivity = 0.8\n",
            "Accuracy =  0.9957173447537473\n",
            "Precision =  0.8\n",
            "Especifividad =  0.9978354978354979\n",
            "F1 Score =  0.8000000000000002\n",
            "AUC: 0.898917748917749\n"
          ]
        },
        {
          "output_type": "display_data",
          "data": {
            "text/plain": [
              "<Figure size 432x288 with 1 Axes>"
            ],
            "image/png": "[encoded data removed]"
          },
          "metadata": {
            "needs_background": "light"
          }
        },
        {
          "output_type": "stream",
          "name": "stdout",
          "text": [
            "************************Modelo actual:  GNB ********************\n",
            "Matriz de confusión: \n",
            " [[434  28]\n",
            " [  0   5]]\n",
            "\n",
            "               precision    recall  f1-score   support\n",
            "\n",
            "           0       1.00      0.94      0.97       462\n",
            "           1       0.15      1.00      0.26         5\n",
            "\n",
            "    accuracy                           0.94       467\n",
            "   macro avg       0.58      0.97      0.62       467\n",
            "weighted avg       0.99      0.94      0.96       467\n",
            "\n",
            "\n",
            "Sensitivity = 1.0\n",
            "Accuracy =  0.9400428265524625\n",
            "Precision =  0.15151515151515152\n",
            "Especifividad =  0.9393939393939394\n",
            "F1 Score =  0.2631578947368421\n",
            "AUC: 0.9870129870129871\n"
          ]
        },
        {
          "output_type": "display_data",
          "data": {
            "text/plain": [
              "<Figure size 432x288 with 1 Axes>"
            ],
            "image/png": "[encoded data removed]"
          },
          "metadata": {
            "needs_background": "light"
          }
        },
        {
          "output_type": "stream",
          "name": "stdout",
          "text": [
            "************************Modelo actual:  RF ********************\n",
            "Matriz de confusión: \n",
            " [[461   1]\n",
            " [  1   4]]\n",
            "\n",
            "               precision    recall  f1-score   support\n",
            "\n",
            "           0       1.00      1.00      1.00       462\n",
            "           1       0.80      0.80      0.80         5\n",
            "\n",
            "    accuracy                           1.00       467\n",
            "   macro avg       0.90      0.90      0.90       467\n",
            "weighted avg       1.00      1.00      1.00       467\n",
            "\n",
            "\n",
            "Sensitivity = 0.8\n",
            "Accuracy =  0.9957173447537473\n",
            "Precision =  0.8\n",
            "Especifividad =  0.9978354978354979\n",
            "F1 Score =  0.8000000000000002\n",
            "AUC: 0.998051948051948\n"
          ]
        },
        {
          "output_type": "display_data",
          "data": {
            "text/plain": [
              "<Figure size 432x288 with 1 Axes>"
            ],
            "image/png": "[encoded data removed]"
          },
          "metadata": {
            "needs_background": "light"
          }
        },
        {
          "output_type": "stream",
          "name": "stdout",
          "text": [
            "************************Modelo actual:  MLP ********************\n",
            "Matriz de confusión: \n",
            " [[461   1]\n",
            " [  1   4]]\n",
            "\n",
            "               precision    recall  f1-score   support\n",
            "\n",
            "           0       1.00      1.00      1.00       462\n",
            "           1       0.80      0.80      0.80         5\n",
            "\n",
            "    accuracy                           1.00       467\n",
            "   macro avg       0.90      0.90      0.90       467\n",
            "weighted avg       1.00      1.00      1.00       467\n",
            "\n",
            "\n",
            "Sensitivity = 0.8\n",
            "Accuracy =  0.9957173447537473\n",
            "Precision =  0.8\n",
            "Especifividad =  0.9978354978354979\n",
            "F1 Score =  0.8000000000000002\n",
            "AUC: 0.9948051948051948\n"
          ]
        },
        {
          "output_type": "display_data",
          "data": {
            "text/plain": [
              "<Figure size 432x288 with 1 Axes>"
            ],
            "image/png": "[encoded data removed]"
          },
          "metadata": {
            "needs_background": "light"
          }
        },
        {
          "output_type": "stream",
          "name": "stdout",
          "text": [
            "\n",
            "\n",
            "  Name  Sensitividad  Accuracy  Precision  Especificidad  F1 Score       AUC\n",
            "0  KNN           0.8  0.995717   0.800000       0.997835  0.800000  0.897835\n",
            "1  SVC           0.8  0.993576   0.666667       0.995671  0.727273  0.996537\n",
            "2   LR           0.8  0.995717   0.800000       0.997835  0.800000  0.987446\n",
            "3   DT           0.8  0.995717   0.800000       0.997835  0.800000  0.898918\n",
            "4  GNB           1.0  0.940043   0.151515       0.939394  0.263158  0.987013\n",
            "5   RF           0.8  0.995717   0.800000       0.997835  0.800000  0.998052\n",
            "6  MLP           0.8  0.995717   0.800000       0.997835  0.800000  0.994805\n"
          ]
        }
      ]
    },
    {
      "cell_type": "markdown",
      "source": [
        "### **OVERSAMPLING**"
      ],
      "metadata": {
        "id": "4VFWGfD7SsKl"
      }
    },
    {
      "cell_type": "code",
      "source": [
        "from imblearn.over_sampling import RandomOverSampler\n",
        "ros = RandomOverSampler(random_state=888)\n",
        "X_resampled, y_resampled = ros.fit_resample(X,y)\n",
        "y_resampled.value_counts()"
      ],
      "metadata": {
        "colab": {
          "base_uri": "https://localhost:8080/"
        },
        "id": "6iC07ue9PfF_",
        "outputId": "55cd1a77-f83d-4e61-9802-70093737b387"
      },
      "execution_count": 115,
      "outputs": [
        {
          "output_type": "execute_result",
          "data": {
            "text/plain": [
              "1    2302\n",
              "0    2302\n",
              "Name: Ingresados Si/No, dtype: int64"
            ]
          },
          "metadata": {},
          "execution_count": 115
        }
      ]
    },
    {
      "cell_type": "code",
      "source": [
        "#confusion matrix and the confusion report results on the training data.\n",
        "from sklearn.metrics import classification_report,confusion_matrix\n",
        "from sklearn import metrics\n",
        "\n",
        "names = []\n",
        "scores = []\n",
        "matriz = []\n",
        "sensitividad=[]\n",
        "accuracy =[]\n",
        "precision = []\n",
        "especificidad=[]\n",
        "F1_Score=[]\n",
        "AUC = []\n",
        "\n",
        "\n",
        "#Ciclo para obtener las matrices de confusion y curvas ROC-AUC de todos los modelos \n",
        "for name, model in models:\n",
        "    model.fit(X_resampled, y_resampled)\n",
        "    y_pred = model.predict(X_test)\n",
        "    cfm = confusion_matrix(y_test, y_pred)\n",
        "    y_pred_prob =model.predict_proba(X_test)[:,1]\n",
        "    fpr, tpr, thresholds = metrics.roc_curve(y_test, y_pred_prob)\n",
        "    auc = metrics.roc_auc_score(y_test, y_pred_prob)\n",
        "\n",
        "\n",
        "    names.append(name)\n",
        "\n",
        "    print('************************Modelo actual: ', name, '********************')\n",
        "    print(\"Matriz de confusión: \\n\",cfm)\n",
        "    #\n",
        "    TP = cfm[1, 1]\n",
        "    TN = cfm[0, 0]\n",
        "    FP = cfm[0, 1]\n",
        "    FN = cfm[1, 0]\n",
        "\n",
        "    print(\"\\n\", classification_report(y_test, y_pred))\n",
        "    print(\"\\nSensitivity =\" ,TP / float(FN + TP) )\n",
        "    sensitividad.append(TP / float(FN + TP) )\n",
        "    print(\"Accuracy = \", accuracy_score(y_test, y_pred))\n",
        "    accuracy.append(accuracy_score(y_test, y_pred))\n",
        "    print(\"Precision = \", TP / float(TP + FP)) \n",
        "    precision.append(TP / float(TP + FP))\n",
        "    print(\"Especifividad = \", TN / (TN + FP))\n",
        "    especificidad.append(TN / (TN + FP))\n",
        "    print(\"F1 Score = \", metrics.f1_score(y_test, y_pred))\n",
        "    F1_Score.append( metrics.f1_score(y_test, y_pred))\n",
        "    print(\"AUC:\",auc )\n",
        "    AUC.append(auc)\n",
        "\n",
        "\n",
        "    plt.plot(fpr, tpr, label=name)\n",
        "    plt.legend()\n",
        "    plt.xlim([-0.1, 1.5])\n",
        "    plt.ylim([0.0, 1.2])\n",
        "    plt.rcParams['font.size'] = 12\n",
        "    plt.title('ROC curve for diabetes classifier')\n",
        "    plt.xlabel('False Positive Rate (1 - Specificity)')\n",
        "    plt.ylabel('True Positive Rate (Sensitivity)')\n",
        "\n",
        "    plt.grid(False)\n",
        "    plt.show()\n",
        "\n",
        "print(\"\\n\")\n",
        "tr_split = pd.DataFrame({'Name': names, \"Sensitividad\":sensitividad, \"Accuracy\":accuracy, \"Precision\": precision,\"Especificidad\":especificidad, \"F1 Score\":F1_Score, \"AUC\":AUC })\n",
        "print(tr_split)\n",
        "    "
      ],
      "metadata": {
        "id": "RPobKoDKS2OL"
      },
      "execution_count": null,
      "outputs": []
    },
    {
      "cell_type": "markdown",
      "source": [
        "### **AJUSTE DE HIPERPARÁMETROS DE LOS MODELOS Y VALIDACIÓN CRUZADA**\n",
        "\n",
        "Se evaluan, probando de nuevo los modelos considerando los ajustes realizados.\n"
      ],
      "metadata": {
        "id": "9TA3IPcZPc76"
      }
    },
    {
      "cell_type": "code",
      "source": [
        "from sklearn import decomposition, datasets\n",
        "from sklearn import tree\n",
        "from sklearn.pipeline import Pipeline\n",
        "from sklearn.model_selection import GridSearchCV\n",
        "from sklearn.preprocessing import StandardScaler"
      ],
      "metadata": {
        "id": "-sfWwUqrUTRc"
      },
      "execution_count": 118,
      "outputs": []
    },
    {
      "cell_type": "markdown",
      "source": [
        "**Decision Tree**"
      ],
      "metadata": {
        "id": "-4fq9YxcYqrM"
      }
    },
    {
      "cell_type": "code",
      "source": [
        "std_slc = StandardScaler()\n",
        "pca = decomposition.PCA()\n",
        "dec_tree = tree.DecisionTreeClassifier()"
      ],
      "metadata": {
        "id": "PulGHCpfUZ4D"
      },
      "execution_count": 140,
      "outputs": []
    },
    {
      "cell_type": "code",
      "source": [
        "pipe = Pipeline(steps=[('std_slc', std_slc),\n",
        "                           ('pca', pca),\n",
        "                           ('dec_tree', dec_tree)])\n",
        "\n",
        "n_components = list(range(1,X.shape[1]+1,1))\n",
        "\n",
        "criterion = ['gini', 'entropy']\n",
        "max_depth = [2,4,6,8,10,12]\n",
        "parameters = dict(pca__n_components=n_components,\n",
        "                    dec_tree__criterion=criterion,\n",
        "                    dec_tree__max_depth=max_depth)"
      ],
      "metadata": {
        "id": "U_HZpM55Ubpf"
      },
      "execution_count": 120,
      "outputs": []
    },
    {
      "cell_type": "code",
      "source": [
        "clf_GS = GridSearchCV(pipe, parameters)\n",
        "clf_GS.fit(X, y)"
      ],
      "metadata": {
        "colab": {
          "base_uri": "https://localhost:8080/"
        },
        "id": "Z8ii0m9CUe1o",
        "outputId": "24453df1-1f59-4633-acdc-b36782e7e764"
      },
      "execution_count": 121,
      "outputs": [
        {
          "output_type": "execute_result",
          "data": {
            "text/plain": [
              "GridSearchCV(estimator=Pipeline(steps=[('std_slc', StandardScaler()),\n",
              "                                       ('pca', PCA()),\n",
              "                                       ('dec_tree', DecisionTreeClassifier())]),\n",
              "             param_grid={'dec_tree__criterion': ['gini', 'entropy'],\n",
              "                         'dec_tree__max_depth': [2, 4, 6, 8, 10, 12],\n",
              "                         'pca__n_components': [1, 2, 3, 4, 5, 6, 7, 8, 9, 10,\n",
              "                                               11, 12, 13, 14]})"
            ]
          },
          "metadata": {},
          "execution_count": 121
        }
      ]
    },
    {
      "cell_type": "code",
      "source": [
        "print('Best Criterion:', clf_GS.best_estimator_.get_params()['dec_tree__criterion'])\n",
        "print('Best max_depth:', clf_GS.best_estimator_.get_params()['dec_tree__max_depth'])\n",
        "print('Best Number Of Components:', clf_GS.best_estimator_.get_params()['pca__n_components'])\n",
        "print(); print(clf_GS.best_estimator_.get_params()['dec_tree'])"
      ],
      "metadata": {
        "colab": {
          "base_uri": "https://localhost:8080/"
        },
        "id": "MGvPrdvhU5Vt",
        "outputId": "e91c604a-b2e2-4d86-e4dc-ff47c4efbe38"
      },
      "execution_count": 122,
      "outputs": [
        {
          "output_type": "stream",
          "name": "stdout",
          "text": [
            "Best Criterion: entropy\n",
            "Best max_depth: 2\n",
            "Best Number Of Components: 2\n",
            "\n",
            "DecisionTreeClassifier(criterion='entropy', max_depth=2)\n"
          ]
        }
      ]
    },
    {
      "cell_type": "code",
      "source": [
        "#Arboles de decisión\n",
        "from sklearn.tree import DecisionTreeClassifier\n",
        "model_dt = DecisionTreeClassifier(criterion='entropy', max_depth=2)\n",
        "#Entreno el modelo\n",
        "model_dt.fit(X_train, y_train)\n",
        "#Realizo una predicción\n",
        "y_pred = model_dt.predict(X_test)"
      ],
      "metadata": {
        "id": "22pWplz2U5zc"
      },
      "execution_count": 123,
      "outputs": []
    },
    {
      "cell_type": "code",
      "source": [
        "cfm = confusion_matrix(y_test, y_pred)\n",
        "print('---------------Modelo actual: DT ---------------')\n",
        "print(\"Matriz de confusión: \\n\",cfm)\n",
        "#\n",
        "TP = cfm[1, 1]\n",
        "TN = cfm[0, 0]\n",
        "FP = cfm[0, 1]\n",
        "FN = cfm[1, 0]\n",
        "\n",
        "print(\"\\n\", classification_report(y_test, y_pred))\n",
        "\n",
        "print(\"\\nSensitivity =\" ,TP / float(FN + TP) )\n",
        "print(\"Accuracy = \", accuracy_score(y_test, y_pred))\n",
        "print(\"Precision = \", TP / float(TP + FP)) \n",
        "print(\"Especificidad = \", TN / (TN + FP))\n",
        "\n",
        "y_pred_prod_pos = model_dt.predict_proba(X_test)[:,1]\n",
        "fpr, tpr, thresholds = roc_curve(y_test, y_pred_prod_pos)   \n",
        "print(\"ROC-AUC = \", roc_auc_score(y_test, y_pred_prod_pos))\n",
        "print(\"\\n\")\n",
        "\n",
        "fig = plt.figure()\n",
        "ax = fig.add_subplot(111)\n",
        "plt.plot(fpr, tpr)\n",
        "plt.xlabel('False Positive Rate (1 - Specificity)')\n",
        "plt.ylabel('True Positive Rate (Sensitivity)')\n",
        "plt.show()"
      ],
      "metadata": {
        "colab": {
          "base_uri": "https://localhost:8080/",
          "height": 666
        },
        "id": "GM3m_qThU-Ny",
        "outputId": "1a828342-7332-4c54-9394-9de3f5f11eba"
      },
      "execution_count": 124,
      "outputs": [
        {
          "output_type": "stream",
          "name": "stdout",
          "text": [
            "---------------Modelo actual: DT ---------------\n",
            "Matriz de confusión: \n",
            " [[461   1]\n",
            " [  1   4]]\n",
            "\n",
            "               precision    recall  f1-score   support\n",
            "\n",
            "           0       1.00      1.00      1.00       462\n",
            "           1       0.80      0.80      0.80         5\n",
            "\n",
            "    accuracy                           1.00       467\n",
            "   macro avg       0.90      0.90      0.90       467\n",
            "weighted avg       1.00      1.00      1.00       467\n",
            "\n",
            "\n",
            "Sensitivity = 0.8\n",
            "Accuracy =  0.9957173447537473\n",
            "Precision =  0.8\n",
            "Especificidad =  0.9978354978354979\n",
            "ROC-AUC =  0.9961038961038962\n",
            "\n",
            "\n"
          ]
        },
        {
          "output_type": "display_data",
          "data": {
            "text/plain": [
              "<Figure size 432x288 with 1 Axes>"
            ],
            "image/png": "[encoded data removed]"
          },
          "metadata": {
            "needs_background": "light"
          }
        }
      ]
    },
    {
      "cell_type": "markdown",
      "source": [
        "**Random Forest**"
      ],
      "metadata": {
        "id": "NtlUunL3Yv-Z"
      }
    },
    {
      "cell_type": "code",
      "source": [
        "rfc=RandomForestClassifier(random_state=42)\n",
        "param_grid = { \n",
        "    'n_estimators': [200, 500],\n",
        "    'max_features': ['auto', 'sqrt', 'log2'],\n",
        "    'max_depth' : [4,5,6,7,8],\n",
        "    'criterion' :['gini', 'entropy']\n",
        "}\n",
        "CV_rfc = GridSearchCV(estimator=rfc, param_grid=param_grid, cv= 5)\n",
        "CV_rfc.fit(X_train, y_train)"
      ],
      "metadata": {
        "colab": {
          "base_uri": "https://localhost:8080/"
        },
        "id": "e84a-_VrVCqP",
        "outputId": "31d732ea-0c0d-4f47-cd05-08c9beb87ca8"
      },
      "execution_count": 125,
      "outputs": [
        {
          "output_type": "execute_result",
          "data": {
            "text/plain": [
              "GridSearchCV(cv=5, estimator=RandomForestClassifier(random_state=42),\n",
              "             param_grid={'criterion': ['gini', 'entropy'],\n",
              "                         'max_depth': [4, 5, 6, 7, 8],\n",
              "                         'max_features': ['auto', 'sqrt', 'log2'],\n",
              "                         'n_estimators': [200, 500]})"
            ]
          },
          "metadata": {},
          "execution_count": 125
        }
      ]
    },
    {
      "cell_type": "code",
      "source": [
        "CV_rfc.best_params_"
      ],
      "metadata": {
        "colab": {
          "base_uri": "https://localhost:8080/"
        },
        "id": "2PP-MivKVJOO",
        "outputId": "c4c0b8e2-7463-4885-f2ca-3394d6ed0c26"
      },
      "execution_count": 126,
      "outputs": [
        {
          "output_type": "execute_result",
          "data": {
            "text/plain": [
              "{'criterion': 'gini',\n",
              " 'max_depth': 5,\n",
              " 'max_features': 'auto',\n",
              " 'n_estimators': 200}"
            ]
          },
          "metadata": {},
          "execution_count": 126
        }
      ]
    },
    {
      "cell_type": "code",
      "source": [
        "#Bosques Aleatorios\n",
        "from sklearn.ensemble import RandomForestClassifier\n",
        "model_rf = RandomForestClassifier(random_state=42, max_features='auto', \n",
        "                                  n_estimators= 200, max_depth=5, criterion='gini')\n",
        "#Entreno el modelo\n",
        "model_rf.fit(X_train, y_train)\n",
        "#Realizo una predicción\n",
        "y_pred = model_rf.predict(X_test)"
      ],
      "metadata": {
        "id": "NFTvfP8AVNac"
      },
      "execution_count": 127,
      "outputs": []
    },
    {
      "cell_type": "code",
      "source": [
        "cfm = confusion_matrix(y_test, y_pred)\n",
        "print('---------------Modelo actual: DT ---------------')\n",
        "print(\"Matriz de confusión: \\n\",cfm)\n",
        "#\n",
        "TP = cfm[1, 1]\n",
        "TN = cfm[0, 0]\n",
        "FP = cfm[0, 1]\n",
        "FN = cfm[1, 0]\n",
        "\n",
        "print(\"\\n\", classification_report(y_test, y_pred))\n",
        "\n",
        "print(\"\\nSensitivity =\" ,TP / float(FN + TP) )\n",
        "print(\"Accuracy = \", accuracy_score(y_test, y_pred))\n",
        "print(\"Precision = \", TP / float(TP + FP)) \n",
        "print(\"Especificidad = \", TN / (TN + FP))\n",
        "\n",
        "y_pred_prod_pos = model_dt.predict_proba(X_test)[:,1]\n",
        "fpr, tpr, thresholds = roc_curve(y_test, y_pred_prod_pos)   \n",
        "print(\"ROC-AUC = \", roc_auc_score(y_test, y_pred_prod_pos))\n",
        "print(\"\\n\")\n",
        "\n",
        "fig = plt.figure()\n",
        "ax = fig.add_subplot(111)\n",
        "plt.plot(fpr, tpr)\n",
        "plt.xlabel('False Positive Rate (1 - Specificity)')\n",
        "plt.ylabel('True Positive Rate (Sensitivity)')\n",
        "plt.show()"
      ],
      "metadata": {
        "colab": {
          "base_uri": "https://localhost:8080/",
          "height": 666
        },
        "id": "tpoXtZm_ZEv9",
        "outputId": "1a68b933-d7ae-4239-8e46-bb8f08e15164"
      },
      "execution_count": 128,
      "outputs": [
        {
          "output_type": "stream",
          "name": "stdout",
          "text": [
            "---------------Modelo actual: DT ---------------\n",
            "Matriz de confusión: \n",
            " [[461   1]\n",
            " [  1   4]]\n",
            "\n",
            "               precision    recall  f1-score   support\n",
            "\n",
            "           0       1.00      1.00      1.00       462\n",
            "           1       0.80      0.80      0.80         5\n",
            "\n",
            "    accuracy                           1.00       467\n",
            "   macro avg       0.90      0.90      0.90       467\n",
            "weighted avg       1.00      1.00      1.00       467\n",
            "\n",
            "\n",
            "Sensitivity = 0.8\n",
            "Accuracy =  0.9957173447537473\n",
            "Precision =  0.8\n",
            "Especificidad =  0.9978354978354979\n",
            "ROC-AUC =  0.9961038961038962\n",
            "\n",
            "\n"
          ]
        },
        {
          "output_type": "display_data",
          "data": {
            "text/plain": [
              "<Figure size 432x288 with 1 Axes>"
            ],
            "image/png": "[encoded data removed]"
          },
          "metadata": {
            "needs_background": "light"
          }
        }
      ]
    },
    {
      "cell_type": "markdown",
      "source": [
        "**Gradient Boosting**"
      ],
      "metadata": {
        "id": "O6IitRzsZIpL"
      }
    },
    {
      "cell_type": "code",
      "source": [
        "GB = GradientBoostingClassifier()\n",
        "parameters = {'learning_rate': [0.01,0.02,0.03,0.04],\n",
        "                  'subsample'    : [0.9, 0.5, 0.2, 0.1],\n",
        "                  'n_estimators' : [100,500,1000, 1500],\n",
        "                  'max_depth'    : [4,6,8,10]\n",
        "                 }"
      ],
      "metadata": {
        "id": "0UUP7PMiZE2q"
      },
      "execution_count": 129,
      "outputs": []
    },
    {
      "cell_type": "code",
      "source": [
        "grid_GB = GridSearchCV(estimator=GB, param_grid = parameters, cv = 2, n_jobs=-1)\n",
        "grid_GB.fit(X_train, y_train)"
      ],
      "metadata": {
        "colab": {
          "base_uri": "https://localhost:8080/"
        },
        "id": "xHrFeJSKZNpi",
        "outputId": "a8fe446c-5ed6-4ed6-e008-7bc12836d327"
      },
      "execution_count": 130,
      "outputs": [
        {
          "output_type": "execute_result",
          "data": {
            "text/plain": [
              "GridSearchCV(cv=2, estimator=GradientBoostingClassifier(), n_jobs=-1,\n",
              "             param_grid={'learning_rate': [0.01, 0.02, 0.03, 0.04],\n",
              "                         'max_depth': [4, 6, 8, 10],\n",
              "                         'n_estimators': [100, 500, 1000, 1500],\n",
              "                         'subsample': [0.9, 0.5, 0.2, 0.1]})"
            ]
          },
          "metadata": {},
          "execution_count": 130
        }
      ]
    },
    {
      "cell_type": "code",
      "source": [
        "print(\" Results from Grid Search \" )\n",
        "print(\"\\n The best estimator across ALL searched params:\\n\",grid_GB.best_estimator_)\n",
        "print(\"\\n The best score across ALL searched params:\\n\",grid_GB.best_score_)\n",
        "print(\"\\n The best parameters across ALL searched params:\\n\",grid_GB.best_params_)\n"
      ],
      "metadata": {
        "colab": {
          "base_uri": "https://localhost:8080/"
        },
        "id": "m3lxVWliZP58",
        "outputId": "2a158964-7673-4976-9906-932eb5b22635"
      },
      "execution_count": 131,
      "outputs": [
        {
          "output_type": "stream",
          "name": "stdout",
          "text": [
            " Results from Grid Search \n",
            "\n",
            " The best estimator across ALL searched params:\n",
            " GradientBoostingClassifier(learning_rate=0.04, max_depth=6, subsample=0.9)\n",
            "\n",
            " The best score across ALL searched params:\n",
            " 0.9983905579399142\n",
            "\n",
            " The best parameters across ALL searched params:\n",
            " {'learning_rate': 0.04, 'max_depth': 6, 'n_estimators': 100, 'subsample': 0.9}\n"
          ]
        }
      ]
    },
    {
      "cell_type": "code",
      "source": [
        "model_gb = GradientBoostingClassifier(learning_rate=0.04, max_depth=6, \n",
        "                                      subsample=0.9, n_estimators=100)\n",
        "model_gb.fit(X_train, y_train)\n",
        "\n",
        "y_pred = model_gb.predict(X_test)"
      ],
      "metadata": {
        "id": "IJgnsGaua3Kn"
      },
      "execution_count": 132,
      "outputs": []
    },
    {
      "cell_type": "code",
      "source": [
        "cfm = confusion_matrix(y_test, y_pred)\n",
        "print('---------------Modelo actual: DT ---------------')\n",
        "print(\"Matriz de confusión: \\n\",cfm)\n",
        "#\n",
        "TP = cfm[1, 1]\n",
        "TN = cfm[0, 0]\n",
        "FP = cfm[0, 1]\n",
        "FN = cfm[1, 0]\n",
        "\n",
        "print(\"\\n\", classification_report(y_test, y_pred))\n",
        "\n",
        "print(\"\\nSensitivity =\" ,TP / float(FN + TP) )\n",
        "print(\"Accuracy = \", accuracy_score(y_test, y_pred))\n",
        "print(\"Precision = \", TP / float(TP + FP)) \n",
        "print(\"Especificidad = \", TN / (TN + FP))\n",
        "\n",
        "y_pred_prod_pos = model_dt.predict_proba(X_test)[:,1]\n",
        "fpr, tpr, thresholds = roc_curve(y_test, y_pred_prod_pos)  \n",
        "print(\"ROC-AUC = \", roc_auc_score(y_test, y_pred_prod_pos))\n",
        "print(\"\\n\")\n",
        "\n",
        "cv = cross_val_score(model, X, y, cv=10)\n",
        "print(cv)\n",
        "\n",
        "\n",
        "fig = plt.figure()\n",
        "ax = fig.add_subplot(111)\n",
        "plt.plot(fpr, tpr)\n",
        "plt.xlabel('False Positive Rate (1 - Specificity)')\n",
        "plt.ylabel('True Positive Rate (Sensitivity)')\n",
        "plt.show()"
      ],
      "metadata": {
        "colab": {
          "base_uri": "https://localhost:8080/",
          "height": 684
        },
        "id": "b2LmAZVwa--F",
        "outputId": "f27d5a8b-57d1-4a82-e079-8089b9922bec"
      },
      "execution_count": 138,
      "outputs": [
        {
          "output_type": "stream",
          "name": "stdout",
          "text": [
            "---------------Modelo actual: DT ---------------\n",
            "Matriz de confusión: \n",
            " [[461   1]\n",
            " [  1   4]]\n",
            "\n",
            "               precision    recall  f1-score   support\n",
            "\n",
            "           0       1.00      1.00      1.00       462\n",
            "           1       0.80      0.80      0.80         5\n",
            "\n",
            "    accuracy                           1.00       467\n",
            "   macro avg       0.90      0.90      0.90       467\n",
            "weighted avg       1.00      1.00      1.00       467\n",
            "\n",
            "\n",
            "Sensitivity = 0.8\n",
            "Accuracy =  0.9957173447537473\n",
            "Precision =  0.8\n",
            "Especificidad =  0.9978354978354979\n",
            "ROC-AUC =  0.9961038961038962\n",
            "\n",
            "\n",
            "cv\n"
          ]
        },
        {
          "output_type": "display_data",
          "data": {
            "text/plain": [
              "<Figure size 432x288 with 1 Axes>"
            ],
            "image/png": "[encoded data removed]"
          },
          "metadata": {
            "needs_background": "light"
          }
        }
      ]
    },
    {
      "cell_type": "markdown",
      "source": [
        "**CONCLUSIÓN**\n",
        "\n",
        "Para esta etapa de generación de modelos de aprendizaje y evaluación de los mismos, se determinó, en primera instancia la variable target la cuál se decidió que fuera la de \"Ingresados Si/No\" en donde 1 representaba que el postulante si ingresó y 0 que no.\n",
        "\n",
        "Posteriormente se determinó que los modelos a utilizar serían de clasificación y se definió el dataset para entrenamiento y prueba, teniendo así 20% de entrenamiento y 80% para prueba. Ahora bien, para encontrar el modelo más óptimo se realizó una evaluación de los siguientes modelos: \n",
        "\n",
        "*   SVC\n",
        "*   LR\n",
        "*   DT\n",
        "*   GNB\n",
        "*   RF\n",
        "*   MLP\n",
        "\n",
        "Una vez evaluados estos modelos con diferentes métricas como: Acuracy, matriz de confusión, precisión, sensitividad, especificidad, ROC-AUC, nos dimos cuenta que los modelos más óptimos fueron los de Random Forest, Gradient Boosting, Decision Tree. \n",
        "\n",
        "De igual manera se realizó un ajuste de hiperparámetros de los modelos y se evaluaron nuevamente para visualizar los cambios posterirores a los ajustes realizados. Finalmente se realizó la validación cruzada para evitar el overfitting. \n",
        "\n",
        "\n",
        "\n",
        "\n",
        "\n",
        "\n"
      ],
      "metadata": {
        "id": "JFmfnQtPf4BA"
      }
    }
  ]
}